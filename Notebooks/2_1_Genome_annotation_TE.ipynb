{
 "cells": [
  {
   "cell_type": "markdown",
   "id": "c6fec5d8-e6e1-4656-a6ee-7c747afcaaa2",
   "metadata": {},
   "source": [
    "# 2-1-Genome_annotation_TEs \n",
    "Manuel Jara-Espejo$^{1}$\\\n",
    "Aboobaker lab, Department of Biology, University of Oxford\n",
    "\n",
    "## Contents of notebook\n",
    "1. Introduction\n",
    "2. Identification and annotation of repetitve elements in *Phaw5.1* assembly"
   ]
  },
  {
   "cell_type": "markdown",
   "id": "f658c0b6-1a87-49fe-b1ca-165faf3284b1",
   "metadata": {},
   "source": [
    "### 1. Introduction"
   ]
  },
  {
   "cell_type": "markdown",
   "id": "18a2ae6e-a872-42fc-bc6c-018b7acb6a17",
   "metadata": {},
   "source": [
    "### 2. Identification and annotation of repetitve elements in *Phaw5.1* assembly"
   ]
  },
  {
   "cell_type": "code",
   "execution_count": null,
   "id": "987bb7d9-72c3-403f-9cd1-0188346fc3d2",
   "metadata": {},
   "outputs": [],
   "source": [
    "%%bash\n",
    "#cd /drives/ssd1/manuel/phaw/2022_analysis/annotation/repetetive_elements/\n",
    "\n",
    "#Build database\n",
    "/drives/raid/AboobakerLab/software/RepeatModeler-2.0.2a/BuildDatabase -name phaw_sambaAsm.DB -engine rmblast /drives/ssd1/manuel/phaw/2022_analysis/phaw_gapfilling/TGS-GapCloser_anlysis/results_sambaAsm/change_scafNames/phaw_sambaAsm.scaff_seqs_editedScafNames.fa\n",
    "\n",
    "#Run RepeatModeler\n",
    "nohup /drives/raid/AboobakerLab/software/RepeatModeler-2.0.2a/RepeatModeler -database phaw_sambaAsm.DB -engine ncbi -pa 16 > repeatModeler.out 2>&1 & \n",
    "\n",
    "#Run Repeat Masking \n",
    "nohup /drives/raid/AboobakerLab/software/RepeatMasker/RepeatMasker -dir . -pa 16 -gff -lib ./RM_317837.MonJul41113502022/consensi.fa.classified  /drives/ssd1/manuel/phaw/2022_analysis/phaw_gapfilling/TGS-GapCloser_anlysis/results_sambaAsm/change_scafNames/phaw_sambaAsm.scaff_seqs_editedScafNames.fa > repeatMasking.out 2>&1 &"
   ]
  },
  {
   "cell_type": "code",
   "execution_count": 1,
   "id": "dc9f548a-edde-4b8f-92be-f4063c036c01",
   "metadata": {},
   "outputs": [
    {
     "name": "stdout",
     "output_type": "stream",
     "text": [
      "==================================================\n",
      "file name: phaw_sambaAsm.scaff_seqs_editedScafNames.fa\n",
      "sequences:        280585\n",
      "total length: 2823710058 bp  (2731003535 bp excl N/X-runs)\n",
      "GC level:         41.27 %\n",
      "bases masked: 1596874276 bp ( 56.55 %)\n",
      "==================================================\n",
      "               number of      length   percentage\n",
      "               elements*    occupied  of sequence\n",
      "--------------------------------------------------\n",
      "Retroelements       692645    358214746 bp   12.69 %\n",
      "   SINEs:                0            0 bp    0.00 %\n",
      "   Penelope         111526     45187488 bp    1.60 %\n",
      "   LINEs:           644713    332658947 bp   11.78 %\n",
      "    CRE/SLACS          738       477092 bp    0.02 %\n",
      "     L2/CR1/Rex     339488    193383413 bp    6.85 %\n",
      "     R1/LOA/Jockey   40331     21033146 bp    0.74 %\n",
      "     R2/R4/NeSL      10895      8043685 bp    0.28 %\n",
      "     RTE/Bov-B       16202      7741164 bp    0.27 %\n",
      "     L1/CIN4             0            0 bp    0.00 %\n",
      "   LTR elements:     47932     25555799 bp    0.91 %\n",
      "     BEL/Pao         12642      7527752 bp    0.27 %\n",
      "     Ty1/Copia        1681      1147177 bp    0.04 %\n",
      "     Gypsy/DIRS1     31870     15940860 bp    0.56 %\n",
      "       Retroviral        0            0 bp    0.00 %\n",
      "\n",
      "DNA transposons     315692    119447352 bp    4.23 %\n",
      "   hobo-Activator    42018     13228638 bp    0.47 %\n",
      "   Tc1-IS630-Pogo   232663     90035972 bp    3.19 %\n",
      "   En-Spm                0            0 bp    0.00 %\n",
      "   MuDR-IS905            0            0 bp    0.00 %\n",
      "   PiggyBac           5569      1796569 bp    0.06 %\n",
      "   Tourist/Harbinger  8346      1791726 bp    0.06 %\n",
      "   Other (Mirage,     3044      1121627 bp    0.04 %\n",
      "    P-element, Transib)\n",
      "\n",
      "Rolling-circles      40890      5050804 bp    0.18 %\n",
      "\n",
      "Unclassified:       4775697   1094222968 bp   38.75 %\n",
      "\n",
      "Total interspersed repeats:  1571885066 bp   55.67 %\n",
      "\n",
      "\n",
      "Small RNA:               0            0 bp    0.00 %\n",
      "\n",
      "Satellites:           4697       661328 bp    0.02 %\n",
      "Simple repeats:     323041     18416313 bp    0.65 %\n",
      "Low complexity:      17107       860765 bp    0.03 %\n",
      "==================================================\n",
      "\n",
      "* most repeats fragmented by insertions or deletions\n",
      "  have been counted as one element\n",
      "                                                      \n",
      "\n",
      "RepeatMasker version 4.1.2-p1 , default mode\n",
      "                                     \n",
      "run with rmblastn version 2.11.0+\n",
      "The query was compared to classified sequences in \".../consensi.fa.classified\"\n",
      "FamDB: \n"
     ]
    }
   ],
   "source": [
    "%%bash\n",
    "\n",
    "#Phaw5.1 repeatome - Output table with basic stats\n",
    "cat /drives/raid/AboobakerLab/manuel/data_phaw_analysis/repeats_gapFilledAsm/phaw_sambaAsm.scaff_seqs_editedScafNames.fa.tbl"
   ]
  },
  {
   "cell_type": "code",
   "execution_count": 3,
   "id": "5694f1ae-8bb6-442b-bc18-b7418cf79f73",
   "metadata": {},
   "outputs": [
    {
     "name": "stdout",
     "output_type": "stream",
     "text": [
      "##gff-version 2\n",
      "##date 2022-07-05\n",
      "##sequence-region phaw_sambaAsm.scaff_seqs_editedScafNames.fa\n",
      "Scaffold_100000_HRSCAF_104010\tRepeatMasker\tsimilarity\t2\t158\t10.2\t+\t.\tTarget \"Motif:rnd-5_family-509\" 1133 1293\n",
      "Scaffold_100000_HRSCAF_104010\tRepeatMasker\tsimilarity\t155\t512\t 3.6\t-\t.\tTarget \"Motif:rnd-1_family-797\" 98 455\n",
      "Scaffold_100001_HRSCAF_104011\tRepeatMasker\tsimilarity\t7\t338\t28.1\t+\t.\tTarget \"Motif:rnd-1_family-425\" 451 776\n",
      "Scaffold_100001_HRSCAF_104011\tRepeatMasker\tsimilarity\t336\t400\t 0.0\t+\t.\tTarget \"Motif:rnd-1_family-866\" 338 402\n",
      "Scaffold_100001_HRSCAF_104011\tRepeatMasker\tsimilarity\t400\t512\t 2.7\t-\t.\tTarget \"Motif:rnd-1_family-608\" 3645 3756\n",
      "Scaffold_100002_HRSCAF_104012\tRepeatMasker\tsimilarity\t1\t39\t 2.6\t+\t.\tTarget \"Motif:rnd-1_family-560\" 221 259\n",
      "Scaffold_100002_HRSCAF_104012\tRepeatMasker\tsimilarity\t44\t257\t 8.9\t+\t.\tTarget \"Motif:rnd-1_family-867\" 1 226\n"
     ]
    }
   ],
   "source": [
    "%%bash \n",
    "#Phaw5.1 repeatome - Output GTF annotation file\n",
    "cat /drives/raid/AboobakerLab/manuel/data_phaw_analysis/repeats_gapFilledAsm/phaw_sambaAsm.scaff_seqs_editedScafNames.fa.out.gff | head -10"
   ]
  },
  {
   "cell_type": "markdown",
   "id": "e7ea2419-7da9-4887-adae-c0ab2f3fffac",
   "metadata": {},
   "source": []
  }
 ],
 "metadata": {
  "kernelspec": {
   "display_name": "Python 3",
   "language": "python",
   "name": "python3"
  },
  "language_info": {
   "codemirror_mode": {
    "name": "ipython",
    "version": 3
   },
   "file_extension": ".py",
   "mimetype": "text/x-python",
   "name": "python",
   "nbconvert_exporter": "python",
   "pygments_lexer": "ipython3",
   "version": "3.9.2"
  }
 },
 "nbformat": 4,
 "nbformat_minor": 5
}
