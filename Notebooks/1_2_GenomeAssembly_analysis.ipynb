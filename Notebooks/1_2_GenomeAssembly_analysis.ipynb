{
 "cells": [
  {
   "cell_type": "markdown",
   "id": "c53fbacd-29d7-456a-a2f7-9f4c14153578",
   "metadata": {},
   "source": [
    "# 1-2-Assembly analysis\n",
    "Manuel Jara-Espejo$^{1}$\n",
    "\n",
    "Aboobaker lab, Department of Biology, University of Oxford\n",
    "\n",
    "## Contents of notebook\n",
    "\n",
    "1. Introduction \n",
    "2. Identify Gaps\n",
    "3. Run Assembly statistics\n",
    "4. Run busco\n",
    "5. Compare gap prevalence in Phaw5.0 and Phaw5.1"
   ]
  },
  {
   "cell_type": "markdown",
   "id": "ad71d14d-45d5-46ab-9e72-202e35d46779",
   "metadata": {},
   "source": [
    "## 1 Introduction"
   ]
  },
  {
   "cell_type": "markdown",
   "id": "7b38900d-fe88-41f5-b708-202eb7dc6d21",
   "metadata": {},
   "source": [
    "## 2. Identify gaps"
   ]
  },
  {
   "cell_type": "code",
   "execution_count": 1,
   "id": "3cff115d-dde8-40bd-8956-e910e695ba27",
   "metadata": {},
   "outputs": [
    {
     "name": "stdout",
     "output_type": "stream",
     "text": [
      "#Commands used to identify gaps in Phaw5.0 and Phaw5.1 assemblies\n",
      "##Command source: scaffoldgap2bed.py {genome} (https://github.com/lexnederbragt/sequencetools)\n",
      "\n",
      "##Run command on Phaw5.0\n",
      "nohup python3 /PATH/scaffoldgap2bed.py -i /drives/raid/AboobakerLab/manuel/data_phaw_analysis/phaw_reference/parhyale_hawaiensis_15Feb20182_1IWOV.fa -m 10 > parhyale_hawaiensis_15Feb20182_1IWOV.fa.bed &\n",
      "\n",
      "##Run command on Phaw5.1\n",
      "nohup python3 /PATH/scaffoldgap2bed.py -i /drives/ssd1/manuel/phaw/2022_analysis/phaw_gapfilling/TGS-GapCloser_anlysis/results_sambaAsm/change_scafNames/phaw_sambaAsm.scaff_seqs_editedScafNames.fa -m 10 > phaw_sambaAsm.scaff_seqs_editedScafNames.bed &\n",
      "\n",
      "Scaffold_2;HRSCAF=42\t1275\t3240\tgap\n",
      "Scaffold_2;HRSCAF=42\t3413\t3513\tgap\n",
      "Scaffold_3;HRSCAF=66\t7071\t7908\tgap\n",
      "Scaffold_3;HRSCAF=66\t8089\t8189\tgap\n",
      "Scaffold_7;HRSCAF=96\t994\t2691\tgap\n",
      "Scaffold_7;HRSCAF=96\t2823\t2923\tgap\n",
      "Scaffold_8;HRSCAF=132\t9503\t9952\tgap\n",
      "Scaffold_8;HRSCAF=132\t11420\t14944\tgap\n",
      "Scaffold_8;HRSCAF=132\t15854\t16800\tgap\n",
      "Scaffold_8;HRSCAF=132\t24426\t26912\tgap\n",
      "\n",
      "Scaffold_N1\t144507\t144607\tgap\n",
      "Scaffold_N1\t148787\t154627\tgap\n",
      "Scaffold_N1\t167611\t170185\tgap\n",
      "Scaffold_N1\t173247\t173347\tgap\n",
      "Scaffold_N1\t175029\t175129\tgap\n",
      "Scaffold_N1\t207639\t207739\tgap\n",
      "Scaffold_N1\t209236\t209336\tgap\n",
      "Scaffold_N1\t210546\t210646\tgap\n",
      "Scaffold_N1\t276678\t276778\tgap\n",
      "Scaffold_N1\t334303\t334403\tgap\n"
     ]
    }
   ],
   "source": [
    "%%bash\n",
    "\n",
    "cd ./scripts\n",
    "less 4_IdentifyGaps.sh\n",
    "\n",
    "#See gaps identified in Phaw5.0\n",
    "head /drives/ssd1/manuel/phaw/2022_analysis/phaw_gapfilling/TGS-GapCloser_anlysis/results_fullAsm_stats/parhyale_hawaiensis_15Feb20182_1IWOV.fa.bed\n",
    "\n",
    "echo \"\"\n",
    "\n",
    "#See gaps identified in Phaw5.1\n",
    "head /drives/ssd1/manuel/phaw/2022_analysis/phaw_gapfilling/TGS-GapCloser_anlysis/results_sambaAsm/phaw_sambaAsm.scaff_seqs_editedScafNames.bed"
   ]
  },
  {
   "cell_type": "markdown",
   "id": "dd5288d8-0f3c-4e3f-97ae-38123e93b089",
   "metadata": {},
   "source": [
    "## 3. Run Assembly statistics"
   ]
  },
  {
   "cell_type": "code",
   "execution_count": 3,
   "id": "ce32658a-2f21-43eb-84a1-4bb181e03ba2",
   "metadata": {},
   "outputs": [
    {
     "name": "stdout",
     "output_type": "stream",
     "text": [
      "#!/bin/bash \n",
      "\n",
      "#Commands used to obtain assembly statistics for Phaw5.0 and Phaw 5.1, including the intermediat assemblies generated\n",
      "\n",
      "##Run on reference assembly Phaw 5.0\n",
      "assembly-stats -t  /drives/raid/AboobakerLab/manuel/data_phaw_analysis/phaw_reference/parhyale_hawaiensis_15Feb20182_1IWOV.fa > parhyale_hawaiensis_15Feb20182_1IWOV.fa.fa_stats\n",
      "\n",
      "#Run on assembly after filling Phaw5.0 using Samba\n",
      "assembly-stats  -t /drives/ssd1/manuel/phaw/2022_analysis/asm_SAMBA_analysis/parhyale_hawaiensis_15Feb20182_1IWOV.fa.scaffolds.fa  > /drives/ssd1/manuel/phaw/2022_analysis/asm_SAMBA_analysis/parhyale_hawaiensis_15Feb20182_1IWOV.fa.scaffolds.fa\n",
      "\n",
      "#Run on assembly after filling Phaw5.0 using TGS-Gap-Closer\n",
      "assembly-stats  -t /drives/raid/AboobakerLab/manuel/data_phaw_analysis/asm_gap_filling/TGS-GapCloser_anlysis/wholeGenome_analysis/phaw_fullASm.scaff_seqs  > phaw_fullASm.scaff_seqs_stats\n",
      "\n",
      "##Run on updated assembly (Phaw5.1) after filling Phaw5.0 using Samba + TGS-Gap-Closer\n",
      "assembly-stats -t  /drives/raid/AboobakerLab/manuel/data_phaw_analysis/asm_gap_filling/TGS-GapCloser_anlysis/sambaAsm_analysis/phaw_sambaAsm.scaff_seqs > phaw_sambaAsm.scaff_seqs_stats\n"
     ]
    }
   ],
   "source": [
    "%%bash\n",
    "\n",
    "cd ./scripts\n",
    "less 5_run_assembly_stats.sh"
   ]
  },
  {
   "cell_type": "markdown",
   "id": "87640e0c-8093-4c28-8051-e2118961d717",
   "metadata": {},
   "source": [
    "### Print phaw5.0 stats"
   ]
  },
  {
   "cell_type": "code",
   "execution_count": 12,
   "id": "0d49fb0e-a156-48c8-8098-472b51f28952",
   "metadata": {},
   "outputs": [
    {
     "data": {
      "text/html": [
       "<div>\n",
       "<style scoped>\n",
       "    .dataframe tbody tr th:only-of-type {\n",
       "        vertical-align: middle;\n",
       "    }\n",
       "\n",
       "    .dataframe tbody tr th {\n",
       "        vertical-align: top;\n",
       "    }\n",
       "\n",
       "    .dataframe thead th {\n",
       "        text-align: right;\n",
       "    }\n",
       "</style>\n",
       "<table border=\"1\" class=\"dataframe\">\n",
       "  <thead>\n",
       "    <tr style=\"text-align: right;\">\n",
       "      <th></th>\n",
       "      <th>0</th>\n",
       "    </tr>\n",
       "  </thead>\n",
       "  <tbody>\n",
       "    <tr>\n",
       "      <th>filename</th>\n",
       "      <td>/drives/raid/AboobakerLab/manuel/data_phaw_ana...</td>\n",
       "    </tr>\n",
       "    <tr>\n",
       "      <th>total_length</th>\n",
       "      <td>2755851339</td>\n",
       "    </tr>\n",
       "    <tr>\n",
       "      <th>number</th>\n",
       "      <td>283876</td>\n",
       "    </tr>\n",
       "    <tr>\n",
       "      <th>mean_length</th>\n",
       "      <td>9707.94</td>\n",
       "    </tr>\n",
       "    <tr>\n",
       "      <th>longest</th>\n",
       "      <td>111408412</td>\n",
       "    </tr>\n",
       "    <tr>\n",
       "      <th>shortest</th>\n",
       "      <td>200</td>\n",
       "    </tr>\n",
       "    <tr>\n",
       "      <th>N_count</th>\n",
       "      <td>558775491</td>\n",
       "    </tr>\n",
       "    <tr>\n",
       "      <th>Gaps</th>\n",
       "      <td>408799</td>\n",
       "    </tr>\n",
       "    <tr>\n",
       "      <th>N50</th>\n",
       "      <td>53694927</td>\n",
       "    </tr>\n",
       "    <tr>\n",
       "      <th>N50n</th>\n",
       "      <td>19</td>\n",
       "    </tr>\n",
       "    <tr>\n",
       "      <th>N70</th>\n",
       "      <td>34722307</td>\n",
       "    </tr>\n",
       "    <tr>\n",
       "      <th>N70n</th>\n",
       "      <td>32</td>\n",
       "    </tr>\n",
       "    <tr>\n",
       "      <th>N90</th>\n",
       "      <td>234048</td>\n",
       "    </tr>\n",
       "    <tr>\n",
       "      <th>N90n</th>\n",
       "      <td>89</td>\n",
       "    </tr>\n",
       "  </tbody>\n",
       "</table>\n",
       "</div>"
      ],
      "text/plain": [
       "                                                              0\n",
       "filename      /drives/raid/AboobakerLab/manuel/data_phaw_ana...\n",
       "total_length                                         2755851339\n",
       "number                                                   283876\n",
       "mean_length                                             9707.94\n",
       "longest                                               111408412\n",
       "shortest                                                    200\n",
       "N_count                                               558775491\n",
       "Gaps                                                     408799\n",
       "N50                                                    53694927\n",
       "N50n                                                         19\n",
       "N70                                                    34722307\n",
       "N70n                                                         32\n",
       "N90                                                      234048\n",
       "N90n                                                         89"
      ]
     },
     "execution_count": 12,
     "metadata": {},
     "output_type": "execute_result"
    }
   ],
   "source": [
    "import pandas as pd\n",
    "\n",
    "asm_stats_phaw5_0 = pd.read_table(\"/drives/ssd1/manuel/phaw/2022_analysis/phaw_gapfilling/TGS-GapCloser_anlysis/results_fullAsm_stats/parhyale_hawaiensis_15Feb20182_1IWOV.fa.fa_stats\", sep=\"\\t\", header = 0)\n",
    "asm_stats_phaw5_0.transpose()"
   ]
  },
  {
   "cell_type": "markdown",
   "id": "8e92f424-abb7-4909-832e-2b95c80f37c7",
   "metadata": {},
   "source": [
    "### Print phaw5.1 stats"
   ]
  },
  {
   "cell_type": "code",
   "execution_count": 10,
   "id": "92f381da-3817-465c-9f4a-00e12f6899cf",
   "metadata": {},
   "outputs": [
    {
     "data": {
      "text/html": [
       "<div>\n",
       "<style scoped>\n",
       "    .dataframe tbody tr th:only-of-type {\n",
       "        vertical-align: middle;\n",
       "    }\n",
       "\n",
       "    .dataframe tbody tr th {\n",
       "        vertical-align: top;\n",
       "    }\n",
       "\n",
       "    .dataframe thead th {\n",
       "        text-align: right;\n",
       "    }\n",
       "</style>\n",
       "<table border=\"1\" class=\"dataframe\">\n",
       "  <thead>\n",
       "    <tr style=\"text-align: right;\">\n",
       "      <th></th>\n",
       "      <th>0</th>\n",
       "    </tr>\n",
       "  </thead>\n",
       "  <tbody>\n",
       "    <tr>\n",
       "      <th>filename</th>\n",
       "      <td>/drives/raid/AboobakerLab/manuel/data_phaw_ana...</td>\n",
       "    </tr>\n",
       "    <tr>\n",
       "      <th>total_length</th>\n",
       "      <td>2823710058</td>\n",
       "    </tr>\n",
       "    <tr>\n",
       "      <th>number</th>\n",
       "      <td>280585</td>\n",
       "    </tr>\n",
       "    <tr>\n",
       "      <th>mean_length</th>\n",
       "      <td>10063.65</td>\n",
       "    </tr>\n",
       "    <tr>\n",
       "      <th>longest</th>\n",
       "      <td>114006073</td>\n",
       "    </tr>\n",
       "    <tr>\n",
       "      <th>shortest</th>\n",
       "      <td>199</td>\n",
       "    </tr>\n",
       "    <tr>\n",
       "      <th>N_count</th>\n",
       "      <td>92739792</td>\n",
       "    </tr>\n",
       "    <tr>\n",
       "      <th>Gaps</th>\n",
       "      <td>108574</td>\n",
       "    </tr>\n",
       "    <tr>\n",
       "      <th>N50</th>\n",
       "      <td>54784699</td>\n",
       "    </tr>\n",
       "    <tr>\n",
       "      <th>N50n</th>\n",
       "      <td>20</td>\n",
       "    </tr>\n",
       "    <tr>\n",
       "      <th>N70</th>\n",
       "      <td>35596768</td>\n",
       "    </tr>\n",
       "    <tr>\n",
       "      <th>N70n</th>\n",
       "      <td>32</td>\n",
       "    </tr>\n",
       "    <tr>\n",
       "      <th>N90</th>\n",
       "      <td>153979</td>\n",
       "    </tr>\n",
       "    <tr>\n",
       "      <th>N90n</th>\n",
       "      <td>142</td>\n",
       "    </tr>\n",
       "  </tbody>\n",
       "</table>\n",
       "</div>"
      ],
      "text/plain": [
       "                                                              0\n",
       "filename      /drives/raid/AboobakerLab/manuel/data_phaw_ana...\n",
       "total_length                                         2823710058\n",
       "number                                                   280585\n",
       "mean_length                                            10063.65\n",
       "longest                                               114006073\n",
       "shortest                                                    199\n",
       "N_count                                                92739792\n",
       "Gaps                                                     108574\n",
       "N50                                                    54784699\n",
       "N50n                                                         20\n",
       "N70                                                    35596768\n",
       "N70n                                                         32\n",
       "N90                                                      153979\n",
       "N90n                                                        142"
      ]
     },
     "execution_count": 10,
     "metadata": {},
     "output_type": "execute_result"
    }
   ],
   "source": [
    "asm_stats_phaw5_1 = pd.read_table(\"/drives/ssd1/manuel/phaw/2022_analysis/phaw_gapfilling/TGS-GapCloser_anlysis/results_sambaAsm/phaw_sambaAsm.scaff_seqs_stats\", sep=\"\\t\", header = 0)\n",
    "asm_stats_phaw5_1.transpose()"
   ]
  },
  {
   "cell_type": "markdown",
   "id": "87514446-3441-4e7e-98d5-6c5c62afa04b",
   "metadata": {},
   "source": [
    "## 4. Run busco"
   ]
  },
  {
   "cell_type": "code",
   "execution_count": 7,
   "id": "75e8af35-0452-498c-a719-aa6140851f34",
   "metadata": {},
   "outputs": [
    {
     "name": "stdout",
     "output_type": "stream",
     "text": [
      "#!/bin/bash \n",
      "\n",
      "#Script to run busco analysis on phaw genome assembly\n",
      "\n",
      "#Run busco on Phaw 5.0\n",
      "\n",
      "if [ \"$1\" == \"ref_assembly\" ]; then\n",
      "\n",
      "busco -i /drives/raid/AboobakerLab/manuel/data_phaw_analysis/phaw_reference/parhyale_hawaiensis_15Feb20182_1IWOV.fa -l arthropoda_odb10 --mode genome --cpu 16 -f --augustus -o ./busco_results_phaw5.0 \n",
      "\n",
      "fi\n",
      "\n",
      "#Run busco on Phaw 5.1\n",
      "if [ \"$1\" == \"gappfilled_assembly\" ]; then\n",
      "\n",
      "busco -i /drives/ssd1/manuel/phaw/2022_analysis/phaw_gapfilling/TGS-GapCloser_anlysis/results_sambaAsm/change_scafNames/phaw_sambaAsm.scaff_seqs_editedScafNames.fa -l arthropoda_odb10 --mode genome --cpu 16 -f --augustus -o ./busco_results_phaw5.1\n",
      "\n",
      "fi\n"
     ]
    }
   ],
   "source": [
    "%%bash\n",
    "\n",
    "cd ./scripts\n",
    "less 6_run_busco.sh"
   ]
  },
  {
   "cell_type": "markdown",
   "id": "47c4f3e1-e2ba-46fe-b4ae-86593ee651c2",
   "metadata": {},
   "source": [
    "### Print busco results - Phaw5.0 assembly"
   ]
  },
  {
   "cell_type": "code",
   "execution_count": 15,
   "id": "8954e5c7-c2a1-4562-9bd9-269f3d9e5fd7",
   "metadata": {},
   "outputs": [
    {
     "name": "stdout",
     "output_type": "stream",
     "text": [
      "# BUSCO version is: 5.3.2 \n",
      "# The lineage dataset is: arthropoda_odb10 (Creation date: 2020-09-10, number of genomes: 90, number of BUSCOs: 1013)\n",
      "# Summarized benchmarking in BUSCO notation for file /drives/raid/AboobakerLab/manuel/data_phaw_analysis/phaw_reference/parhyale_hawaiensis_15Feb20182_1IWOV.fa\n",
      "# BUSCO was run in mode: genome\n",
      "# Gene predictor used: augustus\n",
      "\n",
      "\t***** Results: *****\n",
      "\n",
      "\tC:90.0%[S:88.2%,D:1.8%],F:3.1%,M:6.9%,n:1013\t   \n",
      "\t911\tComplete BUSCOs (C)\t\t\t   \n",
      "\t893\tComplete and single-copy BUSCOs (S)\t   \n",
      "\t18\tComplete and duplicated BUSCOs (D)\t   \n",
      "\t31\tFragmented BUSCOs (F)\t\t\t   \n",
      "\t71\tMissing BUSCOs (M)\t\t\t   \n",
      "\t1013\tTotal BUSCO groups searched\t\t   \n",
      "\n",
      "Dependencies and versions:\n",
      "\thmmsearch: 3.1\n",
      "\tmakeblastdb: 2.11.0+\n",
      "\ttblastn: 2.11.0+\n",
      "\taugustus: 3.4.0\n",
      "\tgff2gbSmallDNA.pl: None\n",
      "\tnew_species.pl: None\n",
      "\tetraining: None\n"
     ]
    }
   ],
   "source": [
    "cat /drives/ssd1/manuel/phaw/2022_analysis/phaw_gapfilling/TGS-GapCloser_anlysis/busco_analysis/busco_results_phaw5.0/short_summary.specific.arthropoda_odb10.busco_results_phaw5.0.txt"
   ]
  },
  {
   "cell_type": "markdown",
   "id": "8183a7ca-0808-46ce-a058-23814eba9e0c",
   "metadata": {},
   "source": [
    "### Print busco results - Phaw5.1 assembly"
   ]
  },
  {
   "cell_type": "code",
   "execution_count": 16,
   "id": "07e53dda-208d-47ed-afa2-3c0d7af11f86",
   "metadata": {},
   "outputs": [
    {
     "name": "stdout",
     "output_type": "stream",
     "text": [
      "# BUSCO version is: 5.3.2 \n",
      "# The lineage dataset is: arthropoda_odb10 (Creation date: 2020-09-10, number of genomes: 90, number of BUSCOs: 1013)\n",
      "# Summarized benchmarking in BUSCO notation for file /drives/ssd1/manuel/phaw/2022_analysis/phaw_gapfilling/TGS-GapCloser_anlysis/results_sambaAsm/change_scafNames/phaw_sambaAsm.scaff_seqs_editedScafNames.fa\n",
      "# BUSCO was run in mode: genome\n",
      "# Gene predictor used: augustus\n",
      "\n",
      "\t***** Results: *****\n",
      "\n",
      "\tC:90.0%[S:85.9%,D:4.1%],F:3.5%,M:6.5%,n:1013\t   \n",
      "\t912\tComplete BUSCOs (C)\t\t\t   \n",
      "\t870\tComplete and single-copy BUSCOs (S)\t   \n",
      "\t42\tComplete and duplicated BUSCOs (D)\t   \n",
      "\t35\tFragmented BUSCOs (F)\t\t\t   \n",
      "\t66\tMissing BUSCOs (M)\t\t\t   \n",
      "\t1013\tTotal BUSCO groups searched\t\t   \n",
      "\n",
      "Dependencies and versions:\n",
      "\thmmsearch: 3.1\n",
      "\tmakeblastdb: 2.11.0+\n",
      "\ttblastn: 2.11.0+\n",
      "\taugustus: 3.4.0\n",
      "\tgff2gbSmallDNA.pl: None\n",
      "\tnew_species.pl: None\n",
      "\tetraining: None\n"
     ]
    }
   ],
   "source": [
    "cat /drives/ssd1/manuel/phaw/2022_analysis/phaw_gapfilling/TGS-GapCloser_anlysis/busco_analysis/busco_results_phaw5.1/short_summary.specific.arthropoda_odb10.busco_results_phaw5.1.txt"
   ]
  },
  {
   "cell_type": "markdown",
   "id": "92a03575-b4bb-43fe-bcff-8e22b6421a91",
   "metadata": {},
   "source": [
    "## 5. Compare gap prevalence in Phaw5.0 and Phaw5.1"
   ]
  },
  {
   "cell_type": "code",
   "execution_count": 17,
   "id": "1cd60c15-8a3a-4659-ac5b-13638654b637",
   "metadata": {},
   "outputs": [],
   "source": [
    "import pandas as pd\n",
    "import matplotlib.pyplot as plt\n",
    "import matplotlib.axes as ax\n",
    "import collections\n",
    "import numpy as np"
   ]
  },
  {
   "cell_type": "markdown",
   "id": "7929b7a6-678e-4f4b-b100-b53a8b185ae3",
   "metadata": {},
   "source": [
    "#### Load files containing gap information for both, original 0 and gapfilled, assemblies"
   ]
  },
  {
   "cell_type": "code",
   "execution_count": 2,
   "id": "c2fa2c9a-1be8-4571-a833-d34ce56b02b7",
   "metadata": {},
   "outputs": [],
   "source": [
    "#Phaw5.0 - Reference assembly gap information\n",
    "phaw_RefAsm_gaps = pd.read_csv(\"/drives/ssd1/manuel/phaw/2022_analysis/phaw_gapfilling/TGS-GapCloser_anlysis/results_fullAsm_stats/parhyale_hawaiensis_15Feb20182_1IWOV.fa.bed\",sep='\\t',header=None)\n",
    "phaw_RefAsm_gaps = phaw_RefAsm_gaps.assign(gap_len = phaw_RefAsm_gaps.iloc[:, 2] - phaw_RefAsm_gaps.iloc[:, 1] + 1)\n",
    "\n",
    "#Phaw5.1 - Samba + TGSgapcloser Gap-filled assembly gap information\n",
    "samba_gapFilled_asm = pd.read_csv(\"/drives/ssd1/manuel/phaw/2022_analysis/phaw_gapfilling/TGS-GapCloser_anlysis/results_sambaAsm/phaw_sambaAsm.scaff_seqs.bed\",sep='\\t',header=None)\n",
    "samba_gapFilled_asm = samba_gapFilled_asm.assign(gap_len = samba_gapFilled_asm.iloc[:, 2] - samba_gapFilled_asm.iloc[:, 1] + 1)"
   ]
  },
  {
   "cell_type": "markdown",
   "id": "1649bf92-631f-4f4d-9488-16262efaf3cc",
   "metadata": {},
   "source": [
    "#### Plot Gap frequency vs gap length in Phaw5.0"
   ]
  },
  {
   "cell_type": "code",
   "execution_count": 5,
   "id": "41ae0921-1330-49da-be39-57e324aa9821",
   "metadata": {},
   "outputs": [
    {
     "name": "stdout",
     "output_type": "stream",
     "text": [
      "Number of Gaps: 333096\n"
     ]
    },
    {
     "data": {
      "image/png": "[encoded data removed]",
      "text/plain": [
       "<Figure size 288x288 with 1 Axes>"
      ]
     },
     "metadata": {
      "needs_background": "light"
     },
     "output_type": "display_data"
    }
   ],
   "source": [
    "plt.figure(figsize=(4,4))\n",
    "plt.hist(phaw_RefAsm_gaps['gap_len'],bins=50,color='blue')#,title = \"Current assembly\").ticklabel_format(style='sci', axis='y', scilimits=(0,0))\n",
    "plt.title(\"Phaw 5.0\")\n",
    "plt.axvline(phaw_RefAsm_gaps['gap_len'].median(),color='red', ls='--', lw=2)\n",
    "plt.xlabel('Gap length (bp)')\n",
    "plt.ylabel('Gap count')\n",
    "\n",
    "min_ylim, max_ylim = plt.ylim()\n",
    "plt.text(phaw_RefAsm_gaps['gap_len'].median()*1.3,max_ylim*0.9,'Mean: {:.0f}'.format(phaw_RefAsm_gaps['gap_len'].median()))\n",
    "\n",
    "print(\"Number of Gaps: \" + str(phaw_RefAsm_gaps.shape[0]))\n",
    "#filename = 'gapLength_phaw5.0'\n",
    "#plt.savefig('gapLength_phaw5.0.tiff', dpi=600, format=\"tiff\", pil_kwargs={\"compression\": \"tiff_lzw\"},bbox_inches = \"tight\")"
   ]
  },
  {
   "cell_type": "markdown",
   "id": "74b61ed0-8894-419b-be3b-7373d042f163",
   "metadata": {},
   "source": [
    "#### Plot Gap frequency vs gap length in Phaw5.1"
   ]
  },
  {
   "cell_type": "code",
   "execution_count": 10,
   "id": "fc402e73-8ed0-4ed4-8208-479c03e5090f",
   "metadata": {},
   "outputs": [
    {
     "name": "stdout",
     "output_type": "stream",
     "text": [
      "Number of Gaps: 93643\n"
     ]
    },
    {
     "data": {
      "image/png": "[encoded data removed]",
      "text/plain": [
       "<Figure size 288x288 with 1 Axes>"
      ]
     },
     "metadata": {
      "needs_background": "light"
     },
     "output_type": "display_data"
    }
   ],
   "source": [
    "plt.figure(figsize=(4,4))\n",
    "plt.hist(samba_gapFilled_asm['gap_len'],bins=50,color='blue')#,title = \"Current assembly\").ticklabel_format(style='sci', axis='y', scilimits=(0,0))\n",
    "plt.title(\"Phaw 5.1\")\n",
    "plt.axvline(samba_gapFilled_asm['gap_len'].median(),color='red', ls='--', lw=2)\n",
    "plt.xlabel('Gap length (bp)')\n",
    "plt.ylabel('Gap count')\n",
    "\n",
    "min_ylim, max_ylim = plt.ylim()\n",
    "plt.text(samba_gapFilled_asm['gap_len'].median()*2.9,max_ylim*0.9,'Mean: {:.0f}'.format(samba_gapFilled_asm['gap_len'].median()))\n",
    "\n",
    "print(\"Number of Gaps: \" + str(samba_gapFilled_asm.shape[0]))\n",
    "#plt.savefig('gapLength_phaw5.1.tiff', dpi=600, format=\"tiff\", pil_kwargs={\"compression\": \"tiff_lzw\"},bbox_inches = \"tight\")"
   ]
  },
  {
   "cell_type": "markdown",
   "id": "3dc89efc-05f4-40f9-a8de-d35375dab3d8",
   "metadata": {},
   "source": [
    "## 6. Compare gap prevalence in Phaw5.0 and Phaw5.1"
   ]
  },
  {
   "cell_type": "code",
   "execution_count": 45,
   "id": "93ee895e-1511-428d-ba20-871f54c62a82",
   "metadata": {},
   "outputs": [
    {
     "name": "stdout",
     "output_type": "stream",
     "text": [
      "Scaffold\tlength\tNs_perScaf\tN_fraction\n",
      "Scaffold_N1\t26740861\t1289500\n",
      "Scaffold_N2\t39193855\t1287071\n",
      "Scaffold_N3\t95645562\t2788166\n",
      "Scaffold_N4\t56203476\t1533074\n",
      "Scaffold_N5\t59486743\t1607472\n"
     ]
    }
   ],
   "source": [
    "%%bash\n",
    "#Count Ns per scaffold in PHAW5.1 assembly. REmove header and last line(total genome size)\n",
    "#/drives/raid/AboobakerLab/software/faCount \\\n",
    "#/drives/ssd1/manuel/phaw/2022_analysis/phaw_gapfilling/TGS-GapCloser_anlysis/results_sambaAsm/change_scafNames/phaw_sambaAsm.scaff_seqs_editedScafNames.fa | cut -f1,2,7 | tail -n +2 | head -n -1 > phaw_sambaAsm.scaff_seqs_editedScafNames._Ncounts.txt\n",
    "\n",
    "echo -e \"Scaffold\\tlength\\tNs_perScaf\\tN_fraction\"\n",
    "cat /drives/ssd1/manuel/phaw/2022_analysis/phaw_gapfilling/TGS-GapCloser_anlysis/results_sambaAsm/phaw_sambaAsm.scaff_seqs_editedScafNames._Ncounts.txt | head -5"
   ]
  },
  {
   "cell_type": "code",
   "execution_count": 56,
   "id": "150d99da-11c5-41e4-af52-314cb6dd1031",
   "metadata": {},
   "outputs": [
    {
     "data": {
      "text/html": [
       "<div>\n",
       "<style scoped>\n",
       "    .dataframe tbody tr th:only-of-type {\n",
       "        vertical-align: middle;\n",
       "    }\n",
       "\n",
       "    .dataframe tbody tr th {\n",
       "        vertical-align: top;\n",
       "    }\n",
       "\n",
       "    .dataframe thead th {\n",
       "        text-align: right;\n",
       "    }\n",
       "</style>\n",
       "<table border=\"1\" class=\"dataframe\">\n",
       "  <thead>\n",
       "    <tr style=\"text-align: right;\">\n",
       "      <th></th>\n",
       "      <th>0</th>\n",
       "      <th>1</th>\n",
       "      <th>2</th>\n",
       "      <th>N_perc</th>\n",
       "      <th>Seq_perc</th>\n",
       "    </tr>\n",
       "  </thead>\n",
       "  <tbody>\n",
       "    <tr>\n",
       "      <th>0</th>\n",
       "      <td>Scaffold_N1</td>\n",
       "      <td>26740861</td>\n",
       "      <td>1289500</td>\n",
       "      <td>4.822208</td>\n",
       "      <td>95.177792</td>\n",
       "    </tr>\n",
       "    <tr>\n",
       "      <th>1</th>\n",
       "      <td>Scaffold_N2</td>\n",
       "      <td>39193855</td>\n",
       "      <td>1287071</td>\n",
       "      <td>3.283859</td>\n",
       "      <td>96.716141</td>\n",
       "    </tr>\n",
       "    <tr>\n",
       "      <th>2</th>\n",
       "      <td>Scaffold_N3</td>\n",
       "      <td>95645562</td>\n",
       "      <td>2788166</td>\n",
       "      <td>2.915102</td>\n",
       "      <td>97.084898</td>\n",
       "    </tr>\n",
       "    <tr>\n",
       "      <th>3</th>\n",
       "      <td>Scaffold_N4</td>\n",
       "      <td>56203476</td>\n",
       "      <td>1533074</td>\n",
       "      <td>2.727721</td>\n",
       "      <td>97.272279</td>\n",
       "    </tr>\n",
       "    <tr>\n",
       "      <th>4</th>\n",
       "      <td>Scaffold_N5</td>\n",
       "      <td>59486743</td>\n",
       "      <td>1607472</td>\n",
       "      <td>2.702236</td>\n",
       "      <td>97.297764</td>\n",
       "    </tr>\n",
       "    <tr>\n",
       "      <th>...</th>\n",
       "      <td>...</td>\n",
       "      <td>...</td>\n",
       "      <td>...</td>\n",
       "      <td>...</td>\n",
       "      <td>...</td>\n",
       "    </tr>\n",
       "    <tr>\n",
       "      <th>280580</th>\n",
       "      <td>Scaffold_137183_HRSCAF_141197</td>\n",
       "      <td>399</td>\n",
       "      <td>1</td>\n",
       "      <td>0.250627</td>\n",
       "      <td>99.749373</td>\n",
       "    </tr>\n",
       "    <tr>\n",
       "      <th>280581</th>\n",
       "      <td>Scaffold_241521_HRSCAF_245537</td>\n",
       "      <td>258</td>\n",
       "      <td>0</td>\n",
       "      <td>0.000000</td>\n",
       "      <td>100.000000</td>\n",
       "    </tr>\n",
       "    <tr>\n",
       "      <th>280582</th>\n",
       "      <td>Scaffold_73614_HRSCAF_77619</td>\n",
       "      <td>633</td>\n",
       "      <td>0</td>\n",
       "      <td>0.000000</td>\n",
       "      <td>100.000000</td>\n",
       "    </tr>\n",
       "    <tr>\n",
       "      <th>280583</th>\n",
       "      <td>Scaffold_77187_HRSCAF_81192</td>\n",
       "      <td>614</td>\n",
       "      <td>0</td>\n",
       "      <td>0.000000</td>\n",
       "      <td>100.000000</td>\n",
       "    </tr>\n",
       "    <tr>\n",
       "      <th>280584</th>\n",
       "      <td>Scaffold_94213_HRSCAF_98223</td>\n",
       "      <td>535</td>\n",
       "      <td>0</td>\n",
       "      <td>0.000000</td>\n",
       "      <td>100.000000</td>\n",
       "    </tr>\n",
       "  </tbody>\n",
       "</table>\n",
       "<p>280585 rows × 5 columns</p>\n",
       "</div>"
      ],
      "text/plain": [
       "                                    0         1        2    N_perc    Seq_perc\n",
       "0                         Scaffold_N1  26740861  1289500  4.822208   95.177792\n",
       "1                         Scaffold_N2  39193855  1287071  3.283859   96.716141\n",
       "2                         Scaffold_N3  95645562  2788166  2.915102   97.084898\n",
       "3                         Scaffold_N4  56203476  1533074  2.727721   97.272279\n",
       "4                         Scaffold_N5  59486743  1607472  2.702236   97.297764\n",
       "...                               ...       ...      ...       ...         ...\n",
       "280580  Scaffold_137183_HRSCAF_141197       399        1  0.250627   99.749373\n",
       "280581  Scaffold_241521_HRSCAF_245537       258        0  0.000000  100.000000\n",
       "280582    Scaffold_73614_HRSCAF_77619       633        0  0.000000  100.000000\n",
       "280583    Scaffold_77187_HRSCAF_81192       614        0  0.000000  100.000000\n",
       "280584    Scaffold_94213_HRSCAF_98223       535        0  0.000000  100.000000\n",
       "\n",
       "[280585 rows x 5 columns]"
      ]
     },
     "execution_count": 56,
     "metadata": {},
     "output_type": "execute_result"
    }
   ],
   "source": [
    "#Open dataframe containing gap information\n",
    "NsbyScaffphaw5_1= pd.read_csv(\"/drives/ssd1/manuel/phaw/2022_analysis/phaw_gapfilling/TGS-GapCloser_anlysis/results_sambaAsm/phaw_sambaAsm.scaff_seqs_editedScafNames._Ncounts.txt\",sep='\\t',header=None)\n",
    "NsbyScaffphaw5_1[\"N_perc\"] = (NsbyScaffphaw5_1[2]/NsbyScaffphaw5_1[1])*100\n",
    "NsbyScaffphaw5_1[\"Seq_perc\"] = 100 - NsbyScaffphaw5_1[\"N_perc\"]\n",
    "NsbyScaffphaw5_1"
   ]
  },
  {
   "cell_type": "code",
   "execution_count": null,
   "id": "7665f56a-e1b1-4736-aaab-1da7a89ecc40",
   "metadata": {},
   "outputs": [],
   "source": [
    "#Edit dataframe to select only top 100 scaffols and collapse the rest\n",
    "NsbyScaffphaw5_1.loc['mean']= NsbyScaffphaw5_1[100:].mean() #Averaging rows\n",
    "NsbyScaffphaw5_1 = NsbyScaffphaw5_1.fillna('avg_scaffold')\n",
    "NsbyScaffphaw5_1 = NsbyScaffphaw5_1.drop(NsbyScaffphaw5_1.iloc[100:280585].index,inplace=False)\n",
    "NsbyScaffphaw5_1"
   ]
  },
  {
   "cell_type": "code",
   "execution_count": 54,
   "id": "fff93f2b-fee7-47cf-9248-239e5f6856be",
   "metadata": {
    "collapsed": true,
    "jupyter": {
     "outputs_hidden": true
    },
    "tags": []
   },
   "outputs": [
    {
     "data": {
      "text/html": [
       "<div>\n",
       "<style scoped>\n",
       "    .dataframe tbody tr th:only-of-type {\n",
       "        vertical-align: middle;\n",
       "    }\n",
       "\n",
       "    .dataframe tbody tr th {\n",
       "        vertical-align: top;\n",
       "    }\n",
       "\n",
       "    .dataframe thead th {\n",
       "        text-align: right;\n",
       "    }\n",
       "</style>\n",
       "<table border=\"1\" class=\"dataframe\">\n",
       "  <thead>\n",
       "    <tr style=\"text-align: right;\">\n",
       "      <th></th>\n",
       "      <th>0</th>\n",
       "      <th>1</th>\n",
       "      <th>2</th>\n",
       "      <th>N_perc</th>\n",
       "      <th>Seq_perc</th>\n",
       "    </tr>\n",
       "  </thead>\n",
       "  <tbody>\n",
       "    <tr>\n",
       "      <th>0</th>\n",
       "      <td>Scaffold_N1</td>\n",
       "      <td>26740861.0</td>\n",
       "      <td>1289500.0</td>\n",
       "      <td>4.822208</td>\n",
       "      <td>95.177792</td>\n",
       "    </tr>\n",
       "    <tr>\n",
       "      <th>1</th>\n",
       "      <td>Scaffold_N2</td>\n",
       "      <td>39193855.0</td>\n",
       "      <td>1287071.0</td>\n",
       "      <td>3.283859</td>\n",
       "      <td>96.716141</td>\n",
       "    </tr>\n",
       "    <tr>\n",
       "      <th>2</th>\n",
       "      <td>Scaffold_N3</td>\n",
       "      <td>95645562.0</td>\n",
       "      <td>2788166.0</td>\n",
       "      <td>2.915102</td>\n",
       "      <td>97.084898</td>\n",
       "    </tr>\n",
       "    <tr>\n",
       "      <th>3</th>\n",
       "      <td>Scaffold_N4</td>\n",
       "      <td>56203476.0</td>\n",
       "      <td>1533074.0</td>\n",
       "      <td>2.727721</td>\n",
       "      <td>97.272279</td>\n",
       "    </tr>\n",
       "    <tr>\n",
       "      <th>4</th>\n",
       "      <td>Scaffold_N5</td>\n",
       "      <td>59486743.0</td>\n",
       "      <td>1607472.0</td>\n",
       "      <td>2.702236</td>\n",
       "      <td>97.297764</td>\n",
       "    </tr>\n",
       "    <tr>\n",
       "      <th>...</th>\n",
       "      <td>...</td>\n",
       "      <td>...</td>\n",
       "      <td>...</td>\n",
       "      <td>...</td>\n",
       "      <td>...</td>\n",
       "    </tr>\n",
       "    <tr>\n",
       "      <th>95</th>\n",
       "      <td>Scaffold_258558_HRSCAF_262574</td>\n",
       "      <td>245.0</td>\n",
       "      <td>0.0</td>\n",
       "      <td>0.000000</td>\n",
       "      <td>100.000000</td>\n",
       "    </tr>\n",
       "    <tr>\n",
       "      <th>96</th>\n",
       "      <td>Scaffold_114641_HRSCAF_118654</td>\n",
       "      <td>458.0</td>\n",
       "      <td>0.0</td>\n",
       "      <td>0.000000</td>\n",
       "      <td>100.000000</td>\n",
       "    </tr>\n",
       "    <tr>\n",
       "      <th>97</th>\n",
       "      <td>Scaffold_6332_HRSCAF_9326</td>\n",
       "      <td>2337.0</td>\n",
       "      <td>0.0</td>\n",
       "      <td>0.000000</td>\n",
       "      <td>100.000000</td>\n",
       "    </tr>\n",
       "    <tr>\n",
       "      <th>98</th>\n",
       "      <td>Scaffold_264225_HRSCAF_268241</td>\n",
       "      <td>240.0</td>\n",
       "      <td>0.0</td>\n",
       "      <td>0.000000</td>\n",
       "      <td>100.000000</td>\n",
       "    </tr>\n",
       "    <tr>\n",
       "      <th>99</th>\n",
       "      <td>Scaffold_88638_HRSCAF_92647</td>\n",
       "      <td>560.0</td>\n",
       "      <td>0.0</td>\n",
       "      <td>0.000000</td>\n",
       "      <td>100.000000</td>\n",
       "    </tr>\n",
       "  </tbody>\n",
       "</table>\n",
       "<p>100 rows × 5 columns</p>\n",
       "</div>"
      ],
      "text/plain": [
       "                                0           1          2    N_perc    Seq_perc\n",
       "0                     Scaffold_N1  26740861.0  1289500.0  4.822208   95.177792\n",
       "1                     Scaffold_N2  39193855.0  1287071.0  3.283859   96.716141\n",
       "2                     Scaffold_N3  95645562.0  2788166.0  2.915102   97.084898\n",
       "3                     Scaffold_N4  56203476.0  1533074.0  2.727721   97.272279\n",
       "4                     Scaffold_N5  59486743.0  1607472.0  2.702236   97.297764\n",
       "..                            ...         ...        ...       ...         ...\n",
       "95  Scaffold_258558_HRSCAF_262574       245.0        0.0  0.000000  100.000000\n",
       "96  Scaffold_114641_HRSCAF_118654       458.0        0.0  0.000000  100.000000\n",
       "97      Scaffold_6332_HRSCAF_9326      2337.0        0.0  0.000000  100.000000\n",
       "98  Scaffold_264225_HRSCAF_268241       240.0        0.0  0.000000  100.000000\n",
       "99    Scaffold_88638_HRSCAF_92647       560.0        0.0  0.000000  100.000000\n",
       "\n",
       "[100 rows x 5 columns]"
      ]
     },
     "execution_count": 54,
     "metadata": {},
     "output_type": "execute_result"
    }
   ],
   "source": [
    "NsbyScaffphaw5_1"
   ]
  },
  {
   "cell_type": "code",
   "execution_count": null,
   "id": "90aa9cd7-140b-42a5-a0ee-605b9992f598",
   "metadata": {},
   "outputs": [],
   "source": [
    "#PLot N_percentage per sacffold in Phaw5.1 assembly\n",
    "\n",
    "plt.figure(figsize=(7,3))\n",
    "#data_for_barplot.plot(x=\"scaffold_id\",kind=\"bar\",stacked=True,figsize=(10, 8))\n",
    "\n",
    "plt.bar(NsbyScaffphaw5_1[\"scaffold_id\"],NsbyScaffphaw5_1[\"Seq_perc\"], color='y')\n",
    "plt.bar(NsbyScaffphaw5_1[\"scaffold_id\"],NsbyScaffphaw5_1[\"N_perc\"], color='r',bottom=data_for_barplot[\"Seq_perc\"])\n",
    "\n",
    "scaffold_order = np.arange(1, 102)\n",
    "\n",
    "plt.xticks(NsbyScaffphaw5_1[\"scaffold_id\"],list(np.append(scaffold_order[:-1],'101+')),rotation=45,fontsize =13,\n",
    "           horizontalalignment=\"right\",rotation_mode='anchor')\n",
    "#plt.xticks(data_for_barplot[\"scaffold_id\"][100:101],\"101+\",rotation=45, horizontalalignment=\"right\",rotation_mode='anchor')\n",
    "plt.yticks(list(range(0,200,10)),rotation=0,fontsize =13, horizontalalignment=\"right\",rotation_mode='anchor')\n",
    "plt.locator_params(axis='x', nbins=21)\n",
    "plt.ylabel(\"Scaffold length (%)\",fontsize=20)\n",
    "plt.xlabel('Scaffold',fontsize=15)\n",
    "colors = {'Ns':'red', 'ATCG':'y'}         \n",
    "labels = list(colors.keys())\n",
    "handles = [plt.Rectangle((0,0),1,1, color=colors[label]) for label in labels]\n",
    "plt.legend(handles, labels,loc=4,prop={'size': 15})\n",
    "plt.margins(x=0.015,y=0.015, tight=True)\n",
    "\n",
    "#plt.savefig(\"NsbyScaff_phaw5.0.jpg\", dpi=300,bbox_inches = 'tight')\n",
    "plt.show()"
   ]
  },
  {
   "cell_type": "code",
   "execution_count": 4,
   "id": "20f0755d-8b36-4f97-8f37-18b578eb1358",
   "metadata": {},
   "outputs": [
    {
     "data": {
      "text/html": [
       "<div>\n",
       "<style scoped>\n",
       "    .dataframe tbody tr th:only-of-type {\n",
       "        vertical-align: middle;\n",
       "    }\n",
       "\n",
       "    .dataframe tbody tr th {\n",
       "        vertical-align: top;\n",
       "    }\n",
       "\n",
       "    .dataframe thead th {\n",
       "        text-align: right;\n",
       "    }\n",
       "</style>\n",
       "<table border=\"1\" class=\"dataframe\">\n",
       "  <thead>\n",
       "    <tr style=\"text-align: right;\">\n",
       "      <th></th>\n",
       "      <th>scaffold_id</th>\n",
       "      <th>gene_count</th>\n",
       "    </tr>\n",
       "  </thead>\n",
       "  <tbody>\n",
       "    <tr>\n",
       "      <th>37</th>\n",
       "      <td>Scaffold_135;HRSCAF=924</td>\n",
       "      <td>846</td>\n",
       "    </tr>\n",
       "    <tr>\n",
       "      <th>921</th>\n",
       "      <td>Scaffold_283823;HRSCAF=291659</td>\n",
       "      <td>816</td>\n",
       "    </tr>\n",
       "    <tr>\n",
       "      <th>953</th>\n",
       "      <td>Scaffold_283869;HRSCAF=291705</td>\n",
       "      <td>789</td>\n",
       "    </tr>\n",
       "    <tr>\n",
       "      <th>760</th>\n",
       "      <td>Scaffold_282861;HRSCAF=288508</td>\n",
       "      <td>767</td>\n",
       "    </tr>\n",
       "    <tr>\n",
       "      <th>732</th>\n",
       "      <td>Scaffold_282695;HRSCAF=288005</td>\n",
       "      <td>699</td>\n",
       "    </tr>\n",
       "  </tbody>\n",
       "</table>\n",
       "</div>"
      ],
      "text/plain": [
       "                       scaffold_id  gene_count\n",
       "37         Scaffold_135;HRSCAF=924         846\n",
       "921  Scaffold_283823;HRSCAF=291659         816\n",
       "953  Scaffold_283869;HRSCAF=291705         789\n",
       "760  Scaffold_282861;HRSCAF=288508         767\n",
       "732  Scaffold_282695;HRSCAF=288005         699"
      ]
     },
     "execution_count": 4,
     "metadata": {},
     "output_type": "execute_result"
    }
   ],
   "source": [
    "#Load annotation file, obtained using Stringtie2 + Transdecoder, filtered by unigenes\n",
    "\n",
    "scaffold_genes=[]\n",
    "\n",
    "with open(\"/drives/ssd1/manuel/phaw/2021_analysis/annotation/stringtie2/stringtie2_merge/stringtie2_merged_unigenes_fixedAGAT.gtf\") as f:\n",
    "\n",
    "    for line in f:\n",
    "        line = line.partition('#')[0]\n",
    "        feature = line.rstrip().split(\"\\t\")[2:3]\n",
    "        scaff_id = str(line.rstrip().split(\"\\t\")[:1][0])\n",
    "\n",
    "        if 'gene' in feature:\n",
    "            scaffold_genes.append(str(scaff_id))\n",
    "\n",
    "#Count genes per scaffold\n",
    "genesbyScaff_df = pd.DataFrame.from_dict(collections.Counter(scaffold_genes), orient='index').reset_index()\n",
    "genesbyScaff_df = genesbyScaff_df.rename(columns={'index':'scaffold_id', 0:'gene_count'})\n",
    "genesbyScaff_df= genesbyScaff_df.sort_values(\"gene_count\",ascending=False)\n",
    "\n",
    "genesbyScaff_df.head(5)"
   ]
  },
  {
   "cell_type": "code",
   "execution_count": 18,
   "id": "2cfbfbe2-d118-4e1b-a4de-b82395360c4c",
   "metadata": {},
   "outputs": [
    {
     "name": "stdout",
     "output_type": "stream",
     "text": [
      "\n",
      "Scaffold_N1\t26740861\n",
      "Scaffold_N2\t39193855\n",
      "Scaffold_N3\t95645562\n",
      "Scaffold_N4\t56203476\n",
      "Scaffold_N5\t59486743\n",
      "Scaffold_N6\t91876534\n",
      "Scaffold_268158_HRSCAF_272174\t236\n",
      "Scaffold_147444_HRSCAF_151458\t377\n",
      "Scaffold_149109_HRSCAF_153123\t374\n"
     ]
    }
   ],
   "source": [
    "%%bash\n",
    "#Calculate scaffolds length\n",
    "#cat  cat  /drives/ssd1/manuel/phaw/2022_analysis/phaw_gapfilling/TGS-GapCloser_anlysis/results_sambaAsm/change_scafNames/phaw_sambaAsm.scaff_seqs_editedScafNames.fa | awk '$0 ~ \">\" {print c; c=0;printf substr($0,2,100) \"\\t\"; } $0 !~ \">\" {c+=length($0);} END { print c; }' > phaw_sambaAsm.scaff_seqs_editedScafNames.fa.lengths\n",
    "cat /drives/ssd1/manuel/phaw/2022_analysis/phaw_gapfilling/TGS-GapCloser_anlysis/results_sambaAsm/phaw_sambaAsm.scaff_seqs_editedScafNames.fa.lengths | head "
   ]
  },
  {
   "cell_type": "code",
   "execution_count": 16,
   "id": "3dc86739-5219-4429-8c5d-97c25793ce34",
   "metadata": {},
   "outputs": [
    {
     "data": {
      "text/html": [
       "<div>\n",
       "<style scoped>\n",
       "    .dataframe tbody tr th:only-of-type {\n",
       "        vertical-align: middle;\n",
       "    }\n",
       "\n",
       "    .dataframe tbody tr th {\n",
       "        vertical-align: top;\n",
       "    }\n",
       "\n",
       "    .dataframe thead th {\n",
       "        text-align: right;\n",
       "    }\n",
       "</style>\n",
       "<table border=\"1\" class=\"dataframe\">\n",
       "  <thead>\n",
       "    <tr style=\"text-align: right;\">\n",
       "      <th></th>\n",
       "      <th>scaffold_id</th>\n",
       "      <th>gene_count</th>\n",
       "      <th>scaf_ln</th>\n",
       "      <th>scaf_ln</th>\n",
       "    </tr>\n",
       "  </thead>\n",
       "  <tbody>\n",
       "    <tr>\n",
       "      <th>0</th>\n",
       "      <td>Scaffold_135;HRSCAF=924</td>\n",
       "      <td>846.0</td>\n",
       "      <td>113994380</td>\n",
       "      <td>113994380</td>\n",
       "    </tr>\n",
       "    <tr>\n",
       "      <th>1</th>\n",
       "      <td>Scaffold_283869;HRSCAF=291705</td>\n",
       "      <td>789.0</td>\n",
       "      <td>100601370</td>\n",
       "      <td>100601370</td>\n",
       "    </tr>\n",
       "    <tr>\n",
       "      <th>2</th>\n",
       "      <td>Scaffold_283823;HRSCAF=291659</td>\n",
       "      <td>816.0</td>\n",
       "      <td>95668335</td>\n",
       "      <td>95668335</td>\n",
       "    </tr>\n",
       "    <tr>\n",
       "      <th>3</th>\n",
       "      <td>Scaffold_282695;HRSCAF=288005</td>\n",
       "      <td>699.0</td>\n",
       "      <td>91873957</td>\n",
       "      <td>91873957</td>\n",
       "    </tr>\n",
       "    <tr>\n",
       "      <th>4</th>\n",
       "      <td>Scaffold_282861;HRSCAF=288508</td>\n",
       "      <td>767.0</td>\n",
       "      <td>88248362</td>\n",
       "      <td>88248362</td>\n",
       "    </tr>\n",
       "  </tbody>\n",
       "</table>\n",
       "</div>"
      ],
      "text/plain": [
       "                     scaffold_id  gene_count    scaf_ln    scaf_ln\n",
       "0        Scaffold_135;HRSCAF=924       846.0  113994380  113994380\n",
       "1  Scaffold_283869;HRSCAF=291705       789.0  100601370  100601370\n",
       "2  Scaffold_283823;HRSCAF=291659       816.0   95668335   95668335\n",
       "3  Scaffold_282695;HRSCAF=288005       699.0   91873957   91873957\n",
       "4  Scaffold_282861;HRSCAF=288508       767.0   88248362   88248362"
      ]
     },
     "execution_count": 16,
     "metadata": {},
     "output_type": "execute_result"
    }
   ],
   "source": [
    "#Open file containing scaffold lengths and merge with genesbyScaf dataframe\n",
    "\n",
    "phaw51_scafLn = pd.read_csv(\"/drives/ssd1/manuel/phaw/2022_analysis/phaw_gapfilling/TGS-GapCloser_anlysis/results_sambaAsm/phaw_sambaAsm.scaff_seqs_editedScafNames.fa.lengths\",sep='\\t',header=None)\n",
    "genesbyScaff_df = genesbyScaff_df.merge(phaw51_scafLn, left_on=\"scaffold_id\", right_on=0,how='outer').sort_values(by=1,ascending=False).drop(0, axis=1).rename(columns={1: \"scaf_ln\"})\n",
    "genesbyScaff_df = genesbyScaff_df.fillna(0)\n",
    "genesbyScaff_df.head(5)"
   ]
  }
 ],
 "metadata": {
  "kernelspec": {
   "display_name": "Python 3",
   "language": "python",
   "name": "python3"
  },
  "language_info": {
   "codemirror_mode": {
    "name": "ipython",
    "version": 3
   },
   "file_extension": ".py",
   "mimetype": "text/x-python",
   "name": "python",
   "nbconvert_exporter": "python",
   "pygments_lexer": "ipython3",
   "version": "3.9.2"
  }
 },
 "nbformat": 4,
 "nbformat_minor": 5
}
