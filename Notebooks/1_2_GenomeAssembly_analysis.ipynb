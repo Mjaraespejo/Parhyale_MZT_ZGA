{
 "cells": [
  {
   "cell_type": "markdown",
   "id": "c53fbacd-29d7-456a-a2f7-9f4c14153578",
   "metadata": {},
   "source": [
    "# 1-2-Assembly analysis\n",
    "Manuel Jara-Espejo$^{1}$\n",
    "\n",
    "Aboobaker lab, Department of Biology, University of Oxford\n",
    "\n",
    "## Contents of notebook\n",
    "\n",
    "1. Introduction \n",
    "2. Identify Gaps\n",
    "3. Run Assembly statistics\n",
    "4. Run busco\n",
    "5. Compare gap prevalence in Phaw5.0 and Phaw5.1"
   ]
  },
  {
   "cell_type": "markdown",
   "id": "ad71d14d-45d5-46ab-9e72-202e35d46779",
   "metadata": {},
   "source": [
    "## 1 Introduction"
   ]
  },
  {
   "cell_type": "markdown",
   "id": "7b38900d-fe88-41f5-b708-202eb7dc6d21",
   "metadata": {},
   "source": [
    "## 2. Identify gaps"
   ]
  },
  {
   "cell_type": "code",
   "execution_count": 1,
   "id": "3cff115d-dde8-40bd-8956-e910e695ba27",
   "metadata": {},
   "outputs": [
    {
     "name": "stdout",
     "output_type": "stream",
     "text": [
      "#Commands used to identify gaps in Phaw5.0 and Phaw5.1 assemblies\n",
      "##Command source: scaffoldgap2bed.py {genome} (https://github.com/lexnederbragt/sequencetools)\n",
      "\n",
      "##Run command on Phaw5.0\n",
      "nohup python3 /PATH/scaffoldgap2bed.py -i /drives/raid/AboobakerLab/manuel/data_phaw_analysis/phaw_reference/parhyale_hawaiensis_15Feb20182_1IWOV.fa -m 10 > parhyale_hawaiensis_15Feb20182_1IWOV.fa.bed &\n",
      "\n",
      "##Run command on Phaw5.1\n",
      "nohup python3 /PATH/scaffoldgap2bed.py -i /drives/ssd1/manuel/phaw/2022_analysis/phaw_gapfilling/TGS-GapCloser_anlysis/results_sambaAsm/change_scafNames/phaw_sambaAsm.scaff_seqs_editedScafNames.fa -m 10 > phaw_sambaAsm.scaff_seqs_editedScafNames.bed &\n",
      "\n",
      "Scaffold_2;HRSCAF=42\t1275\t3240\tgap\n",
      "Scaffold_2;HRSCAF=42\t3413\t3513\tgap\n",
      "Scaffold_3;HRSCAF=66\t7071\t7908\tgap\n",
      "Scaffold_3;HRSCAF=66\t8089\t8189\tgap\n",
      "Scaffold_7;HRSCAF=96\t994\t2691\tgap\n",
      "Scaffold_7;HRSCAF=96\t2823\t2923\tgap\n",
      "Scaffold_8;HRSCAF=132\t9503\t9952\tgap\n",
      "Scaffold_8;HRSCAF=132\t11420\t14944\tgap\n",
      "Scaffold_8;HRSCAF=132\t15854\t16800\tgap\n",
      "Scaffold_8;HRSCAF=132\t24426\t26912\tgap\n",
      "\n",
      "Scaffold_N1\t144507\t144607\tgap\n",
      "Scaffold_N1\t148787\t154627\tgap\n",
      "Scaffold_N1\t167611\t170185\tgap\n",
      "Scaffold_N1\t173247\t173347\tgap\n",
      "Scaffold_N1\t175029\t175129\tgap\n",
      "Scaffold_N1\t207639\t207739\tgap\n",
      "Scaffold_N1\t209236\t209336\tgap\n",
      "Scaffold_N1\t210546\t210646\tgap\n",
      "Scaffold_N1\t276678\t276778\tgap\n",
      "Scaffold_N1\t334303\t334403\tgap\n"
     ]
    }
   ],
   "source": [
    "%%bash\n",
    "\n",
    "cd ./scripts\n",
    "less 4_IdentifyGaps.sh\n",
    "\n",
    "#See gaps identified in Phaw5.0\n",
    "head /drives/ssd1/manuel/phaw/2022_analysis/phaw_gapfilling/TGS-GapCloser_anlysis/results_fullAsm_stats/parhyale_hawaiensis_15Feb20182_1IWOV.fa.bed\n",
    "\n",
    "echo \"\"\n",
    "\n",
    "#See gaps identified in Phaw5.1\n",
    "head /drives/ssd1/manuel/phaw/2022_analysis/phaw_gapfilling/TGS-GapCloser_anlysis/results_sambaAsm/phaw_sambaAsm.scaff_seqs_editedScafNames.bed"
   ]
  },
  {
   "cell_type": "markdown",
   "id": "dd5288d8-0f3c-4e3f-97ae-38123e93b089",
   "metadata": {},
   "source": [
    "## 3. Run Assembly statistics"
   ]
  },
  {
   "cell_type": "code",
   "execution_count": 3,
   "id": "ce32658a-2f21-43eb-84a1-4bb181e03ba2",
   "metadata": {},
   "outputs": [
    {
     "name": "stdout",
     "output_type": "stream",
     "text": [
      "#!/bin/bash \n",
      "\n",
      "#Commands used to obtain assembly statistics for Phaw5.0 and Phaw 5.1, including the intermediat assemblies generated\n",
      "\n",
      "##Run on reference assembly Phaw 5.0\n",
      "assembly-stats -t  /drives/raid/AboobakerLab/manuel/data_phaw_analysis/phaw_reference/parhyale_hawaiensis_15Feb20182_1IWOV.fa > parhyale_hawaiensis_15Feb20182_1IWOV.fa.fa_stats\n",
      "\n",
      "#Run on assembly after filling Phaw5.0 using Samba\n",
      "assembly-stats  -t /drives/ssd1/manuel/phaw/2022_analysis/asm_SAMBA_analysis/parhyale_hawaiensis_15Feb20182_1IWOV.fa.scaffolds.fa  > /drives/ssd1/manuel/phaw/2022_analysis/asm_SAMBA_analysis/parhyale_hawaiensis_15Feb20182_1IWOV.fa.scaffolds.fa\n",
      "\n",
      "#Run on assembly after filling Phaw5.0 using TGS-Gap-Closer\n",
      "assembly-stats  -t /drives/raid/AboobakerLab/manuel/data_phaw_analysis/asm_gap_filling/TGS-GapCloser_anlysis/wholeGenome_analysis/phaw_fullASm.scaff_seqs  > phaw_fullASm.scaff_seqs_stats\n",
      "\n",
      "##Run on updated assembly (Phaw5.1) after filling Phaw5.0 using Samba + TGS-Gap-Closer\n",
      "assembly-stats -t  /drives/raid/AboobakerLab/manuel/data_phaw_analysis/asm_gap_filling/TGS-GapCloser_anlysis/sambaAsm_analysis/phaw_sambaAsm.scaff_seqs > phaw_sambaAsm.scaff_seqs_stats\n"
     ]
    }
   ],
   "source": [
    "%%bash\n",
    "\n",
    "cd ./scripts\n",
    "less 5_run_assembly_stats.sh"
   ]
  },
  {
   "cell_type": "markdown",
   "id": "87640e0c-8093-4c28-8051-e2118961d717",
   "metadata": {},
   "source": [
    "### Print phaw5.0 stats"
   ]
  },
  {
   "cell_type": "code",
   "execution_count": 12,
   "id": "0d49fb0e-a156-48c8-8098-472b51f28952",
   "metadata": {},
   "outputs": [
    {
     "data": {
      "text/html": [
       "<div>\n",
       "<style scoped>\n",
       "    .dataframe tbody tr th:only-of-type {\n",
       "        vertical-align: middle;\n",
       "    }\n",
       "\n",
       "    .dataframe tbody tr th {\n",
       "        vertical-align: top;\n",
       "    }\n",
       "\n",
       "    .dataframe thead th {\n",
       "        text-align: right;\n",
       "    }\n",
       "</style>\n",
       "<table border=\"1\" class=\"dataframe\">\n",
       "  <thead>\n",
       "    <tr style=\"text-align: right;\">\n",
       "      <th></th>\n",
       "      <th>0</th>\n",
       "    </tr>\n",
       "  </thead>\n",
       "  <tbody>\n",
       "    <tr>\n",
       "      <th>filename</th>\n",
       "      <td>/drives/raid/AboobakerLab/manuel/data_phaw_ana...</td>\n",
       "    </tr>\n",
       "    <tr>\n",
       "      <th>total_length</th>\n",
       "      <td>2755851339</td>\n",
       "    </tr>\n",
       "    <tr>\n",
       "      <th>number</th>\n",
       "      <td>283876</td>\n",
       "    </tr>\n",
       "    <tr>\n",
       "      <th>mean_length</th>\n",
       "      <td>9707.94</td>\n",
       "    </tr>\n",
       "    <tr>\n",
       "      <th>longest</th>\n",
       "      <td>111408412</td>\n",
       "    </tr>\n",
       "    <tr>\n",
       "      <th>shortest</th>\n",
       "      <td>200</td>\n",
       "    </tr>\n",
       "    <tr>\n",
       "      <th>N_count</th>\n",
       "      <td>558775491</td>\n",
       "    </tr>\n",
       "    <tr>\n",
       "      <th>Gaps</th>\n",
       "      <td>408799</td>\n",
       "    </tr>\n",
       "    <tr>\n",
       "      <th>N50</th>\n",
       "      <td>53694927</td>\n",
       "    </tr>\n",
       "    <tr>\n",
       "      <th>N50n</th>\n",
       "      <td>19</td>\n",
       "    </tr>\n",
       "    <tr>\n",
       "      <th>N70</th>\n",
       "      <td>34722307</td>\n",
       "    </tr>\n",
       "    <tr>\n",
       "      <th>N70n</th>\n",
       "      <td>32</td>\n",
       "    </tr>\n",
       "    <tr>\n",
       "      <th>N90</th>\n",
       "      <td>234048</td>\n",
       "    </tr>\n",
       "    <tr>\n",
       "      <th>N90n</th>\n",
       "      <td>89</td>\n",
       "    </tr>\n",
       "  </tbody>\n",
       "</table>\n",
       "</div>"
      ],
      "text/plain": [
       "                                                              0\n",
       "filename      /drives/raid/AboobakerLab/manuel/data_phaw_ana...\n",
       "total_length                                         2755851339\n",
       "number                                                   283876\n",
       "mean_length                                             9707.94\n",
       "longest                                               111408412\n",
       "shortest                                                    200\n",
       "N_count                                               558775491\n",
       "Gaps                                                     408799\n",
       "N50                                                    53694927\n",
       "N50n                                                         19\n",
       "N70                                                    34722307\n",
       "N70n                                                         32\n",
       "N90                                                      234048\n",
       "N90n                                                         89"
      ]
     },
     "execution_count": 12,
     "metadata": {},
     "output_type": "execute_result"
    }
   ],
   "source": [
    "import pandas as pd\n",
    "\n",
    "asm_stats_phaw5_0 = pd.read_table(\"/drives/ssd1/manuel/phaw/2022_analysis/phaw_gapfilling/TGS-GapCloser_anlysis/results_fullAsm_stats/parhyale_hawaiensis_15Feb20182_1IWOV.fa.fa_stats\", sep=\"\\t\", header = 0)\n",
    "asm_stats_phaw5_0.transpose()"
   ]
  },
  {
   "cell_type": "markdown",
   "id": "8e92f424-abb7-4909-832e-2b95c80f37c7",
   "metadata": {},
   "source": [
    "### Print phaw5.1 stats"
   ]
  },
  {
   "cell_type": "code",
   "execution_count": 10,
   "id": "92f381da-3817-465c-9f4a-00e12f6899cf",
   "metadata": {},
   "outputs": [
    {
     "data": {
      "text/html": [
       "<div>\n",
       "<style scoped>\n",
       "    .dataframe tbody tr th:only-of-type {\n",
       "        vertical-align: middle;\n",
       "    }\n",
       "\n",
       "    .dataframe tbody tr th {\n",
       "        vertical-align: top;\n",
       "    }\n",
       "\n",
       "    .dataframe thead th {\n",
       "        text-align: right;\n",
       "    }\n",
       "</style>\n",
       "<table border=\"1\" class=\"dataframe\">\n",
       "  <thead>\n",
       "    <tr style=\"text-align: right;\">\n",
       "      <th></th>\n",
       "      <th>0</th>\n",
       "    </tr>\n",
       "  </thead>\n",
       "  <tbody>\n",
       "    <tr>\n",
       "      <th>filename</th>\n",
       "      <td>/drives/raid/AboobakerLab/manuel/data_phaw_ana...</td>\n",
       "    </tr>\n",
       "    <tr>\n",
       "      <th>total_length</th>\n",
       "      <td>2823710058</td>\n",
       "    </tr>\n",
       "    <tr>\n",
       "      <th>number</th>\n",
       "      <td>280585</td>\n",
       "    </tr>\n",
       "    <tr>\n",
       "      <th>mean_length</th>\n",
       "      <td>10063.65</td>\n",
       "    </tr>\n",
       "    <tr>\n",
       "      <th>longest</th>\n",
       "      <td>114006073</td>\n",
       "    </tr>\n",
       "    <tr>\n",
       "      <th>shortest</th>\n",
       "      <td>199</td>\n",
       "    </tr>\n",
       "    <tr>\n",
       "      <th>N_count</th>\n",
       "      <td>92739792</td>\n",
       "    </tr>\n",
       "    <tr>\n",
       "      <th>Gaps</th>\n",
       "      <td>108574</td>\n",
       "    </tr>\n",
       "    <tr>\n",
       "      <th>N50</th>\n",
       "      <td>54784699</td>\n",
       "    </tr>\n",
       "    <tr>\n",
       "      <th>N50n</th>\n",
       "      <td>20</td>\n",
       "    </tr>\n",
       "    <tr>\n",
       "      <th>N70</th>\n",
       "      <td>35596768</td>\n",
       "    </tr>\n",
       "    <tr>\n",
       "      <th>N70n</th>\n",
       "      <td>32</td>\n",
       "    </tr>\n",
       "    <tr>\n",
       "      <th>N90</th>\n",
       "      <td>153979</td>\n",
       "    </tr>\n",
       "    <tr>\n",
       "      <th>N90n</th>\n",
       "      <td>142</td>\n",
       "    </tr>\n",
       "  </tbody>\n",
       "</table>\n",
       "</div>"
      ],
      "text/plain": [
       "                                                              0\n",
       "filename      /drives/raid/AboobakerLab/manuel/data_phaw_ana...\n",
       "total_length                                         2823710058\n",
       "number                                                   280585\n",
       "mean_length                                            10063.65\n",
       "longest                                               114006073\n",
       "shortest                                                    199\n",
       "N_count                                                92739792\n",
       "Gaps                                                     108574\n",
       "N50                                                    54784699\n",
       "N50n                                                         20\n",
       "N70                                                    35596768\n",
       "N70n                                                         32\n",
       "N90                                                      153979\n",
       "N90n                                                        142"
      ]
     },
     "execution_count": 10,
     "metadata": {},
     "output_type": "execute_result"
    }
   ],
   "source": [
    "asm_stats_phaw5_1 = pd.read_table(\"/drives/ssd1/manuel/phaw/2022_analysis/phaw_gapfilling/TGS-GapCloser_anlysis/results_sambaAsm/phaw_sambaAsm.scaff_seqs_stats\", sep=\"\\t\", header = 0)\n",
    "asm_stats_phaw5_1.transpose()"
   ]
  },
  {
   "cell_type": "markdown",
   "id": "87514446-3441-4e7e-98d5-6c5c62afa04b",
   "metadata": {},
   "source": [
    "## 4. Run busco"
   ]
  },
  {
   "cell_type": "code",
   "execution_count": 7,
   "id": "75e8af35-0452-498c-a719-aa6140851f34",
   "metadata": {},
   "outputs": [
    {
     "name": "stdout",
     "output_type": "stream",
     "text": [
      "#!/bin/bash \n",
      "\n",
      "#Script to run busco analysis on phaw genome assembly\n",
      "\n",
      "#Run busco on Phaw 5.0\n",
      "\n",
      "if [ \"$1\" == \"ref_assembly\" ]; then\n",
      "\n",
      "busco -i /drives/raid/AboobakerLab/manuel/data_phaw_analysis/phaw_reference/parhyale_hawaiensis_15Feb20182_1IWOV.fa -l arthropoda_odb10 --mode genome --cpu 16 -f --augustus -o ./busco_results_phaw5.0 \n",
      "\n",
      "fi\n",
      "\n",
      "#Run busco on Phaw 5.1\n",
      "if [ \"$1\" == \"gappfilled_assembly\" ]; then\n",
      "\n",
      "busco -i /drives/ssd1/manuel/phaw/2022_analysis/phaw_gapfilling/TGS-GapCloser_anlysis/results_sambaAsm/change_scafNames/phaw_sambaAsm.scaff_seqs_editedScafNames.fa -l arthropoda_odb10 --mode genome --cpu 16 -f --augustus -o ./busco_results_phaw5.1\n",
      "\n",
      "fi\n"
     ]
    }
   ],
   "source": [
    "%%bash\n",
    "\n",
    "cd ./scripts\n",
    "less 6_run_busco.sh"
   ]
  },
  {
   "cell_type": "markdown",
   "id": "47c4f3e1-e2ba-46fe-b4ae-86593ee651c2",
   "metadata": {},
   "source": [
    "### Print busco results - Phaw5.0 assembly"
   ]
  },
  {
   "cell_type": "code",
   "execution_count": 15,
   "id": "8954e5c7-c2a1-4562-9bd9-269f3d9e5fd7",
   "metadata": {},
   "outputs": [
    {
     "name": "stdout",
     "output_type": "stream",
     "text": [
      "# BUSCO version is: 5.3.2 \n",
      "# The lineage dataset is: arthropoda_odb10 (Creation date: 2020-09-10, number of genomes: 90, number of BUSCOs: 1013)\n",
      "# Summarized benchmarking in BUSCO notation for file /drives/raid/AboobakerLab/manuel/data_phaw_analysis/phaw_reference/parhyale_hawaiensis_15Feb20182_1IWOV.fa\n",
      "# BUSCO was run in mode: genome\n",
      "# Gene predictor used: augustus\n",
      "\n",
      "\t***** Results: *****\n",
      "\n",
      "\tC:90.0%[S:88.2%,D:1.8%],F:3.1%,M:6.9%,n:1013\t   \n",
      "\t911\tComplete BUSCOs (C)\t\t\t   \n",
      "\t893\tComplete and single-copy BUSCOs (S)\t   \n",
      "\t18\tComplete and duplicated BUSCOs (D)\t   \n",
      "\t31\tFragmented BUSCOs (F)\t\t\t   \n",
      "\t71\tMissing BUSCOs (M)\t\t\t   \n",
      "\t1013\tTotal BUSCO groups searched\t\t   \n",
      "\n",
      "Dependencies and versions:\n",
      "\thmmsearch: 3.1\n",
      "\tmakeblastdb: 2.11.0+\n",
      "\ttblastn: 2.11.0+\n",
      "\taugustus: 3.4.0\n",
      "\tgff2gbSmallDNA.pl: None\n",
      "\tnew_species.pl: None\n",
      "\tetraining: None\n"
     ]
    }
   ],
   "source": [
    "cat /drives/ssd1/manuel/phaw/2022_analysis/phaw_gapfilling/TGS-GapCloser_anlysis/busco_analysis/busco_results_phaw5.0/short_summary.specific.arthropoda_odb10.busco_results_phaw5.0.txt"
   ]
  },
  {
   "cell_type": "markdown",
   "id": "8183a7ca-0808-46ce-a058-23814eba9e0c",
   "metadata": {},
   "source": [
    "### Print busco results - Phaw5.1 assembly"
   ]
  },
  {
   "cell_type": "code",
   "execution_count": 16,
   "id": "07e53dda-208d-47ed-afa2-3c0d7af11f86",
   "metadata": {},
   "outputs": [
    {
     "name": "stdout",
     "output_type": "stream",
     "text": [
      "# BUSCO version is: 5.3.2 \n",
      "# The lineage dataset is: arthropoda_odb10 (Creation date: 2020-09-10, number of genomes: 90, number of BUSCOs: 1013)\n",
      "# Summarized benchmarking in BUSCO notation for file /drives/ssd1/manuel/phaw/2022_analysis/phaw_gapfilling/TGS-GapCloser_anlysis/results_sambaAsm/change_scafNames/phaw_sambaAsm.scaff_seqs_editedScafNames.fa\n",
      "# BUSCO was run in mode: genome\n",
      "# Gene predictor used: augustus\n",
      "\n",
      "\t***** Results: *****\n",
      "\n",
      "\tC:90.0%[S:85.9%,D:4.1%],F:3.5%,M:6.5%,n:1013\t   \n",
      "\t912\tComplete BUSCOs (C)\t\t\t   \n",
      "\t870\tComplete and single-copy BUSCOs (S)\t   \n",
      "\t42\tComplete and duplicated BUSCOs (D)\t   \n",
      "\t35\tFragmented BUSCOs (F)\t\t\t   \n",
      "\t66\tMissing BUSCOs (M)\t\t\t   \n",
      "\t1013\tTotal BUSCO groups searched\t\t   \n",
      "\n",
      "Dependencies and versions:\n",
      "\thmmsearch: 3.1\n",
      "\tmakeblastdb: 2.11.0+\n",
      "\ttblastn: 2.11.0+\n",
      "\taugustus: 3.4.0\n",
      "\tgff2gbSmallDNA.pl: None\n",
      "\tnew_species.pl: None\n",
      "\tetraining: None\n"
     ]
    }
   ],
   "source": [
    "cat /drives/ssd1/manuel/phaw/2022_analysis/phaw_gapfilling/TGS-GapCloser_anlysis/busco_analysis/busco_results_phaw5.1/short_summary.specific.arthropoda_odb10.busco_results_phaw5.1.txt"
   ]
  },
  {
   "cell_type": "markdown",
   "id": "92a03575-b4bb-43fe-bcff-8e22b6421a91",
   "metadata": {},
   "source": [
    "## 5. Compare gap prevalence in Phaw5.0 and Phaw5.1"
   ]
  },
  {
   "cell_type": "code",
   "execution_count": 4,
   "id": "1cd60c15-8a3a-4659-ac5b-13638654b637",
   "metadata": {},
   "outputs": [],
   "source": [
    "import pandas as pd\n",
    "import matplotlib.pyplot as plt\n",
    "import matplotlib.axes as ax\n",
    "import collections\n",
    "import numpy as np"
   ]
  },
  {
   "cell_type": "markdown",
   "id": "7929b7a6-678e-4f4b-b100-b53a8b185ae3",
   "metadata": {},
   "source": [
    "#### Load files containing gap information for both, original 0 and gapfilled, assemblies"
   ]
  },
  {
   "cell_type": "code",
   "execution_count": 2,
   "id": "c2fa2c9a-1be8-4571-a833-d34ce56b02b7",
   "metadata": {},
   "outputs": [],
   "source": [
    "#Phaw5.0 - Reference assembly gap information\n",
    "phaw_RefAsm_gaps = pd.read_csv(\"/drives/ssd1/manuel/phaw/2022_analysis/phaw_gapfilling/TGS-GapCloser_anlysis/results_fullAsm_stats/parhyale_hawaiensis_15Feb20182_1IWOV.fa.bed\",sep='\\t',header=None)\n",
    "phaw_RefAsm_gaps = phaw_RefAsm_gaps.assign(gap_len = phaw_RefAsm_gaps.iloc[:, 2] - phaw_RefAsm_gaps.iloc[:, 1] + 1)\n",
    "\n",
    "#Phaw5.1 - Samba + TGSgapcloser Gap-filled assembly gap information\n",
    "samba_gapFilled_asm = pd.read_csv(\"/drives/ssd1/manuel/phaw/2022_analysis/phaw_gapfilling/TGS-GapCloser_anlysis/results_sambaAsm/phaw_sambaAsm.scaff_seqs.bed\",sep='\\t',header=None)\n",
    "samba_gapFilled_asm = samba_gapFilled_asm.assign(gap_len = samba_gapFilled_asm.iloc[:, 2] - samba_gapFilled_asm.iloc[:, 1] + 1)"
   ]
  },
  {
   "cell_type": "markdown",
   "id": "1649bf92-631f-4f4d-9488-16262efaf3cc",
   "metadata": {},
   "source": [
    "#### Plot Gap frequency vs gap length in Phaw5.0"
   ]
  },
  {
   "cell_type": "code",
   "execution_count": 5,
   "id": "41ae0921-1330-49da-be39-57e324aa9821",
   "metadata": {},
   "outputs": [
    {
     "name": "stdout",
     "output_type": "stream",
     "text": [
      "Number of Gaps: 333096\n"
     ]
    },
    {
     "data": {
      "image/png": "[encoded data removed]",
      "text/plain": [
       "<Figure size 288x288 with 1 Axes>"
      ]
     },
     "metadata": {
      "needs_background": "light"
     },
     "output_type": "display_data"
    }
   ],
   "source": [
    "plt.figure(figsize=(4,4))\n",
    "plt.hist(phaw_RefAsm_gaps['gap_len'],bins=50,color='blue')#,title = \"Current assembly\").ticklabel_format(style='sci', axis='y', scilimits=(0,0))\n",
    "plt.title(\"Phaw 5.0\")\n",
    "plt.axvline(phaw_RefAsm_gaps['gap_len'].median(),color='red', ls='--', lw=2)\n",
    "plt.xlabel('Gap length (bp)')\n",
    "plt.ylabel('Gap count')\n",
    "\n",
    "min_ylim, max_ylim = plt.ylim()\n",
    "plt.text(phaw_RefAsm_gaps['gap_len'].median()*1.3,max_ylim*0.9,'Mean: {:.0f}'.format(phaw_RefAsm_gaps['gap_len'].median()))\n",
    "\n",
    "print(\"Number of Gaps: \" + str(phaw_RefAsm_gaps.shape[0]))\n",
    "#filename = 'gapLength_phaw5.0'\n",
    "#plt.savefig('gapLength_phaw5.0.tiff', dpi=600, format=\"tiff\", pil_kwargs={\"compression\": \"tiff_lzw\"},bbox_inches = \"tight\")"
   ]
  },
  {
   "cell_type": "markdown",
   "id": "74b61ed0-8894-419b-be3b-7373d042f163",
   "metadata": {},
   "source": [
    "#### Plot Gap frequency vs gap length in Phaw5.1"
   ]
  },
  {
   "cell_type": "code",
   "execution_count": 10,
   "id": "fc402e73-8ed0-4ed4-8208-479c03e5090f",
   "metadata": {},
   "outputs": [
    {
     "name": "stdout",
     "output_type": "stream",
     "text": [
      "Number of Gaps: 93643\n"
     ]
    },
    {
     "data": {
      "image/png": "[encoded data removed]",
      "text/plain": [
       "<Figure size 288x288 with 1 Axes>"
      ]
     },
     "metadata": {
      "needs_background": "light"
     },
     "output_type": "display_data"
    }
   ],
   "source": [
    "plt.figure(figsize=(4,4))\n",
    "plt.hist(samba_gapFilled_asm['gap_len'],bins=50,color='blue')#,title = \"Current assembly\").ticklabel_format(style='sci', axis='y', scilimits=(0,0))\n",
    "plt.title(\"Phaw 5.1\")\n",
    "plt.axvline(samba_gapFilled_asm['gap_len'].median(),color='red', ls='--', lw=2)\n",
    "plt.xlabel('Gap length (bp)')\n",
    "plt.ylabel('Gap count')\n",
    "\n",
    "min_ylim, max_ylim = plt.ylim()\n",
    "plt.text(samba_gapFilled_asm['gap_len'].median()*2.9,max_ylim*0.9,'Mean: {:.0f}'.format(samba_gapFilled_asm['gap_len'].median()))\n",
    "\n",
    "print(\"Number of Gaps: \" + str(samba_gapFilled_asm.shape[0]))\n",
    "#plt.savefig('gapLength_phaw5.1.tiff', dpi=600, format=\"tiff\", pil_kwargs={\"compression\": \"tiff_lzw\"},bbox_inches = \"tight\")"
   ]
  },
  {
   "cell_type": "markdown",
   "id": "3dc89efc-05f4-40f9-a8de-d35375dab3d8",
   "metadata": {},
   "source": [
    "## 6. Compare gap prevalence in Phaw5.0 and Phaw5.1"
   ]
  },
  {
   "cell_type": "markdown",
   "id": "a2a776ad-5bbd-4b32-bdc2-afd544fad77d",
   "metadata": {},
   "source": [
    "#### Analyse N prevalence in Phaw5.1 assembly"
   ]
  },
  {
   "cell_type": "code",
   "execution_count": 75,
   "id": "93ee895e-1511-428d-ba20-871f54c62a82",
   "metadata": {},
   "outputs": [
    {
     "name": "stdout",
     "output_type": "stream",
     "text": [
      "Scaffold\tlength\tNs_perScaf\tN_fraction\n",
      "Scaffold_135_HRSCAF_924\t114006073\t2971409\n",
      "Scaffold_283869_HRSCAF_291705\t100614917\t2605681\n",
      "Scaffold_N3\t95645562\t2788166\n",
      "Scaffold_N6\t91876534\t2737545\n",
      "Scaffold_7301_HRSCAF_10348\t80374539\t2302407\n",
      "Scaffold_283828_HRSCAF_291664\t77447951\t2293922\n",
      "Scaffold_203_HRSCAF_1201\t77231641\t1775088\n",
      "Scaffold_283867_HRSCAF_291703\t73492129\t1820546\n",
      "Scaffold_283817_HRSCAF_291653\t71549015\t1961417\n",
      "Scaffold_N2064\t68717620\t1587650\n"
     ]
    }
   ],
   "source": [
    "%%bash\n",
    "#Count Ns per scaffold in PHAW5.1 assembly. REmove header and last line(total genome size)\n",
    "#/drives/raid/AboobakerLab/software/faCount \\\n",
    "#/drives/ssd1/manuel/phaw/2022_analysis/phaw_gapfilling/TGS-GapCloser_anlysis/results_sambaAsm/change_scafNames/phaw_sambaAsm.scaff_seqs_editedScafNames.fa | cut -f1,2,7 | tail -n +2 | head -n -1 > phaw_sambaAsm.scaff_seqs_editedScafNames._Ncounts.txt\n",
    "\n",
    "echo -e \"Scaffold\\tlength\\tNs_perScaf\\tN_fraction\"\n",
    "cat /drives/ssd1/manuel/phaw/2022_analysis/phaw_gapfilling/TGS-GapCloser_anlysis/results_sambaAsm/phaw_sambaAsm.scaff_seqs_editedScafNames._Ncounts.txt | sort -k2,2gr |head -10"
   ]
  },
  {
   "cell_type": "code",
   "execution_count": 21,
   "id": "150d99da-11c5-41e4-af52-314cb6dd1031",
   "metadata": {},
   "outputs": [
    {
     "data": {
      "text/html": [
       "<div>\n",
       "<style scoped>\n",
       "    .dataframe tbody tr th:only-of-type {\n",
       "        vertical-align: middle;\n",
       "    }\n",
       "\n",
       "    .dataframe tbody tr th {\n",
       "        vertical-align: top;\n",
       "    }\n",
       "\n",
       "    .dataframe thead th {\n",
       "        text-align: right;\n",
       "    }\n",
       "</style>\n",
       "<table border=\"1\" class=\"dataframe\">\n",
       "  <thead>\n",
       "    <tr style=\"text-align: right;\">\n",
       "      <th></th>\n",
       "      <th>index</th>\n",
       "      <th>scaffold_id</th>\n",
       "      <th>1</th>\n",
       "      <th>2</th>\n",
       "      <th>N_perc</th>\n",
       "      <th>Seq_perc</th>\n",
       "    </tr>\n",
       "  </thead>\n",
       "  <tbody>\n",
       "    <tr>\n",
       "      <th>0</th>\n",
       "      <td>193893</td>\n",
       "      <td>Scaffold_135_HRSCAF_924</td>\n",
       "      <td>114006073</td>\n",
       "      <td>2971409</td>\n",
       "      <td>2.606360</td>\n",
       "      <td>97.393640</td>\n",
       "    </tr>\n",
       "    <tr>\n",
       "      <th>1</th>\n",
       "      <td>257237</td>\n",
       "      <td>Scaffold_283869_HRSCAF_291705</td>\n",
       "      <td>100614917</td>\n",
       "      <td>2605681</td>\n",
       "      <td>2.589756</td>\n",
       "      <td>97.410244</td>\n",
       "    </tr>\n",
       "    <tr>\n",
       "      <th>2</th>\n",
       "      <td>2</td>\n",
       "      <td>Scaffold_N3</td>\n",
       "      <td>95645562</td>\n",
       "      <td>2788166</td>\n",
       "      <td>2.915102</td>\n",
       "      <td>97.084898</td>\n",
       "    </tr>\n",
       "    <tr>\n",
       "      <th>3</th>\n",
       "      <td>5</td>\n",
       "      <td>Scaffold_N6</td>\n",
       "      <td>91876534</td>\n",
       "      <td>2737545</td>\n",
       "      <td>2.979591</td>\n",
       "      <td>97.020409</td>\n",
       "    </tr>\n",
       "    <tr>\n",
       "      <th>4</th>\n",
       "      <td>268140</td>\n",
       "      <td>Scaffold_7301_HRSCAF_10348</td>\n",
       "      <td>80374539</td>\n",
       "      <td>2302407</td>\n",
       "      <td>2.864597</td>\n",
       "      <td>97.135403</td>\n",
       "    </tr>\n",
       "    <tr>\n",
       "      <th>...</th>\n",
       "      <td>...</td>\n",
       "      <td>...</td>\n",
       "      <td>...</td>\n",
       "      <td>...</td>\n",
       "      <td>...</td>\n",
       "      <td>...</td>\n",
       "    </tr>\n",
       "    <tr>\n",
       "      <th>280580</th>\n",
       "      <td>261835</td>\n",
       "      <td>Scaffold_282095_HRSCAF_286111</td>\n",
       "      <td>200</td>\n",
       "      <td>0</td>\n",
       "      <td>0.000000</td>\n",
       "      <td>100.000000</td>\n",
       "    </tr>\n",
       "    <tr>\n",
       "      <th>280581</th>\n",
       "      <td>78418</td>\n",
       "      <td>Scaffold_282132_HRSCAF_286148</td>\n",
       "      <td>200</td>\n",
       "      <td>0</td>\n",
       "      <td>0.000000</td>\n",
       "      <td>100.000000</td>\n",
       "    </tr>\n",
       "    <tr>\n",
       "      <th>280582</th>\n",
       "      <td>206353</td>\n",
       "      <td>Scaffold_282065_HRSCAF_286081</td>\n",
       "      <td>200</td>\n",
       "      <td>0</td>\n",
       "      <td>0.000000</td>\n",
       "      <td>100.000000</td>\n",
       "    </tr>\n",
       "    <tr>\n",
       "      <th>280583</th>\n",
       "      <td>154769</td>\n",
       "      <td>Scaffold_136897_HRSCAF_140911</td>\n",
       "      <td>199</td>\n",
       "      <td>0</td>\n",
       "      <td>0.000000</td>\n",
       "      <td>100.000000</td>\n",
       "    </tr>\n",
       "    <tr>\n",
       "      <th>280584</th>\n",
       "      <td>229932</td>\n",
       "      <td>Scaffold_135289_HRSCAF_139303</td>\n",
       "      <td>199</td>\n",
       "      <td>0</td>\n",
       "      <td>0.000000</td>\n",
       "      <td>100.000000</td>\n",
       "    </tr>\n",
       "  </tbody>\n",
       "</table>\n",
       "<p>280585 rows × 6 columns</p>\n",
       "</div>"
      ],
      "text/plain": [
       "         index                    scaffold_id          1        2    N_perc  \\\n",
       "0       193893        Scaffold_135_HRSCAF_924  114006073  2971409  2.606360   \n",
       "1       257237  Scaffold_283869_HRSCAF_291705  100614917  2605681  2.589756   \n",
       "2            2                    Scaffold_N3   95645562  2788166  2.915102   \n",
       "3            5                    Scaffold_N6   91876534  2737545  2.979591   \n",
       "4       268140     Scaffold_7301_HRSCAF_10348   80374539  2302407  2.864597   \n",
       "...        ...                            ...        ...      ...       ...   \n",
       "280580  261835  Scaffold_282095_HRSCAF_286111        200        0  0.000000   \n",
       "280581   78418  Scaffold_282132_HRSCAF_286148        200        0  0.000000   \n",
       "280582  206353  Scaffold_282065_HRSCAF_286081        200        0  0.000000   \n",
       "280583  154769  Scaffold_136897_HRSCAF_140911        199        0  0.000000   \n",
       "280584  229932  Scaffold_135289_HRSCAF_139303        199        0  0.000000   \n",
       "\n",
       "          Seq_perc  \n",
       "0        97.393640  \n",
       "1        97.410244  \n",
       "2        97.084898  \n",
       "3        97.020409  \n",
       "4        97.135403  \n",
       "...            ...  \n",
       "280580  100.000000  \n",
       "280581  100.000000  \n",
       "280582  100.000000  \n",
       "280583  100.000000  \n",
       "280584  100.000000  \n",
       "\n",
       "[280585 rows x 6 columns]"
      ]
     },
     "execution_count": 21,
     "metadata": {},
     "output_type": "execute_result"
    }
   ],
   "source": [
    "#Open dataframe containing gap information\n",
    "NsbyScaffphaw5_1= pd.read_csv(\"/drives/ssd1/manuel/phaw/2022_analysis/phaw_gapfilling/TGS-GapCloser_anlysis/results_sambaAsm/phaw_sambaAsm.scaff_seqs_editedScafNames._Ncounts.txt\",sep='\\t',header=None)\n",
    "NsbyScaffphaw5_1[\"N_perc\"] = (NsbyScaffphaw5_1[2]/NsbyScaffphaw5_1[1])*100\n",
    "NsbyScaffphaw5_1[\"Seq_perc\"] = 100 - NsbyScaffphaw5_1[\"N_perc\"]\n",
    "NsbyScaffphaw5_1 = NsbyScaffphaw5_1.sort_values(1,ascending=False).rename(columns={0:'scaffold_id'}).reset_index()\n",
    "NsbyScaffphaw5_1 # = NsbyScaffphaw5_1.reset_index().drop(\"index\", axis=1)"
   ]
  },
  {
   "cell_type": "code",
   "execution_count": 22,
   "id": "7665f56a-e1b1-4736-aaab-1da7a89ecc40",
   "metadata": {},
   "outputs": [
    {
     "name": "stderr",
     "output_type": "stream",
     "text": [
      "<ipython-input-22-01c1699d16fd>:2: FutureWarning: Dropping of nuisance columns in DataFrame reductions (with 'numeric_only=None') is deprecated; in a future version this will raise TypeError.  Select only valid columns before calling the reduction.\n",
      "  NsbyScaffphaw5_1.loc['mean']= NsbyScaffphaw5_1[100:].mean() #Averaging rows\n"
     ]
    },
    {
     "data": {
      "text/html": [
       "<div>\n",
       "<style scoped>\n",
       "    .dataframe tbody tr th:only-of-type {\n",
       "        vertical-align: middle;\n",
       "    }\n",
       "\n",
       "    .dataframe tbody tr th {\n",
       "        vertical-align: top;\n",
       "    }\n",
       "\n",
       "    .dataframe thead th {\n",
       "        text-align: right;\n",
       "    }\n",
       "</style>\n",
       "<table border=\"1\" class=\"dataframe\">\n",
       "  <thead>\n",
       "    <tr style=\"text-align: right;\">\n",
       "      <th></th>\n",
       "      <th>index</th>\n",
       "      <th>scaffold_id</th>\n",
       "      <th>1</th>\n",
       "      <th>2</th>\n",
       "      <th>N_perc</th>\n",
       "      <th>Seq_perc</th>\n",
       "    </tr>\n",
       "  </thead>\n",
       "  <tbody>\n",
       "    <tr>\n",
       "      <th>0</th>\n",
       "      <td>193893.000000</td>\n",
       "      <td>Scaffold_135_HRSCAF_924</td>\n",
       "      <td>1.140061e+08</td>\n",
       "      <td>2.971409e+06</td>\n",
       "      <td>2.606360</td>\n",
       "      <td>97.393640</td>\n",
       "    </tr>\n",
       "    <tr>\n",
       "      <th>1</th>\n",
       "      <td>257237.000000</td>\n",
       "      <td>Scaffold_283869_HRSCAF_291705</td>\n",
       "      <td>1.006149e+08</td>\n",
       "      <td>2.605681e+06</td>\n",
       "      <td>2.589756</td>\n",
       "      <td>97.410244</td>\n",
       "    </tr>\n",
       "    <tr>\n",
       "      <th>2</th>\n",
       "      <td>2.000000</td>\n",
       "      <td>Scaffold_N3</td>\n",
       "      <td>9.564556e+07</td>\n",
       "      <td>2.788166e+06</td>\n",
       "      <td>2.915102</td>\n",
       "      <td>97.084898</td>\n",
       "    </tr>\n",
       "    <tr>\n",
       "      <th>3</th>\n",
       "      <td>5.000000</td>\n",
       "      <td>Scaffold_N6</td>\n",
       "      <td>9.187653e+07</td>\n",
       "      <td>2.737545e+06</td>\n",
       "      <td>2.979591</td>\n",
       "      <td>97.020409</td>\n",
       "    </tr>\n",
       "    <tr>\n",
       "      <th>4</th>\n",
       "      <td>268140.000000</td>\n",
       "      <td>Scaffold_7301_HRSCAF_10348</td>\n",
       "      <td>8.037454e+07</td>\n",
       "      <td>2.302407e+06</td>\n",
       "      <td>2.864597</td>\n",
       "      <td>97.135403</td>\n",
       "    </tr>\n",
       "    <tr>\n",
       "      <th>...</th>\n",
       "      <td>...</td>\n",
       "      <td>...</td>\n",
       "      <td>...</td>\n",
       "      <td>...</td>\n",
       "      <td>...</td>\n",
       "      <td>...</td>\n",
       "    </tr>\n",
       "    <tr>\n",
       "      <th>96</th>\n",
       "      <td>197720.000000</td>\n",
       "      <td>Scaffold_283800_HRSCAF_291571</td>\n",
       "      <td>2.149020e+05</td>\n",
       "      <td>1.448300e+04</td>\n",
       "      <td>6.739351</td>\n",
       "      <td>93.260649</td>\n",
       "    </tr>\n",
       "    <tr>\n",
       "      <th>97</th>\n",
       "      <td>143712.000000</td>\n",
       "      <td>Scaffold_401_HRSCAF_1730</td>\n",
       "      <td>2.140710e+05</td>\n",
       "      <td>1.161800e+04</td>\n",
       "      <td>5.427171</td>\n",
       "      <td>94.572829</td>\n",
       "    </tr>\n",
       "    <tr>\n",
       "      <th>98</th>\n",
       "      <td>107854.000000</td>\n",
       "      <td>Scaffold_12157_HRSCAF_15513</td>\n",
       "      <td>2.134010e+05</td>\n",
       "      <td>3.676000e+03</td>\n",
       "      <td>1.722579</td>\n",
       "      <td>98.277421</td>\n",
       "    </tr>\n",
       "    <tr>\n",
       "      <th>99</th>\n",
       "      <td>151575.000000</td>\n",
       "      <td>Scaffold_283758_HRSCAF_291462</td>\n",
       "      <td>2.128460e+05</td>\n",
       "      <td>1.018000e+04</td>\n",
       "      <td>4.782801</td>\n",
       "      <td>95.217199</td>\n",
       "    </tr>\n",
       "    <tr>\n",
       "      <th>mean</th>\n",
       "      <td>140294.430066</td>\n",
       "      <td>avg_scaffold</td>\n",
       "      <td>1.034049e+03</td>\n",
       "      <td>6.177239e+01</td>\n",
       "      <td>0.382234</td>\n",
       "      <td>99.617766</td>\n",
       "    </tr>\n",
       "  </tbody>\n",
       "</table>\n",
       "<p>101 rows × 6 columns</p>\n",
       "</div>"
      ],
      "text/plain": [
       "              index                    scaffold_id             1  \\\n",
       "0     193893.000000        Scaffold_135_HRSCAF_924  1.140061e+08   \n",
       "1     257237.000000  Scaffold_283869_HRSCAF_291705  1.006149e+08   \n",
       "2          2.000000                    Scaffold_N3  9.564556e+07   \n",
       "3          5.000000                    Scaffold_N6  9.187653e+07   \n",
       "4     268140.000000     Scaffold_7301_HRSCAF_10348  8.037454e+07   \n",
       "...             ...                            ...           ...   \n",
       "96    197720.000000  Scaffold_283800_HRSCAF_291571  2.149020e+05   \n",
       "97    143712.000000       Scaffold_401_HRSCAF_1730  2.140710e+05   \n",
       "98    107854.000000    Scaffold_12157_HRSCAF_15513  2.134010e+05   \n",
       "99    151575.000000  Scaffold_283758_HRSCAF_291462  2.128460e+05   \n",
       "mean  140294.430066                   avg_scaffold  1.034049e+03   \n",
       "\n",
       "                 2    N_perc   Seq_perc  \n",
       "0     2.971409e+06  2.606360  97.393640  \n",
       "1     2.605681e+06  2.589756  97.410244  \n",
       "2     2.788166e+06  2.915102  97.084898  \n",
       "3     2.737545e+06  2.979591  97.020409  \n",
       "4     2.302407e+06  2.864597  97.135403  \n",
       "...            ...       ...        ...  \n",
       "96    1.448300e+04  6.739351  93.260649  \n",
       "97    1.161800e+04  5.427171  94.572829  \n",
       "98    3.676000e+03  1.722579  98.277421  \n",
       "99    1.018000e+04  4.782801  95.217199  \n",
       "mean  6.177239e+01  0.382234  99.617766  \n",
       "\n",
       "[101 rows x 6 columns]"
      ]
     },
     "execution_count": 22,
     "metadata": {},
     "output_type": "execute_result"
    }
   ],
   "source": [
    "#Edit dataframe to select only top 100 scaffols and collapse the rest\n",
    "NsbyScaffphaw5_1.loc['mean']= NsbyScaffphaw5_1[100:].mean() #Averaging rows\n",
    "NsbyScaffphaw5_1 = NsbyScaffphaw5_1.fillna('avg_scaffold')\n",
    "NsbyScaffphaw5_1 = NsbyScaffphaw5_1.drop(NsbyScaffphaw5_1.iloc[100:280585].index,inplace=False)\n",
    "NsbyScaffphaw5_1"
   ]
  },
  {
   "cell_type": "code",
   "execution_count": 25,
   "id": "90aa9cd7-140b-42a5-a0ee-605b9992f598",
   "metadata": {},
   "outputs": [
    {
     "data": {
      "image/png": "[encoded data removed]",
      "text/plain": [
       "<Figure size 576x288 with 1 Axes>"
      ]
     },
     "metadata": {
      "needs_background": "light"
     },
     "output_type": "display_data"
    }
   ],
   "source": [
    "#PLot N_percentage per sacffold in Phaw5.1 assembly\n",
    "\n",
    "plt.figure(figsize=(8,4))\n",
    "#data_for_barplot.plot(x=\"scaffold_id\",kind=\"bar\",stacked=True,figsize=(10, 8))\n",
    "\n",
    "plt.bar(NsbyScaffphaw5_1[\"scaffold_id\"],NsbyScaffphaw5_1[\"Seq_perc\"], color='y')\n",
    "plt.bar(NsbyScaffphaw5_1[\"scaffold_id\"],NsbyScaffphaw5_1[\"N_perc\"], color='r',bottom=NsbyScaffphaw5_1[\"Seq_perc\"])\n",
    "\n",
    "scaffold_order = np.arange(1, 102)\n",
    "\n",
    "plt.xticks(NsbyScaffphaw5_1[\"scaffold_id\"],list(np.append(scaffold_order[:-1],'101+')),rotation=45,fontsize =13,\n",
    "           horizontalalignment=\"right\",rotation_mode='anchor')\n",
    "#plt.xticks(data_for_barplot[\"scaffold_id\"][100:101],\"101+\",rotation=45, horizontalalignment=\"right\",rotation_mode='anchor')\n",
    "plt.yticks(list(range(0,200,10)),rotation=0,fontsize =13, horizontalalignment=\"right\",rotation_mode='anchor')\n",
    "plt.locator_params(axis='x', nbins=21)\n",
    "plt.ylabel(\"Scaffold length (%)\",fontsize=20)\n",
    "plt.xlabel('Scaffold',fontsize=15)\n",
    "colors = {'Ns':'red', 'ATCG':'y'}         \n",
    "labels = list(colors.keys())\n",
    "handles = [plt.Rectangle((0,0),1,1, color=colors[label]) for label in labels]\n",
    "plt.legend(handles, labels,loc=4,prop={'size': 15})\n",
    "plt.margins(x=0.015,y=0.015, tight=True)\n",
    "\n",
    "#plt.savefig(\"NsbyScaff_phaw5.1.jpg\", dpi=300,bbox_inches = 'tight')\n",
    "plt.show()"
   ]
  },
  {
   "cell_type": "markdown",
   "id": "d34748af-6f1c-4775-b0cc-24befa50dc12",
   "metadata": {},
   "source": [
    "#### Analyse N prevalence in Phaw5.0 assembly"
   ]
  },
  {
   "cell_type": "code",
   "execution_count": 28,
   "id": "81141a71-40a7-4b66-b889-32e9290ead97",
   "metadata": {
    "tags": []
   },
   "outputs": [
    {
     "name": "stdout",
     "output_type": "stream",
     "text": [
      "Scaffold\tlength\tNs_perScaf\tN_fraction\n",
      "Scaffold_135_HRSCAF_924\t111408412\t20541697\n",
      "Scaffold_283869_HRSCAF_291705\t98701784\t18760302\n",
      "Scaffold_283823_HRSCAF_291659\t93633318\t18200681\n",
      "Scaffold_282695_HRSCAF_288005\t90581941\t18219003\n",
      "Scaffold_282861_HRSCAF_288508\t87511883\t17508509\n",
      "Scaffold_283863_HRSCAF_291699\t80577187\t17623894\n",
      "Scaffold_7301_HRSCAF_10348\t78697836\t14523408\n",
      "Scaffold_203_HRSCAF_1201\t75848562\t13949094\n",
      "Scaffold_283828_HRSCAF_291664\t75447233\t14928933\n",
      "Scaffold_283867_HRSCAF_291703\t71805519\t13644116\n"
     ]
    }
   ],
   "source": [
    "%%bash\n",
    "\n",
    "#Run N prevalence in Phaw5.0 assembly\n",
    "\n",
    "#Count Ns per scaffold in PHAW5.1 assembly. REmove header and last line(total genome size)\n",
    "#/drives/raid/AboobakerLab/software/faCount \\\n",
    "#/drives/raid/AboobakerLab/data/genomes/phaw/parhyale_hawaiensis_15Feb20182_1IWOV.fa | cut -f1,2,7 | tail -n +2 | head -n -1 > parhyale_hawaiensis_15Feb20182_1IWOV.fa_Ncounts.txt\n",
    "\n",
    "echo -e \"Scaffold\\tlength\\tNs_perScaf\\tN_fraction\"\n",
    "cat /drives/ssd1/manuel/phaw/2022_analysis/phaw_gapfilling/TGS-GapCloser_anlysis/results_fullAsm_stats/parhyale_hawaiensis_15Feb20182_1IWOV.fa_Ncounts.txt | sort -k2,2gr |head -10"
   ]
  },
  {
   "cell_type": "code",
   "execution_count": 30,
   "id": "12acf647-1c61-49b4-a8e7-a8de07b92120",
   "metadata": {},
   "outputs": [
    {
     "name": "stderr",
     "output_type": "stream",
     "text": [
      "<ipython-input-30-3f0c68009b86>:8: FutureWarning: Dropping of nuisance columns in DataFrame reductions (with 'numeric_only=None') is deprecated; in a future version this will raise TypeError.  Select only valid columns before calling the reduction.\n",
      "  NsbyScaffphaw5_0.loc['mean']= NsbyScaffphaw5_0[100:].mean() #Averaging rows\n"
     ]
    },
    {
     "data": {
      "text/html": [
       "<div>\n",
       "<style scoped>\n",
       "    .dataframe tbody tr th:only-of-type {\n",
       "        vertical-align: middle;\n",
       "    }\n",
       "\n",
       "    .dataframe tbody tr th {\n",
       "        vertical-align: top;\n",
       "    }\n",
       "\n",
       "    .dataframe thead th {\n",
       "        text-align: right;\n",
       "    }\n",
       "</style>\n",
       "<table border=\"1\" class=\"dataframe\">\n",
       "  <thead>\n",
       "    <tr style=\"text-align: right;\">\n",
       "      <th></th>\n",
       "      <th>index</th>\n",
       "      <th>scaffold_id</th>\n",
       "      <th>1</th>\n",
       "      <th>2</th>\n",
       "      <th>N_perc</th>\n",
       "      <th>Seq_perc</th>\n",
       "    </tr>\n",
       "  </thead>\n",
       "  <tbody>\n",
       "    <tr>\n",
       "      <th>0</th>\n",
       "      <td>134.000000</td>\n",
       "      <td>Scaffold_135_HRSCAF_924</td>\n",
       "      <td>1.114084e+08</td>\n",
       "      <td>2.054170e+07</td>\n",
       "      <td>18.438192</td>\n",
       "      <td>81.561808</td>\n",
       "    </tr>\n",
       "    <tr>\n",
       "      <th>1</th>\n",
       "      <td>283868.000000</td>\n",
       "      <td>Scaffold_283869_HRSCAF_291705</td>\n",
       "      <td>9.870178e+07</td>\n",
       "      <td>1.876030e+07</td>\n",
       "      <td>19.007055</td>\n",
       "      <td>80.992945</td>\n",
       "    </tr>\n",
       "    <tr>\n",
       "      <th>2</th>\n",
       "      <td>283822.000000</td>\n",
       "      <td>Scaffold_283823_HRSCAF_291659</td>\n",
       "      <td>9.363332e+07</td>\n",
       "      <td>1.820068e+07</td>\n",
       "      <td>19.438253</td>\n",
       "      <td>80.561747</td>\n",
       "    </tr>\n",
       "    <tr>\n",
       "      <th>3</th>\n",
       "      <td>282694.000000</td>\n",
       "      <td>Scaffold_282695_HRSCAF_288005</td>\n",
       "      <td>9.058194e+07</td>\n",
       "      <td>1.821900e+07</td>\n",
       "      <td>20.113284</td>\n",
       "      <td>79.886716</td>\n",
       "    </tr>\n",
       "    <tr>\n",
       "      <th>4</th>\n",
       "      <td>282860.000000</td>\n",
       "      <td>Scaffold_282861_HRSCAF_288508</td>\n",
       "      <td>8.751188e+07</td>\n",
       "      <td>1.750851e+07</td>\n",
       "      <td>20.007008</td>\n",
       "      <td>79.992992</td>\n",
       "    </tr>\n",
       "    <tr>\n",
       "      <th>...</th>\n",
       "      <td>...</td>\n",
       "      <td>...</td>\n",
       "      <td>...</td>\n",
       "      <td>...</td>\n",
       "      <td>...</td>\n",
       "      <td>...</td>\n",
       "    </tr>\n",
       "    <tr>\n",
       "      <th>96</th>\n",
       "      <td>24127.000000</td>\n",
       "      <td>Scaffold_24128_HRSCAF_27984</td>\n",
       "      <td>2.107230e+05</td>\n",
       "      <td>7.490700e+04</td>\n",
       "      <td>35.547615</td>\n",
       "      <td>64.452385</td>\n",
       "    </tr>\n",
       "    <tr>\n",
       "      <th>97</th>\n",
       "      <td>203.000000</td>\n",
       "      <td>Scaffold_204_HRSCAF_1205</td>\n",
       "      <td>2.078010e+05</td>\n",
       "      <td>7.273400e+04</td>\n",
       "      <td>35.001756</td>\n",
       "      <td>64.998244</td>\n",
       "    </tr>\n",
       "    <tr>\n",
       "      <th>98</th>\n",
       "      <td>282556.000000</td>\n",
       "      <td>Scaffold_282557_HRSCAF_287516</td>\n",
       "      <td>2.066000e+05</td>\n",
       "      <td>7.113300e+04</td>\n",
       "      <td>34.430300</td>\n",
       "      <td>65.569700</td>\n",
       "    </tr>\n",
       "    <tr>\n",
       "      <th>99</th>\n",
       "      <td>283799.000000</td>\n",
       "      <td>Scaffold_283800_HRSCAF_291571</td>\n",
       "      <td>2.060340e+05</td>\n",
       "      <td>4.991300e+04</td>\n",
       "      <td>24.225613</td>\n",
       "      <td>75.774387</td>\n",
       "    </tr>\n",
       "    <tr>\n",
       "      <th>mean</th>\n",
       "      <td>141917.155151</td>\n",
       "      <td>avg_scaffold</td>\n",
       "      <td>9.622777e+02</td>\n",
       "      <td>2.050801e+02</td>\n",
       "      <td>1.099162</td>\n",
       "      <td>98.900838</td>\n",
       "    </tr>\n",
       "  </tbody>\n",
       "</table>\n",
       "<p>101 rows × 6 columns</p>\n",
       "</div>"
      ],
      "text/plain": [
       "              index                    scaffold_id             1  \\\n",
       "0        134.000000        Scaffold_135_HRSCAF_924  1.114084e+08   \n",
       "1     283868.000000  Scaffold_283869_HRSCAF_291705  9.870178e+07   \n",
       "2     283822.000000  Scaffold_283823_HRSCAF_291659  9.363332e+07   \n",
       "3     282694.000000  Scaffold_282695_HRSCAF_288005  9.058194e+07   \n",
       "4     282860.000000  Scaffold_282861_HRSCAF_288508  8.751188e+07   \n",
       "...             ...                            ...           ...   \n",
       "96     24127.000000    Scaffold_24128_HRSCAF_27984  2.107230e+05   \n",
       "97       203.000000       Scaffold_204_HRSCAF_1205  2.078010e+05   \n",
       "98    282556.000000  Scaffold_282557_HRSCAF_287516  2.066000e+05   \n",
       "99    283799.000000  Scaffold_283800_HRSCAF_291571  2.060340e+05   \n",
       "mean  141917.155151                   avg_scaffold  9.622777e+02   \n",
       "\n",
       "                 2     N_perc   Seq_perc  \n",
       "0     2.054170e+07  18.438192  81.561808  \n",
       "1     1.876030e+07  19.007055  80.992945  \n",
       "2     1.820068e+07  19.438253  80.561747  \n",
       "3     1.821900e+07  20.113284  79.886716  \n",
       "4     1.750851e+07  20.007008  79.992992  \n",
       "...            ...        ...        ...  \n",
       "96    7.490700e+04  35.547615  64.452385  \n",
       "97    7.273400e+04  35.001756  64.998244  \n",
       "98    7.113300e+04  34.430300  65.569700  \n",
       "99    4.991300e+04  24.225613  75.774387  \n",
       "mean  2.050801e+02   1.099162  98.900838  \n",
       "\n",
       "[101 rows x 6 columns]"
      ]
     },
     "execution_count": 30,
     "metadata": {},
     "output_type": "execute_result"
    }
   ],
   "source": [
    "#Open dataframe containing gap information - Phaw5.0\n",
    "NsbyScaffphaw5_0 = pd.read_csv(\"/drives/ssd1/manuel/phaw/2022_analysis/phaw_gapfilling/TGS-GapCloser_anlysis/results_fullAsm_stats/parhyale_hawaiensis_15Feb20182_1IWOV.fa_Ncounts.txt\",sep='\\t',header=None)\n",
    "NsbyScaffphaw5_0[\"N_perc\"] = (NsbyScaffphaw5_0[2]/NsbyScaffphaw5_0[1])*100\n",
    "NsbyScaffphaw5_0[\"Seq_perc\"] = 100 - NsbyScaffphaw5_0[\"N_perc\"]\n",
    "NsbyScaffphaw5_0 = NsbyScaffphaw5_0.sort_values(1,ascending=False).rename(columns={0:'scaffold_id'}).reset_index()\n",
    "\n",
    "#Edit dataframe to select only top 100 scaffols and collapse the rest\n",
    "NsbyScaffphaw5_0.loc['mean']= NsbyScaffphaw5_0[100:].mean() #Averaging rows\n",
    "NsbyScaffphaw5_0 = NsbyScaffphaw5_0.fillna('avg_scaffold')\n",
    "NsbyScaffphaw5_0 = NsbyScaffphaw5_0.drop(NsbyScaffphaw5_0.iloc[100:283876].index,inplace=False)\n",
    "NsbyScaffphaw5_0"
   ]
  },
  {
   "cell_type": "code",
   "execution_count": 31,
   "id": "188750a8-148c-4768-b878-be383e6782e8",
   "metadata": {},
   "outputs": [
    {
     "data": {
      "image/png": "[encoded data removed]",
      "text/plain": [
       "<Figure size 576x288 with 1 Axes>"
      ]
     },
     "metadata": {
      "needs_background": "light"
     },
     "output_type": "display_data"
    }
   ],
   "source": [
    "#Plot results   \n",
    "\n",
    "plt.figure(figsize=(8,4))\n",
    "#data_for_barplot.plot(x=\"scaffold_id\",kind=\"bar\",stacked=True,figsize=(10, 8))\n",
    "\n",
    "plt.bar(NsbyScaffphaw5_0[\"scaffold_id\"],NsbyScaffphaw5_0[\"Seq_perc\"], color='y')\n",
    "plt.bar(NsbyScaffphaw5_0[\"scaffold_id\"],NsbyScaffphaw5_0[\"N_perc\"], color='r',bottom=NsbyScaffphaw5_0[\"Seq_perc\"])\n",
    "\n",
    "scaffold_order = np.arange(1, 102)\n",
    "\n",
    "plt.xticks(NsbyScaffphaw5_0[\"scaffold_id\"],list(np.append(scaffold_order[:-1],'101+')),rotation=45,fontsize =13,\n",
    "           horizontalalignment=\"right\",rotation_mode='anchor')\n",
    "#plt.xticks(data_for_barplot[\"scaffold_id\"][100:101],\"101+\",rotation=45, horizontalalignment=\"right\",rotation_mode='anchor')\n",
    "plt.yticks(list(range(0,200,10)),rotation=0,fontsize =13, horizontalalignment=\"right\",rotation_mode='anchor')\n",
    "plt.locator_params(axis='x', nbins=21)\n",
    "plt.ylabel(\"Scaffold length (%)\",fontsize=20)\n",
    "plt.xlabel('Scaffold',fontsize=15)\n",
    "colors = {'Ns':'red', 'ATCG':'y'}         \n",
    "labels = list(colors.keys())\n",
    "handles = [plt.Rectangle((0,0),1,1, color=colors[label]) for label in labels]\n",
    "plt.legend(handles, labels,loc=4,prop={'size': 15})\n",
    "plt.margins(x=0.015,y=0.015, tight=True)\n",
    "\n",
    "#plt.savefig(\"NsbyScaff_phaw5.0.jpg\", dpi=300,bbox_inches = 'tight')\n",
    "plt.show()"
   ]
  }
 ],
 "metadata": {
  "kernelspec": {
   "display_name": "Python 3",
   "language": "python",
   "name": "python3"
  },
  "language_info": {
   "codemirror_mode": {
    "name": "ipython",
    "version": 3
   },
   "file_extension": ".py",
   "mimetype": "text/x-python",
   "name": "python",
   "nbconvert_exporter": "python",
   "pygments_lexer": "ipython3",
   "version": "3.9.2"
  }
 },
 "nbformat": 4,
 "nbformat_minor": 5
}
