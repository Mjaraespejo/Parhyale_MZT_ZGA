{
 "cells": [
  {
   "cell_type": "markdown",
   "id": "4d71e324-4aa9-4984-89ff-8720611052d4",
   "metadata": {},
   "source": [
    "# 2_5 BLAST\n",
    "\n",
    "Manuel Jara-Espejo$^{1}$\\\n",
    "Aboobaker lab, Department of Biology, University of Oxford\n",
    "\n",
    "## Contents of notebook\n",
    "1. Introduction\n",
    "2. Download proteomes from UNIPROT\n",
    "3. Blast Parhyale proteins to multiple species peptides\n",
    "4. Run Orhofinder analysis\n",
    "\n",
    "## Files\n",
    "* Input: phaw_unigenes.pep\n",
    "* Output: "
   ]
  },
  {
   "cell_type": "markdown",
   "id": "9072c198-6783-4ce5-8b23-dadaac788a58",
   "metadata": {},
   "source": [
    "### 1. Introduction"
   ]
  },
  {
   "cell_type": "markdown",
   "id": "f9842d47-92b7-441a-99b4-d66b5f189745",
   "metadata": {},
   "source": [
    "### 2. Download and process proteomes from UNIPROT"
   ]
  },
  {
   "cell_type": "code",
   "execution_count": 45,
   "id": "888df606-0556-458e-a87d-b8ad16d3dd39",
   "metadata": {},
   "outputs": [
    {
     "name": "stdout",
     "output_type": "stream",
     "text": [
      "\n",
      "Aaeg.fasta\n",
      "Amel.fasta\n",
      "Aqueen.fasta\n",
      "Bflor.fasta\n",
      "Bger.fasta\n",
      "Bmal.fasta\n",
      "Cele.fasta\n",
      "Dmag.fasta\n",
      "Dmel.fasta\n",
      "Dpul.fasta\n",
      "Drerio.fasta\n",
      "Hazt.fasta\n",
      "Hduj.fasta\n",
      "Hmiam.fasta\n",
      "Hsa.fasta\n",
      "Iscap.fasta\n",
      "Lsalm.fasta\n",
      "Mmus.fasta\n",
      "Nvect.fasta\n",
      "Nvit.fasta\n",
      "Phaw.3.0.fasta\n",
      "Pvan.fasta\n",
      "Smar.fasta\n",
      "Smed.fasta\n",
      "Smim.fasta\n",
      "Tcas.fasta\n",
      "Tspir.fasta\n",
      "Xtrop.fasta\n"
     ]
    }
   ],
   "source": [
    "%%bash\n",
    "#Main proteomes source\n",
    "cd /drives/ssd1/manuel/phaw/2022_analysis/annotation/protein_coding_genes/blast_search/proteomes/\n",
    "#https://ftp.uniprot.org/pub/databases/uniprot/current_release/knowledgebase/reference_proteomes/\n",
    "echo \"\"\n",
    "\n",
    "#After dlownloading I edidet the files names toidentify the species. \n",
    "#For example: human was changed from UP000005640_9606.fasta to Hsa.fasta\n",
    "ls | grep \".fasta\"\n"
   ]
  },
  {
   "cell_type": "markdown",
   "id": "3b75990a-276f-4dac-9ebf-989b719cf64c",
   "metadata": {},
   "source": [
    "### 3. Blast Parhyale proteins to multiple species peptides"
   ]
  },
  {
   "cell_type": "markdown",
   "id": "3adb657d-fe73-4abc-9aad-6f7b5a17ccd5",
   "metadata": {},
   "source": [
    "#### 3.1 Make BLAST database for each proteome"
   ]
  },
  {
   "cell_type": "code",
   "execution_count": 48,
   "id": "29dd9f31-0157-48b6-a7fc-5d01e6fe1d54",
   "metadata": {},
   "outputs": [
    {
     "name": "stdout",
     "output_type": "stream",
     "text": [
      "#!/bin/bash\n",
      "proteomes=`ls *.fasta | sed 's/.fasta//g'`\n",
      "\n",
      "for proteome in $genomes; do\n",
      "\techo \"(o) Creating ${proteome} database\"\n",
      "\t/drives/raid/AboobakerLab/software/ncbi-blast-2.12.0+/bin/makeblastdb -in ${proteome}.fasta -out ${proteome} -dbtype prot -parse_seqids\n",
      "\techo \"(o) ${proteome} database done\"\n",
      "done\n"
     ]
    }
   ],
   "source": [
    "%%bash \n",
    "less ~/manuel/phaw/2022_analysis/paper_markdowns/scripts/make_database.sh"
   ]
  },
  {
   "cell_type": "markdown",
   "id": "8d50b1ff-e712-492f-a712-192ff670809d",
   "metadata": {},
   "source": [
    "#### 3.2 Blast parhyale proteome to other species proteomes"
   ]
  },
  {
   "cell_type": "code",
   "execution_count": 49,
   "id": "c3c35815-0451-4bf6-b4bc-8d17f8ec2a81",
   "metadata": {},
   "outputs": [
    {
     "name": "stdout",
     "output_type": "stream",
     "text": [
      "#!/bin/bash\n",
      "#This script blast phaw proteome against multiple model organisms proteome databases\n",
      "\n",
      "dbs=`ls *.fasta | sed 's/.fasta//g'`\n",
      "phaw_peps=/drives/ssd1/manuel/phaw/2022_analysis/annotation/protein_coding_genes/transdecoder/unigenes/phaw_unigenes.pep\n",
      "\n",
      "for db in $dbs; do\n",
      "\t/drives/raid/AboobakerLab/software/ncbi-blast-2.12.0+/bin/blastp -query ${phaw_peps} -db ${db} -max_target_seqs 1 \\\n",
      "        -max_hsps 1  -evalue 1e-06 -num_threads 10 -outfmt '6 qseqid sseqid pident qcovs qlen slen length bitscore evalue' \\\n",
      "        -out ./blastp_out/phaw_${db}.out.txt\n",
      "        done\n",
      "\n"
     ]
    }
   ],
   "source": [
    "%%bash\n",
    "less ~/manuel/phaw/2022_analysis/annotation/protein_coding_genes/blast_search/proteomes/blast_multiple_db.sh"
   ]
  },
  {
   "cell_type": "code",
   "execution_count": 50,
   "id": "4c4105df-a1de-4eb3-baf4-8ff7a1cbb947",
   "metadata": {},
   "outputs": [
    {
     "name": "stdout",
     "output_type": "stream",
     "text": [
      "28\n",
      "MSTRG.1000.1.p1\tsp|Q969U7|PSMG2_HUMAN\t34.021\t80\t117\t264\t97\t62.0\t1.23e-12\n",
      "MSTRG.10000.1.p1\tsp|Q16851|UGPA_HUMAN\t65.936\t98\t509\t508\t502\t669\t0.0\n",
      "MSTRG.10003.2.p1\tsp|O00370|LORF2_HUMAN\t24.259\t28\t1252\t1275\t371\t101\t2.14e-21\n",
      "MSTRG.10004.1.p1\tsp|Q14CZ0|CP072_HUMAN\t35.169\t81\t256\t275\t236\t97.8\t2.70e-24\n",
      "MSTRG.10006.1.p1\tsp|Q8NBS9|TXND5_HUMAN\t46.237\t78\t120\t432\t93\t85.1\t1.15e-20\n"
     ]
    }
   ],
   "source": [
    "%%bash \n",
    "#Ouputs after running blast\n",
    "cd ../annotation/protein_coding_genes/blast_search/proteomes/blastp_out/\n",
    "ls | wc -l\n",
    "head -5 phaw_Hsa.out.txt"
   ]
  },
  {
   "cell_type": "markdown",
   "id": "4136f9b8-b702-404a-a28e-f8d662d6196f",
   "metadata": {},
   "source": [
    "### 4. Run Orthofinder analysis"
   ]
  },
  {
   "cell_type": "code",
   "execution_count": 51,
   "id": "9ddff156-73a9-4445-9ad1-bed13d221b69",
   "metadata": {},
   "outputs": [
    {
     "name": "stdout",
     "output_type": "stream",
     "text": [
      "analyse_OrthoFinder_output.ipynb\n",
      "arthropods_shredOG.tiff\n",
      "Citation.txt\n",
      "Comparative_Genomics_Statistics\n",
      "Gene_Duplication_Events\n",
      "Gene_Trees\n",
      "Log.txt\n",
      "Orthogroups\n",
      "Orthogroup_Sequences\n",
      "Orthologues\n",
      "Phylogenetically_Misplaced_Genes\n",
      "Phylogenetic_Hierarchical_Orthogroups\n",
      "Putative_Xenologs\n",
      "Resolved_Gene_Trees\n",
      "Single_Copy_Orthologue_Sequences\n",
      "Species_Tree\n",
      "WorkingDirectory\n"
     ]
    }
   ],
   "source": [
    "%%bash\n",
    "cd ../annotation/protein_coding_genes/orthofinder_analysis/\n",
    "#/drives/raid/AboobakerLab/software/OrthoFinder/orthofinder -t 30 -a 4 -f proteomes/\n",
    "ls ./proteomes/OrthoFinder/Results_Jul01"
   ]
  },
  {
   "cell_type": "markdown",
   "id": "f1ed5168-d0b0-4989-9385-4b9993b66482",
   "metadata": {},
   "source": [
    "## FINISHED"
   ]
  }
 ],
 "metadata": {
  "kernelspec": {
   "display_name": "Python 3",
   "language": "python",
   "name": "python3"
  },
  "language_info": {
   "codemirror_mode": {
    "name": "ipython",
    "version": 3
   },
   "file_extension": ".py",
   "mimetype": "text/x-python",
   "name": "python",
   "nbconvert_exporter": "python",
   "pygments_lexer": "ipython3",
   "version": "3.9.2"
  }
 },
 "nbformat": 4,
 "nbformat_minor": 5
}
