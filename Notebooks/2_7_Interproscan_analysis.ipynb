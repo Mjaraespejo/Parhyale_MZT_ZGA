{
 "cells": [
  {
   "cell_type": "markdown",
   "id": "4d71e324-4aa9-4984-89ff-8720611052d4",
   "metadata": {},
   "source": [
    "# 2_6 Interproscan results analysis\n",
    "\n",
    "Manuel Jara-Espejo$^{1}$\\\n",
    "Aboobaker lab, Department of Biology, University of Oxford\n",
    "\n",
    "## Contents of notebook\n",
    "1. Introduction\n",
    "2. Identify transcription factors  based on Pfam domains\n",
    "3. GO terms\n",
    "\n",
    "## Files\n",
    "* Input: Interproscan output (.tsv)\n",
    "* Output:  tf_by_family.txt, interpro_GOterms.csv"
   ]
  },
  {
   "cell_type": "markdown",
   "id": "9072c198-6783-4ce5-8b23-dadaac788a58",
   "metadata": {},
   "source": [
    "### 1. Introduction\n",
    "The non-redundant peptide file generated using Transdecoder and CH-HIT was annotated using Interproscan to get Pfam domain and ontology terms information."
   ]
  },
  {
   "cell_type": "markdown",
   "id": "f9842d47-92b7-441a-99b4-d66b5f189745",
   "metadata": {},
   "source": [
    "### 2. Identify transcription factors  based on Pfam domains"
   ]
  },
  {
   "cell_type": "code",
   "execution_count": 73,
   "id": "e8aba164-5692-4b19-a4e0-64d77b6d3d5c",
   "metadata": {
    "tags": []
   },
   "outputs": [
    {
     "name": "stdout",
     "output_type": "stream",
     "text": [
      "Genes having domains: 14350\n",
      "Pfam families indentified: 4711\n",
      "Pfam families descritpions: 4528\n",
      "Genes having TF domains: 983\n",
      "TF Pfam families indentified: 64\n",
      "Zinc finger, C2H2 type\t504\n",
      "RFX DNA-binding domain\t4\n",
      "Homeodomain\t93\n",
      "TAZ zinc finger\t3\n",
      "THAP domain\t34\n",
      "HMG (high mobility group) box\t33\n",
      "Helix-loop-helix DNA-binding\t47\n",
      "TATA-binding protein (TBP)\t3\n",
      "bZIP Maf transcription factor\t6\n",
      "P53 DNA-binding domain\t4\n"
     ]
    }
   ],
   "source": [
    "%%bash\n",
    "cd ../annotation/protein_coding_genes/pfam_search/\n",
    "\n",
    "#ruby get_TF-ids.rb > TF_families.stats.txt\n",
    "head -15 TF_families.stats.txt"
   ]
  },
  {
   "cell_type": "code",
   "execution_count": 20,
   "id": "888df606-0556-458e-a87d-b8ad16d3dd39",
   "metadata": {},
   "outputs": [],
   "source": [
    "%%bash\n",
    "cd ../annotation/protein_coding_genes/pfam_search/"
   ]
  },
  {
   "cell_type": "code",
   "execution_count": 71,
   "id": "c9724b0a-6bc5-4a78-8b6f-9fe923f132d7",
   "metadata": {},
   "outputs": [],
   "source": [
    "import pandas as pd\n",
    "import numpy as np\n",
    "tf_by_family = pd.read_table(\"/drives/ssd1/manuel/phaw/2022_analysis/annotation/protein_coding_genes/pfam_search/tf_genes_by_family.txt\", sep=\"\\t\", header = None )\n",
    "tf_by_family = tf_by_family.assign(gene_id=tf_by_family[1].str.split(',')).drop(1,axis=1).explode('gene_id')\n",
    "tf_by_family.rename(columns={0: 'TF_family'}, inplace=True)\n",
    "tf_by_family = tf_by_family.reset_index(drop=True).drop_duplicates()\n",
    "tf_by_family.to_csv(\"/drives/ssd1/manuel/phaw/2022_analysis/annotation/protein_coding_genes/pfam_search/tf_by_family.txt\", \n",
    "                    sep='\\t',index=False)"
   ]
  },
  {
   "cell_type": "code",
   "execution_count": 72,
   "id": "ccc24894-94e5-4566-bdc5-629319f88956",
   "metadata": {},
   "outputs": [
    {
     "data": {
      "text/html": [
       "<div>\n",
       "<style scoped>\n",
       "    .dataframe tbody tr th:only-of-type {\n",
       "        vertical-align: middle;\n",
       "    }\n",
       "\n",
       "    .dataframe tbody tr th {\n",
       "        vertical-align: top;\n",
       "    }\n",
       "\n",
       "    .dataframe thead th {\n",
       "        text-align: right;\n",
       "    }\n",
       "</style>\n",
       "<table border=\"1\" class=\"dataframe\">\n",
       "  <thead>\n",
       "    <tr style=\"text-align: right;\">\n",
       "      <th></th>\n",
       "      <th>TF_family</th>\n",
       "      <th>gene_id</th>\n",
       "    </tr>\n",
       "  </thead>\n",
       "  <tbody>\n",
       "    <tr>\n",
       "      <th>0</th>\n",
       "      <td>Zinc finger, C2H2 type</td>\n",
       "      <td>MSTRG.35407</td>\n",
       "    </tr>\n",
       "    <tr>\n",
       "      <th>1</th>\n",
       "      <td>Zinc finger, C2H2 type</td>\n",
       "      <td>MSTRG.55036</td>\n",
       "    </tr>\n",
       "    <tr>\n",
       "      <th>4</th>\n",
       "      <td>Zinc finger, C2H2 type</td>\n",
       "      <td>MSTRG.51612</td>\n",
       "    </tr>\n",
       "    <tr>\n",
       "      <th>7</th>\n",
       "      <td>Zinc finger, C2H2 type</td>\n",
       "      <td>MSTRG.55232</td>\n",
       "    </tr>\n",
       "    <tr>\n",
       "      <th>8</th>\n",
       "      <td>Zinc finger, C2H2 type</td>\n",
       "      <td>MSTRG.67235</td>\n",
       "    </tr>\n",
       "  </tbody>\n",
       "</table>\n",
       "</div>"
      ],
      "text/plain": [
       "                TF_family      gene_id\n",
       "0  Zinc finger, C2H2 type  MSTRG.35407\n",
       "1  Zinc finger, C2H2 type  MSTRG.55036\n",
       "4  Zinc finger, C2H2 type  MSTRG.51612\n",
       "7  Zinc finger, C2H2 type  MSTRG.55232\n",
       "8  Zinc finger, C2H2 type  MSTRG.67235"
      ]
     },
     "execution_count": 72,
     "metadata": {},
     "output_type": "execute_result"
    }
   ],
   "source": [
    "tf_by_family.head()"
   ]
  },
  {
   "cell_type": "markdown",
   "id": "3b75990a-276f-4dac-9ebf-989b719cf64c",
   "metadata": {},
   "source": [
    "### 3. GO terms\n",
    "The GO terms were extracted from the Interproscan output file"
   ]
  },
  {
   "cell_type": "markdown",
   "id": "3adb657d-fe73-4abc-9aad-6f7b5a17ccd5",
   "metadata": {},
   "source": [
    "#### 3.1 Calling Orthogroups table"
   ]
  },
  {
   "cell_type": "code",
   "execution_count": 232,
   "id": "d3c2e907-35fb-4b22-9553-00f65a962102",
   "metadata": {},
   "outputs": [],
   "source": [
    "interproscan_df = pd.read_table(\"/drives/ssd1/manuel/phaw/2022_analysis/annotation/protein_coding_genes/pfam_search/peps_filt.tsv\", sep=\"\\t\", header = None)\n",
    "interproscan_df =interproscan_df.iloc[:,[0,13]]"
   ]
  },
  {
   "cell_type": "code",
   "execution_count": 233,
   "id": "8fc79c8d-5610-4b2e-8a1b-97d13f75f5a4",
   "metadata": {},
   "outputs": [],
   "source": [
    "interproscan_df[[\"gene\",\"transcript\",\"d1\",\"d2\"]] = interproscan_df[0].str.split(\"\\\\.\", expand = True)\n",
    "interproscan_df.drop(['d1','d2'],axis=1)\n",
    "interproscan_df[\"gene_id\"] = interproscan_df[['gene', 'transcript']].agg('.'.join, axis=1)\n",
    "interproscan_df = interproscan_df[[\"gene_id\",13]].drop_duplicates()\n",
    "interproscan_df.rename(columns={13: 'GO_term'}, inplace=True)\n",
    "interpro_GOterms = interproscan_df[interproscan_df[\"GO_term\"].str.contains(\"G\",na=False)]"
   ]
  },
  {
   "cell_type": "code",
   "execution_count": 238,
   "id": "222a562a-1723-4f0d-bf10-12981723346e",
   "metadata": {},
   "outputs": [
    {
     "data": {
      "text/html": [
       "<div>\n",
       "<style scoped>\n",
       "    .dataframe tbody tr th:only-of-type {\n",
       "        vertical-align: middle;\n",
       "    }\n",
       "\n",
       "    .dataframe tbody tr th {\n",
       "        vertical-align: top;\n",
       "    }\n",
       "\n",
       "    .dataframe thead th {\n",
       "        text-align: right;\n",
       "    }\n",
       "</style>\n",
       "<table border=\"1\" class=\"dataframe\">\n",
       "  <thead>\n",
       "    <tr style=\"text-align: right;\">\n",
       "      <th></th>\n",
       "      <th>gene_id</th>\n",
       "      <th>GO_term</th>\n",
       "    </tr>\n",
       "  </thead>\n",
       "  <tbody>\n",
       "    <tr>\n",
       "      <th>2</th>\n",
       "      <td>MSTRG.3923</td>\n",
       "      <td>GO:0005576</td>\n",
       "    </tr>\n",
       "    <tr>\n",
       "      <th>2</th>\n",
       "      <td>MSTRG.3923</td>\n",
       "      <td>GO:0016829</td>\n",
       "    </tr>\n",
       "    <tr>\n",
       "      <th>6</th>\n",
       "      <td>MSTRG.2511</td>\n",
       "      <td>GO:0005515</td>\n",
       "    </tr>\n",
       "    <tr>\n",
       "      <th>9</th>\n",
       "      <td>MSTRG.28453</td>\n",
       "      <td>GO:0005524</td>\n",
       "    </tr>\n",
       "    <tr>\n",
       "      <th>9</th>\n",
       "      <td>MSTRG.28453</td>\n",
       "      <td>GO:0016887</td>\n",
       "    </tr>\n",
       "    <tr>\n",
       "      <th>...</th>\n",
       "      <td>...</td>\n",
       "      <td>...</td>\n",
       "    </tr>\n",
       "    <tr>\n",
       "      <th>53317</th>\n",
       "      <td>MSTRG.19665</td>\n",
       "      <td>GO:0015074</td>\n",
       "    </tr>\n",
       "    <tr>\n",
       "      <th>53319</th>\n",
       "      <td>MSTRG.25706</td>\n",
       "      <td>GO:0005840</td>\n",
       "    </tr>\n",
       "    <tr>\n",
       "      <th>53361</th>\n",
       "      <td>MSTRG.33262</td>\n",
       "      <td>GO:0003735</td>\n",
       "    </tr>\n",
       "    <tr>\n",
       "      <th>53361</th>\n",
       "      <td>MSTRG.33262</td>\n",
       "      <td>GO:0005840</td>\n",
       "    </tr>\n",
       "    <tr>\n",
       "      <th>53361</th>\n",
       "      <td>MSTRG.33262</td>\n",
       "      <td>GO:0006412</td>\n",
       "    </tr>\n",
       "  </tbody>\n",
       "</table>\n",
       "<p>17238 rows × 2 columns</p>\n",
       "</div>"
      ],
      "text/plain": [
       "           gene_id     GO_term\n",
       "2       MSTRG.3923  GO:0005576\n",
       "2       MSTRG.3923  GO:0016829\n",
       "6       MSTRG.2511  GO:0005515\n",
       "9      MSTRG.28453  GO:0005524\n",
       "9      MSTRG.28453  GO:0016887\n",
       "...            ...         ...\n",
       "53317  MSTRG.19665  GO:0015074\n",
       "53319  MSTRG.25706  GO:0005840\n",
       "53361  MSTRG.33262  GO:0003735\n",
       "53361  MSTRG.33262  GO:0005840\n",
       "53361  MSTRG.33262  GO:0006412\n",
       "\n",
       "[17238 rows x 2 columns]"
      ]
     },
     "execution_count": 238,
     "metadata": {},
     "output_type": "execute_result"
    }
   ],
   "source": [
    "interpro_GOterms= interpro_GOterms.assign(GO_term=interpro_GOterms[\"GO_term\"].str.split('|')).explode('GO_term')\n",
    "interpro_GOterms\n",
    "#interpro_GOterms.to_csv(\"/drives/ssd1/manuel/phaw/2022_analysis/annotation/protein_coding_genes/pfam_search/interpro_GOterms.csv\", \n",
    "#                    sep='\\t',index=False)"
   ]
  }
 ],
 "metadata": {
  "kernelspec": {
   "display_name": "Python 3",
   "language": "python",
   "name": "python3"
  },
  "language_info": {
   "codemirror_mode": {
    "name": "ipython",
    "version": 3
   },
   "file_extension": ".py",
   "mimetype": "text/x-python",
   "name": "python",
   "nbconvert_exporter": "python",
   "pygments_lexer": "ipython3",
   "version": "3.9.2"
  }
 },
 "nbformat": 4,
 "nbformat_minor": 5
}
