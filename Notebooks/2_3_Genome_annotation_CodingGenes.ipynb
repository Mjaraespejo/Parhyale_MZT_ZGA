{
 "cells": [
  {
   "cell_type": "markdown",
   "id": "302b76d7-dbc3-4a49-955b-2cc5a26022c2",
   "metadata": {},
   "source": [
    "# 2-3 Mapping sequencing data\n",
    "Manuel Jara-Espejo$^{1}$\\\n",
    "Aboobaker lab, Department of Biology, University of Oxford\n",
    "\n",
    "## Contents of notebook\n",
    "1. Introduction\n",
    "2. RNA-seq data\n",
    "3. Obtaining and processing Phaw reference gene annotation *phaw_30* \n",
    "4. RNA-seq data alignment"
   ]
  },
  {
   "cell_type": "markdown",
   "id": "cdbb4ea3-3426-4fd4-8c24-e3dc2e0210e4",
   "metadata": {},
   "source": [
    "### 1. Introduction\n",
    "This notebook describes the annotation of protein-coding genes of the Parhyale hawaiensis genome (Phaw5.0) based on PolyA RNA-seq data from this species. Briefly, we integrated 79 RNA-seq samples and current *Parhyale* reference annotation into a StringTie2 annotation pipeline.More information on the stringtie annotation process can be found at http://ccb.jhu.edu/software/stringtie/index.shtml."
   ]
  },
  {
   "cell_type": "markdown",
   "id": "6734c23b-f950-4eb1-8706-f6e275568e83",
   "metadata": {},
   "source": [
    "### 2. RNA-Seq data\n",
    "In total 78 PolyA+ RNA-seq data sets sequenced in from differente *Parhyale hawaiensis* life stages and conditions were used as the raw pool of RNA-seq reads for the expression-driven annotation. The sample IDs are listed below:"
   ]
  },
  {
   "cell_type": "code",
   "execution_count": 37,
   "id": "c0d56cba-a772-4209-9bf7-f38600b41be9",
   "metadata": {
    "tags": []
   },
   "outputs": [
    {
     "name": "stdout",
     "output_type": "stream",
     "text": [
      "P161.bam\n",
      "P162.bam\n",
      "P201.bam\n",
      "P202.bam\n",
      "P241.bam\n",
      "P242.bam\n",
      "P481.bam\n",
      "P482.bam\n",
      "S1.bam\n",
      "S2.bam\n",
      "S3.bam\n",
      "S4.bam\n",
      "S5.bam\n",
      "S6.bam\n",
      "S7.bam\n",
      "S8.bam\n",
      "S9.bam\n",
      "A1.bam\n",
      "A2.bam\n",
      "A3.bam\n",
      "C1.bam\n",
      "C2.bam\n",
      "C3.bam\n",
      "F1.bam\n",
      "F2.bam\n",
      "F3.bam\n",
      "FB1.bam\n",
      "FB2.bam\n",
      "FB3.bam\n",
      "FI1.bam\n",
      "FI2.bam\n",
      "FI3.bam\n",
      "FIB1.bam\n",
      "FIB2.bam\n",
      "FIB3.bam\n",
      "H1.bam\n",
      "H2.bam\n",
      "H3.bam\n",
      "HB1.bam\n",
      "HB2.bam\n",
      "HB3.bam\n",
      "M1.bam\n",
      "M2.bam\n",
      "M3.bam\n",
      "MB1.bam\n",
      "MB2.bam\n",
      "MB3.bam\n",
      "S4H1.bam\n",
      "S4H2.bam\n",
      "S4H3.bam\n",
      "S7d1.bam\n",
      "S7d2.bam\n",
      "S7d3.bam\n",
      "S8H1.bam\n",
      "S8H2.bam\n",
      "S8H3.bam\n",
      "SRR14908223.bam\n",
      "SRR14908224.bam\n",
      "SRR14908225.bam\n",
      "SRR14908226.bam\n",
      "SRR14908227.bam\n",
      "SRR14908228.bam\n",
      "SRR14908229.bam\n",
      "SRR14908230.bam\n",
      "SRR14908231.bam\n",
      "SRR14908232.bam\n",
      "SRR14908233.bam\n",
      "SRR14908234.bam\n",
      "SRR14908235.bam\n",
      "SRR14908236.bam\n",
      "MBE_103B_A_index2_CGATGT_L008_merged.bam\n",
      "MBE_103B_D_index7_CAGATC_L008_merged.bam\n",
      "MBEHB00058a_index1_ATCACG_L007_merged.bam\n",
      "MBEHB00058b_index2_CGATGT_L007_merged.bam\n",
      "MBEHB00058c_index3_TTAGGC_L007_merged.bam\n",
      "MBEHB00058d_index4_TGACCA_L007_merged.bam\n",
      "MBEHB00058e_index5_ACAGTG_L007_merged.bam\n",
      "MBEHB00058f_index6_GCCAAT_L007_merged.bam\n"
     ]
    }
   ],
   "source": [
    "%%bash\n",
    "#Aboobaker embryo\n",
    "ls /drives/raid/AboobakerLab/data/bams/phaw/hisat/bams_05_2022/Aboobaker_embryo_data/polyA/*bam | xargs -n 1 basename \n",
    "#Aboobaker immnune polya\n",
    "ls /drives/raid/AboobakerLab/data/bams/phaw/hisat/bams_05_2022/Aboobaker_immune_data/*bam | xargs -n 1 basename \n",
    "#Public data\n",
    "ls /drives/raid/AboobakerLab/data/bams/phaw/hisat/bams_05_2022/Manchester_embryo_data/*bam  | xargs -n 1 basename\n",
    "#Public data\n",
    "ls /drives/raid/AboobakerLab/data/bams/phaw/hisat/bams_05_2022/Patel_embryo_data/merged_bams/*bam | xargs -n 1 basename"
   ]
  },
  {
   "cell_type": "markdown",
   "id": "64d5208a-fa55-4d2f-ba34-657d22e12fb3",
   "metadata": {},
   "source": [
    "### 3. Obtaining and processing Phaw reference gene annotation *phaw_30* \n",
    "##### wget https://research.janelia.org/pavlopoulos/fa/phaw.3.0.genes.nuc.fa "
   ]
  },
  {
   "cell_type": "markdown",
   "id": "e1e6c028-9243-48cb-baab-7f18972781c1",
   "metadata": {},
   "source": [
    "##### In addition, reference Phaw gene annotation *phaw_30* (https://research.janelia.org/pavlopoulos/fa/phaw.3.0.genes.gff) were included."
   ]
  },
  {
   "cell_type": "markdown",
   "id": "cbf809aa-28ef-40ae-98c8-53cec4c12b4a",
   "metadata": {},
   "source": [
    "##### Build gmap genome index for Phaw5.1 assembly"
   ]
  },
  {
   "cell_type": "code",
   "execution_count": 23,
   "id": "9a49eb41-8852-4162-9450-0d9997249b6f",
   "metadata": {},
   "outputs": [],
   "source": [
    "#%%bash\n",
    "#gmap_build -D /drives/raid/AboobakerLab/manuel/data_phaw_analysis/phaw_reference/gmap_index/phaw_sambaTGSAsm \\\n",
    "#-d phaw_sambaTGSAsm \\\n",
    "#/drives/ssd1/manuel/phaw/2022_analysis/phaw_gapfilling/TGS-GapCloser_anlysis/results_sambaAsm/change_scafNames/phaw_sambaAsm.scaff_seqs_editedScafNames.fa"
   ]
  },
  {
   "cell_type": "markdown",
   "id": "11b64768-1a0b-4573-af69-0924f06333b5",
   "metadata": {},
   "source": [
    "##### Map phaw3.0 transcriptome to current genome assmebly"
   ]
  },
  {
   "cell_type": "code",
   "execution_count": 25,
   "id": "2241c69a-fc66-42db-915a-8c996f7bf2c5",
   "metadata": {},
   "outputs": [
    {
     "name": "stdout",
     "output_type": "stream",
     "text": [
      "#!/bin/bash \n",
      "#Map reference transcriptome to current genome assmebly. Output gtf file\n",
      "\n",
      "gmap -D /drives/raid/AboobakerLab/manuel/data_phaw_analysis/phaw_reference/gmap_index/phaw_sambaTGSAsm \\\n",
      "-d phaw_sambaTGSAsm -f 2 /drives/ssd1/manuel/phaw/2021_analysis/annotation/gmap/phaw.3.0.genes.nuc.fa -t 30 > phaw.3.0.genes.nuc.fa.gmap.gff\n"
     ]
    }
   ],
   "source": [
    "%%bash\n",
    "#Map reference transcriptome to current genome assmebly\n",
    "#nohup /drives/ssd1/manuel/phaw/2022_analysis/annotation/protein_coding_genes/gmap/run_gmap.sh  > gmap.out 2>&1 & \n",
    "cat ./scripts/run_gmap.sh"
   ]
  },
  {
   "cell_type": "code",
   "execution_count": 27,
   "id": "4f22a6f9-c352-4dbf-be64-2ac93e35366f",
   "metadata": {},
   "outputs": [],
   "source": [
    "##### Convert .gff to .gtf format\n",
    "#agat_convert_sp_gff2gtf.pl --gff phaw.3.0.genes.nuc.fa.gmap.gff -o phaw.3.0.genes.nuc.fa.gmap.gtf\n",
    "#mv phaw.3.0.genes.nuc.fa.gmap.gtf /drives/ssd1/manuel/phaw/2022_analysis/annotation/protein_coding_genes/stringtie2/gtf_files"
   ]
  },
  {
   "cell_type": "markdown",
   "id": "d40d0942-3078-4345-bb3f-44a67d0611aa",
   "metadata": {},
   "source": [
    "### 3. RNA-seq data alignment"
   ]
  },
  {
   "cell_type": "markdown",
   "id": "89fd2384-3ec6-4913-a81d-5fd42504d3b2",
   "metadata": {},
   "source": [
    "##### The hisat index was build for alignment"
   ]
  },
  {
   "cell_type": "code",
   "execution_count": 9,
   "id": "be014b7c-c680-4e89-ab5c-2d2752389560",
   "metadata": {},
   "outputs": [],
   "source": [
    "#%%bash \n",
    "#cd /drives/raid/AboobakerLab/manuel/data_phaw_analysis/asm_gap_filling/TGS-GapCloser_anlysis/sambaAsm_analysis/asm_editedNames/hisat_index/\n",
    "#nohup hisat2-build /drives/ssd1/manuel/phaw/2022_analysis/phaw_gapfilling/TGS-GapCloser_anlysis/results_sambaAsm/change_scafNames/phaw_sambaAsm.scaff_seqs_editedScafNames.fa \\\n",
    "#phaw_sambaAsm &"
   ]
  },
  {
   "cell_type": "markdown",
   "id": "c5636ee6-8461-4e0f-bcc7-4c161c378080",
   "metadata": {},
   "source": [
    "##### All RNA-seq libraries were aligned to the Parhyale genome with HISAT2:"
   ]
  },
  {
   "cell_type": "code",
   "execution_count": 8,
   "id": "cdd7fa1c-a2cd-404a-8523-ee9428c2ba5a",
   "metadata": {},
   "outputs": [
    {
     "name": "stdout",
     "output_type": "stream",
     "text": [
      "#!/bin/bash \n",
      "if [ \"$1\" == \"totalRNA_embryos\" ]; then\n",
      "\n",
      "    in=/drives/raid/AboobakerLab/data/rna_data/paired/total_082022/X204SC22071455-Z01-F001/ #raw .fastq data\n",
      "    out=/drives/raid/AboobakerLab/data/bams/phaw/hisat/bams_total_082022 #Final bam files for each libtrary\n",
      "    fastq=/drives/raid/AboobakerLab/data/rna_data/paired/total_082022/trim #trimmed data after Trimmomatic\n",
      "    adapters=/drives/raid/AboobakerLab/software/Trimmomatic-0.39/adapters/TruSeq2-PE.fa \n",
      "    \n",
      "    paired_files_1=$(ls -R $in | grep 1.fq.gz)\n",
      "        \n",
      "    for i in $paired_files_1; do\n",
      "        f=$(basename $i _1.fq.gz)\n",
      "        echo \"Running on library $f\"\n",
      "\n",
      "    java -jar /drives/raid/AboobakerLab/software/Trimmomatic-0.39/trimmomatic-0.39.jar PE ${in}/01.RawData/${f}/${f}_1.fq.gz ${in}/01.RawData/${f}/${f}_2.fq.gz ${fastq}/${f}_1_out_paired.fq ${fastq}/${f}_1_out_unpaired.fq ${fastq}/${f}_2_out_paired.fq ${fastq}/${f}_2_out_unpaired.fq -threads 16 ILLUMINACLIP:${adapters}:2:30:10 SLIDINGWINDOW:4:20 LEADING:10 TRAILING:10 MINLEN:36\n",
      "\n",
      "    #/drives/raid/AboobakerLab/software/hisat2/hisat2 --dta -x $asm -1 ${fastq}/${f}_1_out_paired.fq -2 ${fastq}/${f}_2_out_paired.fq -p 30 | samtools view -Sb | samtools sort -o ${out}/${f}.bam &> ${out}/${f}_alignment.log\n",
      "        done\n",
      "fi\n",
      "\n",
      "#I added new blocks to this script to run reads cleaning and mapping for each dataset generated\n",
      "#A similar script was used to map reads to Phaw5.0 assembly.\n",
      "#Mapping stats were later used to compare mapping rates."
     ]
    }
   ],
   "source": [
    "%%bash\n",
    "#cd /drives/ssd1/manuel/phaw/2022_analysis/annotation/protein_coding_genes/\n",
    "less ./scripts/align_rna.sh\n",
    "#nohup ./align_rna.sh totalRNA_embryos > totalRNA_embryos_phaw51.out 2>&1 & "
   ]
  },
  {
   "cell_type": "markdown",
   "id": "51f7f2c9-e147-4032-b854-93b4a0f7b1ca",
   "metadata": {},
   "source": [
    "### 4. Transcript assembly and merge"
   ]
  },
  {
   "cell_type": "markdown",
   "id": "3f004544-cd37-4cea-b299-467cebfa813e",
   "metadata": {},
   "source": [
    "#### The assembly process used Stringtie. First, the RNA-seq reads were assembled into transcripts for each sample."
   ]
  },
  {
   "cell_type": "code",
   "execution_count": 34,
   "id": "41afc945-a034-4b92-a6bf-7c84b5015ddd",
   "metadata": {},
   "outputs": [
    {
     "name": "stdout",
     "output_type": "stream",
     "text": [
      "#!/bin/bash\n",
      "#in=/drives/raid/AboobakerLab/data/bams/phaw/hisat/bams_05_2022/Aboobaker_embryo_data/polyA/*bam \n",
      "#in=/drives/raid/AboobakerLab/data/bams/phaw/hisat/bams_05_2022/Aboobaker_immune_data/*bam \n",
      "#in=/drives/raid/AboobakerLab/data/bams/phaw/hisat/bams_05_2022/Manchester_embryo_data/*bam \n",
      "in=/drives/raid/AboobakerLab/data/bams/phaw/hisat/bams_05_2022/Patel_embryo_data/merged_bams/*bam \n",
      "out=/drives/ssd1/manuel/phaw/2022_analysis/annotation/protein_coding_genes/stringtie2\n",
      "bam_files=`ls $in`\n",
      "\n",
      "    for i in $bam_files; do\n",
      "        f=$(basename $i .bam)\n",
      "            \n",
      "    echo \"Running on library $f\"\n",
      "     \t~/software/stringtie-2.1.6/stringtie ${i} --conservative -o ${out}/gtf_files/${f}_ST2.gtf -p 48 \n",
      "    done\n"
     ]
    }
   ],
   "source": [
    "%%bash\n",
    "#nohup ../run_stringtie2.sh assembly >> st2.out &\n",
    "less ./scripts/run_stringtie2.sh"
   ]
  },
  {
   "cell_type": "markdown",
   "id": "6fd61055-44a9-4bfa-a701-003207dd2784",
   "metadata": {},
   "source": [
    "#### Then, all sample-specific annotations were merged into one final annotation."
   ]
  },
  {
   "cell_type": "code",
   "execution_count": 36,
   "id": "64fe44d6-772b-461d-8bc8-6ac843145f95",
   "metadata": {},
   "outputs": [
    {
     "name": "stdout",
     "output_type": "stream",
     "text": [
      "#!/bin/bash\n",
      "in=/drives/ssd1/manuel/phaw/2022_analysis/annotation/protein_coding_genes/stringtie2/gtf_files\n",
      "output=/drives/ssd1/manuel/phaw/2022_analysis/annotation/protein_coding_genes/stringtie2/stringtie2_merge/stringtie2_merged.gtf\n",
      "gtf_files=`readlink -f ${in}/*.gtf`\n",
      "\n",
      "~/software/stringtie-2.1.6/stringtie --merge -o ${output} -c 10 -T 0.001 -F 0.001 -i ${gtf_files}\n"
     ]
    }
   ],
   "source": [
    "%%bash\n",
    "#nohup ../run_stringtie2_merge.sh assembly >> st2.out &\n",
    "less ./scripts/run_stringtie2_merge.sh"
   ]
  },
  {
   "cell_type": "markdown",
   "id": "634eb278-1575-4086-b63c-8e47e0a0ab7d",
   "metadata": {},
   "source": [
    "# FINISHED"
   ]
  }
 ],
 "metadata": {
  "kernelspec": {
   "display_name": "Python 3",
   "language": "python",
   "name": "python3"
  },
  "language_info": {
   "codemirror_mode": {
    "name": "ipython",
    "version": 3
   },
   "file_extension": ".py",
   "mimetype": "text/x-python",
   "name": "python",
   "nbconvert_exporter": "python",
   "pygments_lexer": "ipython3",
   "version": "3.6.15"
  }
 },
 "nbformat": 4,
 "nbformat_minor": 5
}
