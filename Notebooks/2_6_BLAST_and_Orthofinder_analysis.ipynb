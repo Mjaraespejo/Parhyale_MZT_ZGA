{
 "cells": [
  {
   "cell_type": "markdown",
   "id": "4d71e324-4aa9-4984-89ff-8720611052d4",
   "metadata": {},
   "source": [
    "# 2_6 Orthofinder results analysis\n",
    "\n",
    "Manuel Jara-Espejo$^{1}$\\\n",
    "Aboobaker lab, Department of Biology, University of Oxford\n",
    "\n",
    "## Contents of notebook\n",
    "1. Introduction\n",
    "2. Customised orthology table from Orthofinder ouput\n",
    "3. Analysis of Orthofinder results\\\n",
    "    3.1 Calling Orthogroups table\\\n",
    "    3.2 Identifying Parhyale genes shared with other species\\\n",
    "    3.3 Selecting all orthogroups shared between parhyale and other arthropods\\\n",
    "    3.4 Count genes shared between parhyale and specific species\\\n",
    "    3.5 Integrate and plot 1:1 orthogroups data with shared genes with each species\n",
    "\n",
    "## Files\n",
    "* Input: Blastp and Orthofinder outputs\n",
    "* Output: "
   ]
  },
  {
   "cell_type": "markdown",
   "id": "9072c198-6783-4ce5-8b23-dadaac788a58",
   "metadata": {},
   "source": [
    "### 1. Introduction"
   ]
  },
  {
   "cell_type": "markdown",
   "id": "f9842d47-92b7-441a-99b4-d66b5f189745",
   "metadata": {},
   "source": [
    "### 2. Customised orthology table from Orthofinder ouput"
   ]
  },
  {
   "cell_type": "code",
   "execution_count": 4,
   "id": "e8aba164-5692-4b19-a4e0-64d77b6d3d5c",
   "metadata": {
    "collapsed": true,
    "jupyter": {
     "outputs_hidden": true
    },
    "tags": []
   },
   "outputs": [
    {
     "name": "stderr",
     "output_type": "stream",
     "text": [
      "\n",
      "Attaching package: ‘dplyr’\n",
      "\n",
      "\n",
      "The following objects are masked from ‘package:stats’:\n",
      "\n",
      "    filter, lag\n",
      "\n",
      "\n",
      "The following objects are masked from ‘package:base’:\n",
      "\n",
      "    intersect, setdiff, setequal, union\n",
      "\n",
      "\n",
      "Warning message:\n",
      "“package ‘ggplot2’ was built under R version 4.0.5”\n",
      "Warning message:\n",
      "“package ‘reshape2’ was built under R version 4.0.5”\n",
      "\n",
      "Attaching package: ‘reshape2’\n",
      "\n",
      "\n",
      "The following object is masked from ‘package:tidyr’:\n",
      "\n",
      "    smiths\n",
      "\n",
      "\n"
     ]
    }
   ],
   "source": [
    "library(tidyr)\n",
    "library(dplyr)\n",
    "library(ggplot2)\n",
    "library(reshape2)\n",
    "library(tibble)"
   ]
  },
  {
   "cell_type": "code",
   "execution_count": 6,
   "id": "888df606-0556-458e-a87d-b8ad16d3dd39",
   "metadata": {},
   "outputs": [
    {
     "name": "stderr",
     "output_type": "stream",
     "text": [
      "Warning message in merge.data.frame(x, y, all = TRUE, by = \"Phaw\"):\n",
      "“column names ‘Orthogroup.x’, ‘Orthogroup.y’ are duplicated in the result”\n",
      "Warning message:\n",
      "“Expected 3 pieces. Additional pieces discarded in 10826 rows [1, 2, 3, 4, 5, 6, 7, 8, 9, 10, 11, 12, 13, 14, 15, 16, 17, 18, 19, 20, ...].”\n"
     ]
    },
    {
     "data": {
      "text/html": [
       "<table class=\"dataframe\">\n",
       "<caption>A data.frame: 5 × 6</caption>\n",
       "<thead>\n",
       "\t<tr><th></th><th scope=col>gene</th><th scope=col>Dmel</th><th scope=col>Hsa</th><th scope=col>Cele</th><th scope=col>Xtrop</th><th scope=col>class</th></tr>\n",
       "\t<tr><th></th><th scope=col>&lt;chr&gt;</th><th scope=col>&lt;chr&gt;</th><th scope=col>&lt;chr&gt;</th><th scope=col>&lt;chr&gt;</th><th scope=col>&lt;chr&gt;</th><th scope=col>&lt;chr&gt;</th></tr>\n",
       "</thead>\n",
       "<tbody>\n",
       "\t<tr><th scope=row>1</th><td>MSTRG.1000 </td><td>Dmel_tr|Q9VEC2|Q9VEC2_DROME</td><td>Hsa_sp|Q969U7|PSMG2_HUMAN</td><td>NA</td><td>Xtrop_sp|Q5XGC5|PSMG2_XENTR</td><td>NA</td></tr>\n",
       "\t<tr><th scope=row>2</th><td>MSTRG.10000</td><td>Dmel_tr|Q9VSW1|Q9VSW1_DROME</td><td>Hsa_sp|Q16851|UGPA_HUMAN </td><td>NA</td><td>NA                         </td><td>NA</td></tr>\n",
       "\t<tr><th scope=row>3</th><td>MSTRG.10003</td><td>NA                         </td><td>NA                       </td><td>NA</td><td>NA                         </td><td>TF</td></tr>\n",
       "\t<tr><th scope=row>4</th><td>MSTRG.10004</td><td>Dmel_tr|Q9VXB1|Q9VXB1_DROME</td><td>Hsa_sp|Q14CZ0|CP072_HUMAN</td><td>NA</td><td>Xtrop_sp|Q28HY5|CP072_XENTR</td><td>NA</td></tr>\n",
       "\t<tr><th scope=row>5</th><td>MSTRG.10006</td><td>Dmel_sp|Q9VYV3|TXND5_DROME </td><td>Hsa_sp|Q8NBS9|TXND5_HUMAN</td><td>NA</td><td>NA                         </td><td>NA</td></tr>\n",
       "</tbody>\n",
       "</table>\n"
      ],
      "text/latex": [
       "A data.frame: 5 × 6\n",
       "\\begin{tabular}{r|llllll}\n",
       "  & gene & Dmel & Hsa & Cele & Xtrop & class\\\\\n",
       "  & <chr> & <chr> & <chr> & <chr> & <chr> & <chr>\\\\\n",
       "\\hline\n",
       "\t1 & MSTRG.1000  & Dmel\\_tr\\textbar{}Q9VEC2\\textbar{}Q9VEC2\\_DROME & Hsa\\_sp\\textbar{}Q969U7\\textbar{}PSMG2\\_HUMAN & NA & Xtrop\\_sp\\textbar{}Q5XGC5\\textbar{}PSMG2\\_XENTR & NA\\\\\n",
       "\t2 & MSTRG.10000 & Dmel\\_tr\\textbar{}Q9VSW1\\textbar{}Q9VSW1\\_DROME & Hsa\\_sp\\textbar{}Q16851\\textbar{}UGPA\\_HUMAN  & NA & NA                          & NA\\\\\n",
       "\t3 & MSTRG.10003 & NA                          & NA                        & NA & NA                          & TF\\\\\n",
       "\t4 & MSTRG.10004 & Dmel\\_tr\\textbar{}Q9VXB1\\textbar{}Q9VXB1\\_DROME & Hsa\\_sp\\textbar{}Q14CZ0\\textbar{}CP072\\_HUMAN & NA & Xtrop\\_sp\\textbar{}Q28HY5\\textbar{}CP072\\_XENTR & NA\\\\\n",
       "\t5 & MSTRG.10006 & Dmel\\_sp\\textbar{}Q9VYV3\\textbar{}TXND5\\_DROME  & Hsa\\_sp\\textbar{}Q8NBS9\\textbar{}TXND5\\_HUMAN & NA & NA                          & NA\\\\\n",
       "\\end{tabular}\n"
      ],
      "text/markdown": [
       "\n",
       "A data.frame: 5 × 6\n",
       "\n",
       "| <!--/--> | gene &lt;chr&gt; | Dmel &lt;chr&gt; | Hsa &lt;chr&gt; | Cele &lt;chr&gt; | Xtrop &lt;chr&gt; | class &lt;chr&gt; |\n",
       "|---|---|---|---|---|---|---|\n",
       "| 1 | MSTRG.1000  | Dmel_tr|Q9VEC2|Q9VEC2_DROME | Hsa_sp|Q969U7|PSMG2_HUMAN | NA | Xtrop_sp|Q5XGC5|PSMG2_XENTR | NA |\n",
       "| 2 | MSTRG.10000 | Dmel_tr|Q9VSW1|Q9VSW1_DROME | Hsa_sp|Q16851|UGPA_HUMAN  | NA | NA                          | NA |\n",
       "| 3 | MSTRG.10003 | NA                          | NA                        | NA | NA                          | TF |\n",
       "| 4 | MSTRG.10004 | Dmel_tr|Q9VXB1|Q9VXB1_DROME | Hsa_sp|Q14CZ0|CP072_HUMAN | NA | Xtrop_sp|Q28HY5|CP072_XENTR | NA |\n",
       "| 5 | MSTRG.10006 | Dmel_sp|Q9VYV3|TXND5_DROME  | Hsa_sp|Q8NBS9|TXND5_HUMAN | NA | NA                          | NA |\n",
       "\n"
      ],
      "text/plain": [
       "  gene        Dmel                        Hsa                       Cele\n",
       "1 MSTRG.1000  Dmel_tr|Q9VEC2|Q9VEC2_DROME Hsa_sp|Q969U7|PSMG2_HUMAN NA  \n",
       "2 MSTRG.10000 Dmel_tr|Q9VSW1|Q9VSW1_DROME Hsa_sp|Q16851|UGPA_HUMAN  NA  \n",
       "3 MSTRG.10003 NA                          NA                        NA  \n",
       "4 MSTRG.10004 Dmel_tr|Q9VXB1|Q9VXB1_DROME Hsa_sp|Q14CZ0|CP072_HUMAN NA  \n",
       "5 MSTRG.10006 Dmel_sp|Q9VYV3|TXND5_DROME  Hsa_sp|Q8NBS9|TXND5_HUMAN NA  \n",
       "  Xtrop                       class\n",
       "1 Xtrop_sp|Q5XGC5|PSMG2_XENTR NA   \n",
       "2 NA                          NA   \n",
       "3 NA                          TF   \n",
       "4 Xtrop_sp|Q28HY5|CP072_XENTR NA   \n",
       "5 NA                          NA   "
      ]
     },
     "metadata": {},
     "output_type": "display_data"
    }
   ],
   "source": [
    "#Open Orthofinder orthology output for four main model organisms\n",
    "setwd(\"/drives/ssd1/manuel/phaw/2022_analysis/annotation/protein_coding_genes/\")\n",
    "\n",
    "phaw_dmel <- read.table(\"/drives/ssd1/manuel/phaw/2022_analysis/annotation/protein_coding_genes/orthofinder_analysis/proteomes/OrthoFinder/Results_Jul01/Orthologues/Orthologues_Phaw/Phaw__v__Dmel.tsv\",\n",
    "                         header = T,stringsAsFactors = F,sep = \"\\t\")\n",
    "phaw_hsa <- read.table(\"/drives/ssd1/manuel/phaw/2022_analysis/annotation/protein_coding_genes/orthofinder_analysis/proteomes/OrthoFinder/Results_Jul01/Orthologues/Orthologues_Phaw/Phaw__v__Hsa.tsv\",\n",
    "                        header = T,stringsAsFactors = F,sep = \"\\t\")\n",
    "phaw_cele <- read.table(\"/drives/ssd1/manuel/phaw/2022_analysis/annotation/protein_coding_genes/orthofinder_analysis/proteomes/OrthoFinder/Results_Jul01/Orthologues/Orthologues_Phaw/Phaw__v__Cele.tsv\",\n",
    "                       header = T,stringsAsFactors = F,sep = \"\\t\")\n",
    "phaw_xtrop <- read.table(\"/drives/ssd1/manuel/phaw/2022_analysis/annotation/protein_coding_genes/orthofinder_analysis/proteomes/OrthoFinder/Results_Jul01/Orthologues/Orthologues_Phaw/Phaw__v__Xtrop.tsv\",\n",
    "                        header = T,stringsAsFactors = F,sep = \"\\t\")\n",
    "phaw_orthogroups <- read.table(\"/drives/ssd1/manuel/phaw/2022_analysis/annotation/protein_coding_genes/orthofinder_analysis/proteomes/OrthoFinder/Results_Jul01/Orthogroups/Orthogroups.tsv\",\n",
    "                               header = T,stringsAsFactors = F,sep = \"\\t\")\n",
    "phaw_TF <- read.table(\"/drives/ssd1/manuel/phaw/2022_analysis/annotation/protein_coding_genes/pfam_search/TF_ids.txt\")\n",
    "colnames(phaw_TF) <- c(\"Phaw\")\n",
    "#phaw_TF$Phaw <- paste0(\"Phaw_\",phaw_TF$Phaw)\n",
    "phaw_TF$class <- \"TF\"\n",
    "\n",
    "#Merge Phaw ortholog tables with TF dataframe\n",
    "phaw_orthologs_df <- Reduce(function(x, y) merge(x, y, all=TRUE, by = \"Phaw\"), list(phaw_dmel,phaw_hsa,phaw_cele,phaw_xtrop), accumulate=FALSE)\n",
    "\n",
    "phaw_orthologs_df <- merge(phaw_orthologs_df[,-c(2,4,6,8)] %>% tibble() %>% mutate(Phaw = gsub(\"Phaw_\",\"\",Phaw)) %>% separate_rows(Phaw)%>%\n",
    "  separate(Phaw,into = c(\"gene\", \"transcript\",\"pep\"), sep = \"\\\\.\") %>% filter(pep != \"NA\") %>%\n",
    "  mutate(gene=paste(gene,transcript,sep=\".\")) %>% dplyr::select(-c(transcript,pep)),\n",
    "  phaw_TF,by.x=\"gene\",by.y=\"Phaw\",all=TRUE)\n",
    "\n",
    "phaw_orthologs_df %>% head(5)\n",
    "#write.table(phaw_orthologs_df,\"phaw_orthologs_df.txt\",row.names = F,col.names = T,quote = F,sep = \"\\t\")  "
   ]
  },
  {
   "cell_type": "markdown",
   "id": "3b75990a-276f-4dac-9ebf-989b719cf64c",
   "metadata": {},
   "source": [
    "### 3. Analysis of Orthofinder results"
   ]
  },
  {
   "cell_type": "markdown",
   "id": "3adb657d-fe73-4abc-9aad-6f7b5a17ccd5",
   "metadata": {},
   "source": [
    "#### 3.1 Calling Orthogroups table"
   ]
  },
  {
   "cell_type": "code",
   "execution_count": 59,
   "id": "8fc79c8d-5610-4b2e-8a1b-97d13f75f5a4",
   "metadata": {},
   "outputs": [
    {
     "data": {
      "text/html": [
       "40130"
      ],
      "text/latex": [
       "40130"
      ],
      "text/markdown": [
       "40130"
      ],
      "text/plain": [
       "[1] 40130"
      ]
     },
     "metadata": {},
     "output_type": "display_data"
    },
    {
     "data": {
      "text/html": [
       "9078"
      ],
      "text/latex": [
       "9078"
      ],
      "text/markdown": [
       "9078"
      ],
      "text/plain": [
       "[1] 9078"
      ]
     },
     "metadata": {},
     "output_type": "display_data"
    },
    {
     "data": {
      "text/html": [
       "8532"
      ],
      "text/latex": [
       "8532"
      ],
      "text/markdown": [
       "8532"
      ],
      "text/plain": [
       "[1] 8532"
      ]
     },
     "metadata": {},
     "output_type": "display_data"
    }
   ],
   "source": [
    "orthogroups = read.table(\"/drives/ssd1/manuel/phaw/2022_analysis/annotation/protein_coding_genes/orthofinder_analysis/proteomes/OrthoFinder/Results_Jul01/Orthogroups/Orthogroups.tsv\",sep='\\t',header = T)\n",
    "#All orthogroups\n",
    "orthogroups %>% nrow()\n",
    "\n",
    "#Number of orthogroups containing Parhyale genes\n",
    "orthogroups %>% filter(Phaw != \"\") %>% nrow()\n",
    "\n",
    "#Selecting only orthogroups having Parhyale genes and shared with at least one species (remove those OG parhyale-specific)\n",
    "orthogroups <- orthogroups %>% filter(Phaw != \"\") %>% \n",
    "relocate(Phaw, .after = Orthogroup) %>% \n",
    "mutate_all(~na_if(., ''))%>% filter_at(3:29, any_vars(!is.na(.))) \n",
    "orthogroups %>% nrow()"
   ]
  },
  {
   "cell_type": "markdown",
   "id": "8d50b1ff-e712-492f-a712-192ff670809d",
   "metadata": {},
   "source": [
    "#### 3.2 Identifying Parhyale genes shared with other species"
   ]
  },
  {
   "cell_type": "code",
   "execution_count": 45,
   "id": "c3c35815-0451-4bf6-b4bc-8d17f8ec2a81",
   "metadata": {},
   "outputs": [
    {
     "data": {
      "text/html": [
       "16978"
      ],
      "text/latex": [
       "16978"
      ],
      "text/markdown": [
       "16978"
      ],
      "text/plain": [
       "[1] 16978"
      ]
     },
     "metadata": {},
     "output_type": "display_data"
    }
   ],
   "source": [
    "#Select OG containing phaw genes\n",
    "phaw_ortho <- orthogroups %>% select(Orthogroup, Phaw) %>%\n",
    "  filter(Phaw != \"\") %>% separate_rows(Phaw ,sep = \", \")\n",
    "#Parhyale genes in orthogroups\n",
    "phaw_ortho %>% select(Phaw) %>% unique() %>% nrow() "
   ]
  },
  {
   "cell_type": "markdown",
   "id": "a45b28d7-0102-4d1c-8883-7b894f7bfeb2",
   "metadata": {},
   "source": [
    "#### 3.3 Selecting all orthogroups shared between parhyale and other arthropods"
   ]
  },
  {
   "cell_type": "code",
   "execution_count": 48,
   "id": "8bf487ee-ec37-4e29-b7b7-b63223ef8961",
   "metadata": {},
   "outputs": [
    {
     "data": {
      "text/html": [
       "8362"
      ],
      "text/latex": [
       "8362"
      ],
      "text/markdown": [
       "8362"
      ],
      "text/plain": [
       "[1] 8362"
      ]
     },
     "metadata": {},
     "output_type": "display_data"
    }
   ],
   "source": [
    "arthtopod_orthogroups <- orthogroups %>% select(Orthogroup,Aaeg,Amel,Bger,Dmag,Dmel,Dpul,Hazt,Pvan,Tcas) %>%\n",
    "filter(Orthogroup %in% phaw_ortho$Orthogroup) %>% mutate_all(~na_if(., ''))%>% filter_at(2:10, any_vars(!is.na(.))) %>% pull(Orthogroup)\n",
    "arthtopod_orthogroups %>% length"
   ]
  },
  {
   "cell_type": "markdown",
   "id": "0dea16bc-5447-4339-925e-9830759477d5",
   "metadata": {},
   "source": [
    "#### 3.4 Count genes shared between parhyale and specific species"
   ]
  },
  {
   "cell_type": "code",
   "execution_count": 53,
   "id": "371453e4-8f09-46b1-8483-228565e69873",
   "metadata": {},
   "outputs": [
    {
     "data": {
      "text/html": [
       "<table class=\"dataframe\">\n",
       "<caption>A data.frame: 5 × 3</caption>\n",
       "<thead>\n",
       "\t<tr><th></th><th scope=col>species</th><th scope=col>genes</th><th scope=col>groups</th></tr>\n",
       "\t<tr><th></th><th scope=col>&lt;chr&gt;</th><th scope=col>&lt;int&gt;</th><th scope=col>&lt;int&gt;</th></tr>\n",
       "</thead>\n",
       "<tbody>\n",
       "\t<tr><th scope=row>1</th><td>Hazt</td><td>15356</td><td>7926</td></tr>\n",
       "\t<tr><th scope=row>2</th><td>Pvan</td><td>12275</td><td>6095</td></tr>\n",
       "\t<tr><th scope=row>3</th><td>Bger</td><td>11287</td><td>5679</td></tr>\n",
       "\t<tr><th scope=row>4</th><td>Smim</td><td>11174</td><td>5600</td></tr>\n",
       "\t<tr><th scope=row>5</th><td>Dmag</td><td>10973</td><td>5532</td></tr>\n",
       "</tbody>\n",
       "</table>\n"
      ],
      "text/latex": [
       "A data.frame: 5 × 3\n",
       "\\begin{tabular}{r|lll}\n",
       "  & species & genes & groups\\\\\n",
       "  & <chr> & <int> & <int>\\\\\n",
       "\\hline\n",
       "\t1 & Hazt & 15356 & 7926\\\\\n",
       "\t2 & Pvan & 12275 & 6095\\\\\n",
       "\t3 & Bger & 11287 & 5679\\\\\n",
       "\t4 & Smim & 11174 & 5600\\\\\n",
       "\t5 & Dmag & 10973 & 5532\\\\\n",
       "\\end{tabular}\n"
      ],
      "text/markdown": [
       "\n",
       "A data.frame: 5 × 3\n",
       "\n",
       "| <!--/--> | species &lt;chr&gt; | genes &lt;int&gt; | groups &lt;int&gt; |\n",
       "|---|---|---|---|\n",
       "| 1 | Hazt | 15356 | 7926 |\n",
       "| 2 | Pvan | 12275 | 6095 |\n",
       "| 3 | Bger | 11287 | 5679 |\n",
       "| 4 | Smim | 11174 | 5600 |\n",
       "| 5 | Dmag | 10973 | 5532 |\n",
       "\n"
      ],
      "text/plain": [
       "  species genes groups\n",
       "1 Hazt    15356 7926  \n",
       "2 Pvan    12275 6095  \n",
       "3 Bger    11287 5679  \n",
       "4 Smim    11174 5600  \n",
       "5 Dmag    10973 5532  "
      ]
     },
     "metadata": {},
     "output_type": "display_data"
    }
   ],
   "source": [
    "species <- vector()\n",
    "genes <- vector()\n",
    "groups <- vector()\n",
    "for ( i in 1:27){\n",
    "    species[i] <- colnames(orthogroups)[i+2]\n",
    "    genes[i] <- orthogroups %>% select(Orthogroup,Phaw,i+2) %>% drop_na(3) %>%  select(Orthogroup, Phaw) %>%  separate_rows(Phaw ,sep = \", \") %>% count %>% pull\n",
    "    groups[i] <- orthogroups %>% select(Orthogroup,Phaw,i+2) %>% drop_na(3) %>%  select(Orthogroup) %>%  count %>% pull\n",
    "}\n",
    "phaw_stats <- data.frame(species,genes,groups) \n",
    "phaw_stats %>% arrange(-groups) %>% head(5)"
   ]
  },
  {
   "cell_type": "markdown",
   "id": "b4ddfc6d-b49c-43fe-859b-dd8e87a7a61a",
   "metadata": {},
   "source": [
    "#### 3.5 Integrate and plot 1:1 orthogroups data with shared genes with each species"
   ]
  },
  {
   "cell_type": "code",
   "execution_count": 57,
   "id": "80c68226-ea0b-4239-ad22-cd032269f8b4",
   "metadata": {},
   "outputs": [
    {
     "data": {
      "text/html": [
       "<table class=\"dataframe\">\n",
       "<caption>A data.frame: 1 × 29</caption>\n",
       "<thead>\n",
       "\t<tr><th scope=col>X</th><th scope=col>Aaeg</th><th scope=col>Amel</th><th scope=col>Aqueen</th><th scope=col>Bflor</th><th scope=col>Bger</th><th scope=col>Bmal</th><th scope=col>Cele</th><th scope=col>Dmag</th><th scope=col>Dmel</th><th scope=col>⋯</th><th scope=col>Nvect</th><th scope=col>Nvit</th><th scope=col>Phaw</th><th scope=col>Pvan</th><th scope=col>Smar</th><th scope=col>Smed</th><th scope=col>Smim</th><th scope=col>Tcas</th><th scope=col>Tspir</th><th scope=col>Xtrop</th></tr>\n",
       "\t<tr><th scope=col>&lt;chr&gt;</th><th scope=col>&lt;dbl&gt;</th><th scope=col>&lt;dbl&gt;</th><th scope=col>&lt;dbl&gt;</th><th scope=col>&lt;dbl&gt;</th><th scope=col>&lt;dbl&gt;</th><th scope=col>&lt;dbl&gt;</th><th scope=col>&lt;dbl&gt;</th><th scope=col>&lt;dbl&gt;</th><th scope=col>&lt;dbl&gt;</th><th scope=col>⋯</th><th scope=col>&lt;dbl&gt;</th><th scope=col>&lt;dbl&gt;</th><th scope=col>&lt;dbl&gt;</th><th scope=col>&lt;dbl&gt;</th><th scope=col>&lt;dbl&gt;</th><th scope=col>&lt;dbl&gt;</th><th scope=col>&lt;dbl&gt;</th><th scope=col>&lt;dbl&gt;</th><th scope=col>&lt;dbl&gt;</th><th scope=col>&lt;dbl&gt;</th></tr>\n",
       "</thead>\n",
       "<tbody>\n",
       "\t<tr><td>Phaw</td><td>4214</td><td>4823</td><td>2634</td><td>3784</td><td>4831</td><td>1776</td><td>3053</td><td>4827</td><td>4477</td><td>⋯</td><td>3320</td><td>4607</td><td>0</td><td>5290</td><td>4183</td><td>1994</td><td>4189</td><td>4859</td><td>2456</td><td>1754</td></tr>\n",
       "</tbody>\n",
       "</table>\n"
      ],
      "text/latex": [
       "A data.frame: 1 × 29\n",
       "\\begin{tabular}{lllllllllllllllllllll}\n",
       " X & Aaeg & Amel & Aqueen & Bflor & Bger & Bmal & Cele & Dmag & Dmel & ⋯ & Nvect & Nvit & Phaw & Pvan & Smar & Smed & Smim & Tcas & Tspir & Xtrop\\\\\n",
       " <chr> & <dbl> & <dbl> & <dbl> & <dbl> & <dbl> & <dbl> & <dbl> & <dbl> & <dbl> & ⋯ & <dbl> & <dbl> & <dbl> & <dbl> & <dbl> & <dbl> & <dbl> & <dbl> & <dbl> & <dbl>\\\\\n",
       "\\hline\n",
       "\t Phaw & 4214 & 4823 & 2634 & 3784 & 4831 & 1776 & 3053 & 4827 & 4477 & ⋯ & 3320 & 4607 & 0 & 5290 & 4183 & 1994 & 4189 & 4859 & 2456 & 1754\\\\\n",
       "\\end{tabular}\n"
      ],
      "text/markdown": [
       "\n",
       "A data.frame: 1 × 29\n",
       "\n",
       "| X &lt;chr&gt; | Aaeg &lt;dbl&gt; | Amel &lt;dbl&gt; | Aqueen &lt;dbl&gt; | Bflor &lt;dbl&gt; | Bger &lt;dbl&gt; | Bmal &lt;dbl&gt; | Cele &lt;dbl&gt; | Dmag &lt;dbl&gt; | Dmel &lt;dbl&gt; | ⋯ ⋯ | Nvect &lt;dbl&gt; | Nvit &lt;dbl&gt; | Phaw &lt;dbl&gt; | Pvan &lt;dbl&gt; | Smar &lt;dbl&gt; | Smed &lt;dbl&gt; | Smim &lt;dbl&gt; | Tcas &lt;dbl&gt; | Tspir &lt;dbl&gt; | Xtrop &lt;dbl&gt; |\n",
       "|---|---|---|---|---|---|---|---|---|---|---|---|---|---|---|---|---|---|---|---|---|\n",
       "| Phaw | 4214 | 4823 | 2634 | 3784 | 4831 | 1776 | 3053 | 4827 | 4477 | ⋯ | 3320 | 4607 | 0 | 5290 | 4183 | 1994 | 4189 | 4859 | 2456 | 1754 |\n",
       "\n"
      ],
      "text/plain": [
       "  X    Aaeg Amel Aqueen Bflor Bger Bmal Cele Dmag Dmel ⋯ Nvect Nvit Phaw Pvan\n",
       "1 Phaw 4214 4823 2634   3784  4831 1776 3053 4827 4477 ⋯ 3320  4607 0    5290\n",
       "  Smar Smed Smim Tcas Tspir Xtrop\n",
       "1 4183 1994 4189 4859 2456  1754 "
      ]
     },
     "metadata": {},
     "output_type": "display_data"
    }
   ],
   "source": [
    "orthogroups_121 = read.table(\"/drives/ssd1/manuel/phaw/2022_analysis/annotation/protein_coding_genes/orthofinder_analysis/proteomes/OrthoFinder/Results_Jul01/Comparative_Genomics_Statistics/OrthologuesStats_one-to-one.tsv\",sep='\\t',header = T)\n",
    "orthogroups_121 %>% filter(X == \"Phaw\")"
   ]
  },
  {
   "cell_type": "code",
   "execution_count": 58,
   "id": "fda1a107-00c0-4170-a016-7e858847e2c2",
   "metadata": {},
   "outputs": [
    {
     "name": "stderr",
     "output_type": "stream",
     "text": [
      "Using species as id variables\n",
      "\n"
     ]
    },
    {
     "data": {
      "image/png": "[encoded data removed]",
      "text/plain": [
       "plot without title"
      ]
     },
     "metadata": {
      "image/png": {
       "height": 600,
       "width": 720
      }
     },
     "output_type": "display_data"
    }
   ],
   "source": [
    "options(repr.plot.width=12, repr.plot.height=10)\n",
    " \n",
    "arthropods_shredOG <- merge(phaw_stats,\n",
    "      orthogroups_121 %>% filter(X == \"Phaw\") %>% pivot_longer(cols = Aaeg:Xtrop,names_to = \"species\",values_to = \"og121\") %>% select(-X), by= \"species\") %>%\n",
    "filter(species %in% c(\"Aaeg\",\"Amel\",\"Bger\",\"Dmag\",\"Dmel\",\"Dpul\",\"Hazt\",\"Pvan\",\"Tcas\")) %>%\n",
    "mutate(species = factor(species)) %>% rename(\"Genes in Orthogroups\"=\"genes\",\"Orthogroups\"=\"groups\",\"1:1 Orthogroups\"=\"og121\")  %>% melt() %>%\n",
    "mutate(variable= factor(variable,levels= c(\"Orthogroups\",\"Genes in Orthogroups\",\"1:1 Orthogroups\"))) %>%\n",
    "ggplot(aes(x=species, y=value, fill=variable)) + xlab(NULL) + ylab(\"Count\") +\n",
    " scale_fill_manual(values=c(\"darkolivegreen4\",\"darkorchid3\",\"dimgray\")) +\n",
    "  geom_bar(stat=\"identity\", position=position_dodge()) + scale_y_continuous(limits = c(0,16000), expand = c(0, 100)) +\n",
    "    theme(plot.title = element_text(size=20, hjust = 0.5),legend.position = \"bottom\",legend.title=element_blank(),\n",
    "          axis.text.x = element_text(angle = 30, hjust = 1), axis.title = element_text(size = 24),\n",
    "          axis.text = element_text(size = 20),legend.text = element_text(size = 20))\n",
    "\n",
    "#tiff(\"arthropods_shredOG.tiff\",width = 9,height = 6.5,units = \"in\",res=400,compression = \"lzw\")\n",
    "arthropods_shredOG\n",
    "#dev.off()"
   ]
  }
 ],
 "metadata": {
  "kernelspec": {
   "display_name": "R",
   "language": "R",
   "name": "ir"
  },
  "language_info": {
   "codemirror_mode": "r",
   "file_extension": ".r",
   "mimetype": "text/x-r-source",
   "name": "R",
   "pygments_lexer": "r",
   "version": "4.0.3"
  }
 },
 "nbformat": 4,
 "nbformat_minor": 5
}
