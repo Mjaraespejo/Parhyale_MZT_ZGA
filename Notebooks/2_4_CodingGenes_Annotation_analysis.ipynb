{
 "cells": [
  {
   "cell_type": "markdown",
   "id": "e0fa8e4a-9313-48b7-a9d3-e6c3c3f06610",
   "metadata": {},
   "source": [
    "# 2_4 CodingGenes annotation analysis\n",
    "\n",
    "Manuel Jara-Espejo$^{1}$\\\n",
    "Aboobaker lab, Department of Biology, University of Oxford\n",
    "\n",
    "## Contents of notebook\n",
    "1. Introduction\n",
    "2. Reduce redundancy of annotated transcripts using CD-HIT\n",
    "3. ORF identification with TransDecoder\n",
    "4. Pfam and BlastP searches to enable homology-based coding region identification\\\n",
    "    4.1 Run Pfam search on longest ORFs \\\n",
    "    4.2 Run BlastP search on longest ORFs\n",
    "5. Final coding region predictions\n",
    "6. Select representattive transcript per gene\n",
    "\n",
    "## Files\n",
    "* Input: stringtie2_merged.gtf\n",
    "* Output: "
   ]
  },
  {
   "cell_type": "markdown",
   "id": "8f67c725-e1d3-4bef-8eaf-62e03816df09",
   "metadata": {},
   "source": [
    "### 1. Introduction"
   ]
  },
  {
   "cell_type": "markdown",
   "id": "76128ec1-c6a2-410e-8f6d-8640b5ea37b8",
   "metadata": {},
   "source": [
    "### 2. Reduce redundancy of annotated transcripts using CD-HIT"
   ]
  },
  {
   "cell_type": "markdown",
   "id": "f77f32f1-7ac5-4f93-ab51-4e8864ce41f0",
   "metadata": {},
   "source": [
    "#### Extract transcripts sequences"
   ]
  },
  {
   "cell_type": "code",
   "execution_count": 9,
   "id": "085e1168-6456-4d2b-948d-369d25214720",
   "metadata": {},
   "outputs": [
    {
     "name": "stdout",
     "output_type": "stream",
     "text": [
      "131116\n"
     ]
    }
   ],
   "source": [
    "%%bash\n",
    "cd ../annotation/protein_coding_genes/stringtie2/stringtie2_merge/\n",
    "#agat_sp_extract_sequences.pl -g stringtie2_merged.gtf -f /drives/ssd1/manuel/phaw/2022_analysis/phaw_gapfilling/TGS-GapCloser_anlysis/results_sambaAsm/change_scafNames/phaw_sambaAsm.scaff_seqs_editedScafNames.fa -t exon --merge -o stringtie2_merged_mRNA.fasta\n",
    "\n",
    "#### Total number of Txs annotated in Phaw5.1\n",
    "grep -c \">\" ./stringtie2_merged_mRNA.fasta"
   ]
  },
  {
   "cell_type": "markdown",
   "id": "c022e473-41f0-4c3f-8f44-c8b814f52cb2",
   "metadata": {},
   "source": [
    "#### Run CH-HIT"
   ]
  },
  {
   "cell_type": "code",
   "execution_count": 10,
   "id": "d740ea6d-752d-4b92-afe1-44ac59699976",
   "metadata": {},
   "outputs": [
    {
     "name": "stdout",
     "output_type": "stream",
     "text": [
      ">Cluster 0\n",
      "0\t502nt, >MSTRG.18904.1... at +/97.21%\n",
      "1\t505nt, >MSTRG.18903.1... at +/96.44%\n",
      "2\t501nt, >MSTRG.18903.2... at +/96.41%\n",
      "3\t380nt, >MSTRG.19034.1... at -/97.89%\n"
     ]
    }
   ],
   "source": [
    "%%bash \n",
    "cd ../annotation/protein_coding_genes/cdhit_analysis/\n",
    "#~/software/cd-hit-v4.8.1-2019-0228/cd-hit-est -M 2000 -c 0.95 -T 8 -i $transcripts -o transcripts_cdhit_0.95.fa\n",
    "head -5 transcripts_cdhit_0.95.fa.clstr"
   ]
  },
  {
   "cell_type": "markdown",
   "id": "059753c2-4fea-4136-93bc-b975f1585b41",
   "metadata": {},
   "source": [
    "### 3. ORF identification with TransDecoder"
   ]
  },
  {
   "cell_type": "markdown",
   "id": "4f51f17d-204b-44ec-a89d-cd909ee401a4",
   "metadata": {},
   "source": [
    "#### 2.1 Extract the long open reading frames"
   ]
  },
  {
   "cell_type": "code",
   "execution_count": 18,
   "id": "9d99f420-8c6e-4c6d-bd1b-ac087b2b3fa2",
   "metadata": {},
   "outputs": [
    {
     "name": "stdout",
     "output_type": "stream",
     "text": [
      "longest_orfs.cds\n",
      "longest_orfs.cds.best_candidates.gff3\n",
      "longest_orfs.cds.best_candidates.gff3.revised_starts.gff3\n",
      "longest_orfs.cds.scores\n",
      "longest_orfs.cds.top_500_longest\n",
      "longest_orfs.cds.top_longest_5000\n",
      "longest_orfs.cds.top_longest_5000.nr\n",
      "longest_orfs.gff3\n",
      "longest_orfs.pep\n"
     ]
    }
   ],
   "source": [
    "%%bash \n",
    "cd ../annotation/protein_coding_genes/transdecoder/\n",
    "#~/software/TransDecoder-TransDecoder-v5.5.0/TransDecoder.LongOrfs -S -t transcripts_cdhit_0.95.fa\n",
    "#Ouput files in ./transcripts_cdhit_0.95.fa.transdecoder_dir\n",
    "cd ./transcripts_cdhit_0.95.fa.transdecoder_dir\n",
    "ls | grep \"longest_orfs.\""
   ]
  },
  {
   "cell_type": "markdown",
   "id": "337cb319-e2ff-40b6-bdb3-318d5da2c488",
   "metadata": {},
   "source": [
    "### 4. Pfam and BlastP searches to enable homology-based coding region identification"
   ]
  },
  {
   "cell_type": "markdown",
   "id": "5f53c1f9-0aa1-4444-84e3-b8f4a0f2429c",
   "metadata": {},
   "source": [
    "#### 4.1 Run Pfam search on longest ORFs"
   ]
  },
  {
   "cell_type": "code",
   "execution_count": 36,
   "id": "ea0bddc8-11b9-4351-871b-e82f2ad909f0",
   "metadata": {},
   "outputs": [
    {
     "name": "stdout",
     "output_type": "stream",
     "text": [
      "83606\n",
      " \n",
      "MSTRG.3923.1.p1\t1456eefee22fb663c99fd6c823ce4cc5\t163\tPfam\tPF02278\tPolysaccharide lyase family 8, super-sandwich domain\t1\t143\t5.6E-27\tT\t29-06-2022\tIPR003159\tPolysaccharide lyase family 8, central domain\tGO:0005576|GO:0016829\n",
      "MSTRG.2511.1.p1\tf45ef6f317fa2f01df6b2584c25d6c93\t211\tPfam\tPF00018\tSH3 domain\t5\t50\t1.1E-15\tT\t29-06-2022\tIPR001452\tSH3 domain\tGO:0005515\n",
      "MSTRG.2511.1.p1\tf45ef6f317fa2f01df6b2584c25d6c93\t211\tPfam\tPF00018\tSH3 domain\t158\t203\t7.7E-17\tT\t29-06-2022\tIPR001452\tSH3 domain\tGO:0005515\n",
      "MSTRG.28453.1.p1\t2ba2bef6288d3479f8937fcd61fc7c3c\t554\tPfam\tPF00118\tTCP-1/cpn60 chaperonin family\t30\t534\t2.3E-153\tT\t29-06-2022\tIPR002423\tChaperonin Cpn60/TCP-1 family\tGO:0005524|GO:0016887\n",
      "MSTRG.20570.1.p1\t8c5e4fb56767aea8715288bcb4b5fcab\t770\tPfam\tPF00651\tBTB/POZ domain\t88\t183\t3.3E-22\tT\t29-06-2022\tIPR000210\tBTB/POZ domain\tGO:0005515\n"
     ]
    }
   ],
   "source": [
    "%%bash \n",
    "cd ../annotation/protein_coding_genes/pfam_search/\n",
    "#The last \"*\" character of the peptide sequences was removed.\n",
    "#sed 's/*//g' ../transdecoder/transcripts_cdhit_0.95.fa.transdecoder_dir/longest_orfs.pep > peps_filt\n",
    "grep -c  \">\" ./peps_filt\n",
    "echo \" \"\n",
    "#~/software/interproscan-5.52-86.0/interproscan.sh -appl Pfam -cpu 15  -goterms -iprlookup -pa -i peps_filt -f tsv\n",
    "less peps_filt.tsv  | grep \"GO\" | head -5 | cut -f1-14"
   ]
  },
  {
   "cell_type": "markdown",
   "id": "b691f9fb-96ac-4b80-aa75-3984bb6216b3",
   "metadata": {},
   "source": [
    "#### 4.2 Run BlastP search on longest ORFs"
   ]
  },
  {
   "cell_type": "code",
   "execution_count": 39,
   "id": "6ca1d63d-38a2-425f-96d6-e6c0c14cc2e0",
   "metadata": {},
   "outputs": [
    {
     "name": "stdout",
     "output_type": "stream",
     "text": [
      "MSTRG.18409.1.p2\tsp|P23654|NRT_DROME\t37.919\t56\t522\t846\t298\t186\t1.69e-49\n",
      "MSTRG.18410.2.p1\tsp|Q9U8W7|TL5B_TACTR\t45.361\t37\t516\t316\t194\t167\t1.68e-46\n",
      "MSTRG.18412.1.p2\tsp|P23654|NRT_DROME\t39.207\t80\t263\t846\t227\t147\t5.34e-39\n",
      "MSTRG.18413.1.p1\tsp|Q92539|LPIN2_HUMAN\t43.116\t49\t1088\t896\t552\t410\t5.61e-126\n",
      "MSTRG.18413.2.p1\tsp|Q92539|LPIN2_HUMAN\t43.595\t33\t1531\t896\t523\t390\t6.44e-116\n"
     ]
    }
   ],
   "source": [
    "%%bash\n",
    "cd ../annotation/protein_coding_genes/blast_search/uniprot_database/\n",
    "#Make blast database\n",
    "# ~/software/ncbi-blast-2.12.0+/bin/makeblastdb  -in uniprot_sprot.fasta -out swissprot -dbtype prot  -parse_seqids\n",
    "\n",
    "#Blast phaw proteome against swissprot proteome database\n",
    "phaw_proteome=../../transdecoder/transcripts_cdhit_0.95.fa.transdecoder_dir/longest_orfs.pep\n",
    "\n",
    "#~/software/ncbi-blast-2.12.0+/bin/blastp -query ${phaw_proteome} -db swissprot -max_target_seqs 1 \\\n",
    "#max_hsps 1 -evalue 1e-06 -num_threads 10 -outfmt '6 qseqid sseqid pident qcovs qlen slen length bitscore evalue' \\\n",
    "#out blast_out.txt\n",
    "head -5 blast_out.txt"
   ]
  },
  {
   "cell_type": "markdown",
   "id": "eb174f93-a85f-41cd-b012-3bdd8488dc4b",
   "metadata": {},
   "source": [
    "### 5. Final coding region predictions\n",
    "Scan all ORFs for homology to known proteins and retain all such ORFs."
   ]
  },
  {
   "cell_type": "code",
   "execution_count": 50,
   "id": "84b0ce4e-4107-4a10-86bb-5a97a2cb0ce4",
   "metadata": {},
   "outputs": [
    {
     "name": "stdout",
     "output_type": "stream",
     "text": [
      "transcripts_cdhit_0.95.fa.transdecoder.bed\n",
      "transcripts_cdhit_0.95.fa.transdecoder.cds\n",
      "transcripts_cdhit_0.95.fa.transdecoder.genome.gff3\n",
      "transcripts_cdhit_0.95.fa.transdecoder.gff3\n",
      "transcripts_cdhit_0.95.fa.transdecoder.pep\n",
      "transdecoderComp.transcripts_cdhit_0.95.fa.transdecoder.genome.gff3.refmap\n",
      "transdecoderComp.transcripts_cdhit_0.95.fa.transdecoder.genome.gff3.tmap\n",
      " \n",
      "49479\n"
     ]
    }
   ],
   "source": [
    "%%bash\n",
    "cd ../annotation/protein_coding_genes/transdecoder/\n",
    "#~/software/TransDecoder-TransDecoder-v5.5.0/TransDecoder.Predict -t transcripts_cdhit_0.95.fa.clstr \\\n",
    "#--retain_pfam_hits ${pfam_out} --retain_blastp_hits ${blastp_out}\n",
    "#Output files prefix: transcripts_cdhit_0.95.fa.transdecoder*\n",
    "ls -p | grep \"transcripts_cdhit_0.95.fa.transdecoder\" | grep -v /\n",
    "echo \" \"\n",
    "grep -c \">\" transcripts_cdhit_0.95.fa.transdecoder.pep"
   ]
  },
  {
   "cell_type": "markdown",
   "id": "42151ea1-2ed6-42e0-ba44-d065932aa67f",
   "metadata": {},
   "source": [
    "##### Generate a genome-based coding region annotation file"
   ]
  },
  {
   "cell_type": "code",
   "execution_count": 6,
   "id": "8c2b567a-f66f-49a4-8e75-08e73386be0f",
   "metadata": {},
   "outputs": [
    {
     "name": "stdout",
     "output_type": "stream",
     "text": [
      "Scaffold_1137_HRSCAF_3071\ttransdecoder\tgene\t16407328\t16433766\t.\t-\t.\tID=MSTRG.1000;Name=ORF%20type%3Acomplete%20len%3A117%20%28%2B%29%2Cscore%3D7.78%2Csp%7CQ1LXS2%7CPSMG2_DANRE%7C41.573%7C\n",
      "Scaffold_1137_HRSCAF_3071\ttransdecoder\tmRNA\t16407328\t16433766\t.\t-\t.\tID=MSTRG.1000.1.p1;Parent=MSTRG.1000;Name=ORF%20type%3Acomplete%20len%3A117%20%28%2B%29%2Cscore%3D7.78%2Csp%7CQ1LXS2%7CPSMG2_DANRE%7C41.573%7C\n",
      "Scaffold_1137_HRSCAF_3071\ttransdecoder\tfive_prime_UTR\t16433460\t16433766\t.\t-\t.\tID=MSTRG.1000.1.p1.utr5p1;Parent=MSTRG.1000.1.p1\n",
      "Scaffold_1137_HRSCAF_3071\ttransdecoder\texon\t16433400\t16433766\t.\t-\t.\tID=MSTRG.1000.1.p1.exon1;Parent=MSTRG.1000.1.p1\n",
      "Scaffold_1137_HRSCAF_3071\ttransdecoder\tCDS\t16433400\t16433459\t.\t-\t0\tID=cds.MSTRG.1000.1.p1;Parent=MSTRG.1000.1.p1\n"
     ]
    }
   ],
   "source": [
    "%%bash\n",
    "cd ../annotation/protein_coding_genes/transdecoder/\n",
    "# 1. Convert stringtie_merged.gtf to .gff3\n",
    "#~/software/TransDecoder-TransDecoder-v5.5.0/util/gtf_to_alignment_gff3.pl \\\n",
    "#../stringtie2/stringtie2_merge/stringtie2_merged.gtf > ../stringtie2/stringtie2_merge.gff3\n",
    "\n",
    "#2. Create the coding-based annotation\n",
    "#~/software/TransDecoder-TransDecoder-v5.5.0/util/cdna_alignment_orf_to_genome_orf.pl \\\n",
    "#transcripts_cdhit_0.95.fa.transdecoder.gff3 \\\n",
    "#../stringtie2/stringtie2_merge.gff3 \\\n",
    "#../cdhit_analysis/transcripts_cdhit_0.95.fa > transcripts_cdhit_0.95.fa.transdecoder.genome.gff3\n",
    "head -5 transcripts_cdhit_0.95.fa.transdecoder.genome.gff3"
   ]
  },
  {
   "cell_type": "markdown",
   "id": "95264a81-cba4-4b79-b2ca-4c797061e4ca",
   "metadata": {},
   "source": [
    "### 6. Select representative transcript per gene"
   ]
  },
  {
   "cell_type": "markdown",
   "id": "32283b60-974c-4211-856f-71d59c1a6cfb",
   "metadata": {},
   "source": [
    "#### 6.1 Reduce peptide redundancy using CD-HIT"
   ]
  },
  {
   "cell_type": "code",
   "execution_count": 14,
   "id": "edc21cd9-5385-43e3-9bd8-1f83c51bf788",
   "metadata": {},
   "outputs": [
    {
     "name": "stdout",
     "output_type": "stream",
     "text": [
      ">Cluster 0\n",
      "0\t17390aa, >MSTRG.32169.9.p1... *\n",
      ">Cluster 1\n",
      "0\t16406aa, >MSTRG.32169.17.p1... *\n",
      ">Cluster 2\n"
     ]
    }
   ],
   "source": [
    "%%bash \n",
    "cd ../annotation/protein_coding_genes/cdhit_analysis/\n",
    "#~/software/cd-hit-v4.8.1-2019-0228/cd-hit -c 0.99 -T 8 -i ../transdecoder/transcripts_cdhit_0.95.fa.transdecoder.pep -o peptides.cdhit_0.99.fa\n",
    "head -5 peptides.cdhit_0.99.fa.clstr"
   ]
  },
  {
   "cell_type": "markdown",
   "id": "8f4bdea5-172d-412d-befb-6a5cd70c90a4",
   "metadata": {},
   "source": [
    "#### 6.2 Extract longest peptide ID"
   ]
  },
  {
   "cell_type": "markdown",
   "id": "ebd5e9ba-be35-42f5-b4c1-032aac06e527",
   "metadata": {},
   "source": [
    "##### Convert peptides obtained using Transdecoder + CD-HIT tools to tbl format"
   ]
  },
  {
   "cell_type": "code",
   "execution_count": 26,
   "id": "1bc8a87d-1642-49b6-9680-259c3a6f8858",
   "metadata": {},
   "outputs": [],
   "source": [
    "%%bash \n",
    "#cd ../annotation/protein_coding_genes/transdecoder/unigenes/\n",
    "#/drives/ssd1/manuel/FastaToTbl.sh ../../cdhit_analysis/peptides.cdhit_0.99.fa > peptides.cdhit_0.99.fa.tbl"
   ]
  },
  {
   "cell_type": "markdown",
   "id": "478d4825-3882-4744-b850-8cd4eab06c47",
   "metadata": {},
   "source": [
    "#### 6.2 Select the longest peptide ID"
   ]
  },
  {
   "cell_type": "code",
   "execution_count": 2,
   "id": "7c288758-0ebb-4495-9adf-5f48974f19ab",
   "metadata": {},
   "outputs": [
    {
     "name": "stdout",
     "output_type": "stream",
     "text": [
      "gene_id\ttranscript_id\tlongest_pep\tpep_ln\n",
      "MSTRG.1000\tMSTRG.1000.1\tMSTRG.1000.1.p1\t117\n",
      "MSTRG.10000\tMSTRG.10000.1\tMSTRG.10000.1.p1\t509\n",
      "MSTRG.10001\tMSTRG.10001.1\tMSTRG.10001.1.p1\t128\n",
      "MSTRG.10003\tMSTRG.10003.2\tMSTRG.10003.2.p1\t1252\n",
      "\n",
      "MSTRG.1000.1.p1\n",
      "MSTRG.10000.1.p1\n",
      "MSTRG.10001.1.p1\n",
      "MSTRG.10003.2.p1\n",
      "MSTRG.10004.1.p1\n"
     ]
    }
   ],
   "source": [
    "%%bash\n",
    "cd ../annotation/protein_coding_genes/transdecoder/unigenes/\n",
    "#ruby get-longest-cds.rb > peptides.cdhit_0.99.fa_filter1.tbl\n",
    "head -5 peptides.cdhit_0.99.fa_filter1.tbl\n",
    "#cut -f3 peptides.cdhit_0.99.fa_filter1.tbl > longest_peps_id.txt\n",
    "echo \"\"\n",
    "#Longest peptide ID\n",
    "head -5 longest_peps_id.txt"
   ]
  },
  {
   "cell_type": "markdown",
   "id": "9e02c35f-ca6d-4db0-ba23-b8e8f7cead01",
   "metadata": {},
   "source": [
    "#### 6.3 Filter Transdecoder ouputs based on the longest pep id:"
   ]
  },
  {
   "cell_type": "code",
   "execution_count": 4,
   "id": "4b23958b-c408-4949-8c2b-9e5b24e44a4f",
   "metadata": {},
   "outputs": [],
   "source": [
    "%%bash \n",
    "cd ../annotation/protein_coding_genes/transdecoder/unigenes/\n",
    "#Convert .pep and .cds files to tbl format\n",
    "/drives/ssd1/manuel/FastaToTbl.sh ../transcripts_cdhit_0.95.fa.transdecoder.pep > transcripts_cdhit_0.95.fa.transdecoder.pep.tbl\n",
    "/drives/ssd1/manuel/FastaToTbl.sh ../transcripts_cdhit_0.95.fa.transdecoder.cds > transcripts_cdhit_0.95.fa.transdecoder.cds.tbl\n",
    "\t\n",
    "grep -Fwf longest_peps_id.txt transcripts_cdhit_0.95.fa.transdecoder.pep.tbl > phaw_unigenes.pep.tbl\n",
    "grep -Fwf longest_peps_id.txt transcripts_cdhit_0.95.fa.transdecoder.cds.tbl > phaw_unigenes.cds.tbl\n",
    "\n",
    "#Convert tbl files to fasta format \n",
    "\n",
    "/drives/ssd1/manuel/TblToFasta.sh phaw_unigenes.pep.tbl > phaw_unigenes.pep\n",
    "/drives/ssd1/manuel/TblToFasta.sh phaw_unigenes.cds.tbl > phaw_unigenes.cds\n",
    "\n",
    "#Remove intermediate tbl files\n",
    "rm ./*.tbl"
   ]
  }
 ],
 "metadata": {
  "kernelspec": {
   "display_name": "Python 3",
   "language": "python",
   "name": "python3"
  },
  "language_info": {
   "codemirror_mode": {
    "name": "ipython",
    "version": 3
   },
   "file_extension": ".py",
   "mimetype": "text/x-python",
   "name": "python",
   "nbconvert_exporter": "python",
   "pygments_lexer": "ipython3",
   "version": "3.9.2"
  }
 },
 "nbformat": 4,
 "nbformat_minor": 5
}
