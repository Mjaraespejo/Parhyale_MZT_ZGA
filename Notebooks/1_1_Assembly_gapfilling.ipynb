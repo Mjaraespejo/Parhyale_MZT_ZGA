{
 "cells": [
  {
   "cell_type": "markdown",
   "id": "3b895bd8-e3db-4e98-ab29-12ccac154c5b",
   "metadata": {
    "tags": []
   },
   "source": [
    "# 1-1-Assembly gap-filling \n",
    "Manuel Jara-Espejo$^{1}$\n",
    "\n",
    "Aboobaker lab, Department of Biology, University of Oxford\n",
    "\n",
    "## Contents of notebook\n",
    "Introduction\\\n",
    "Run Samba on Parhyale reference genome *Phaw5.0*\\\n",
    "Run TGS-GapCloser \\\n",
    "Edit scaffold names\n",
    "\n",
    "## Files\n",
    "PacBio HiFi CCS reads: /drives/raid/AboobakerLab/manuel/data_phaw_analysis/asm_gap_filling/TGS-GapCloser_anlysis/m64164_211030_095407.hifi.subreads.fa \\\n",
    "Reference genome assembly: /drives/raid/AboobakerLab/data/genomes/phaw/parhyale_hawaiensis_15Feb20182_1IWOV.fa"
   ]
  },
  {
   "cell_type": "markdown",
   "id": "a41d65a5-b66c-43cf-aebd-0668140f4611",
   "metadata": {},
   "source": [
    "## 1. Introduction"
   ]
  },
  {
   "cell_type": "markdown",
   "id": "b2017d1b-4b2a-4d96-adeb-92be50ba101e",
   "metadata": {
    "tags": []
   },
   "source": [
    "## 2. Run Samba on Parhyale reference genome *Phaw5.0*"
   ]
  },
  {
   "cell_type": "code",
   "execution_count": 1,
   "id": "b9adeedf-f949-4062-a78c-69f20a857fdf",
   "metadata": {},
   "outputs": [
    {
     "name": "stdout",
     "output_type": "stream",
     "text": [
      "#!/bin/bash \n",
      "\n",
      "#Script used to Samba on Phaw5.0 (reference) assembly\n",
      "\n",
      "/drives/raid/AboobakerLab/software/MaSuRCA-4.0.9/bin/samba.sh -r /drives/raid/AboobakerLab/data/genomes/phaw/parhyale_hawaiensis_15Feb20182_1IWOV.fa \\\n",
      "-q /drives/raid/AboobakerLab/manuel/data_phaw_analysis/asm_gap_filling/TGS-GapCloser_anlysis/m64164_211030_095407.hifi.subreads.fa \\\n",
      "-t 30 -d asm -m 5000 -o 1000 -a \n",
      "\n",
      "#Output assembly: parhyale_hawaiensis_15Feb20182_1IWOV.fa.scaffolds.fa"
     ]
    }
   ],
   "source": [
    "%%bash\n",
    "\n",
    "cd ./scripts\n",
    "less 1_run_samba.sh"
   ]
  },
  {
   "cell_type": "markdown",
   "id": "a9c0baaf-5521-439f-bbb8-3d25f27f26de",
   "metadata": {},
   "source": [
    "## 3. Run TGS-GapCloser"
   ]
  },
  {
   "cell_type": "code",
   "execution_count": 8,
   "id": "462b783d-af27-440f-a251-85ee5a02616b",
   "metadata": {},
   "outputs": [
    {
     "name": "stdout",
     "output_type": "stream",
     "text": [
      "#!/bin/bash\n",
      "\n",
      "/drives/raid/AboobakerLab/software/TGS-GapCloser/TGS-GapCloser.sh \\\n",
      "--scaff  /drives/ssd1/manuel/phaw/2022_analysis/asm_SAMBA_analysis/parhyale_hawaiensis_15Feb20182_1IWOV.fa.scaffolds.fa \\\n",
      "--reads  /drives/raid/AboobakerLab/manuel/data_phaw_analysis/asm_gap_filling/TGS-GapCloser_anlysis/m64164_211030_095407.hifi.subreads.fa \\\n",
      "--output phaw_sambaAsm \\\n",
      "--minmap_arg '-x asm20' \\\n",
      "--ne \\\n",
      "--thread 20 \\\n",
      "--tgstype pb \n",
      "\n",
      "#Ouput assembly: phaw_sambaAsm.scaff_seqs\n",
      "#The ouput file contained special characters in the scaffolds names, so I had to edit those."
     ]
    }
   ],
   "source": [
    "%%bash\n",
    "\n",
    "cd ./scripts\n",
    "less 2_run_tgsgapcloser_onSambaAsm.sh"
   ]
  },
  {
   "cell_type": "markdown",
   "id": "2eb38d5a-7e3f-4fc4-bbc6-f29475874af5",
   "metadata": {},
   "source": [
    "## 4. Edit scaffold names"
   ]
  },
  {
   "cell_type": "code",
   "execution_count": 11,
   "id": "173b177a-38e0-4eb4-91d7-7fc1f4fe4ec9",
   "metadata": {},
   "outputs": [
    {
     "name": "stdout",
     "output_type": "stream",
     "text": [
      "# After running Samba and TGSGpaCloser, the output: /drives/raid/AboobakerLab/manuel/data_phaw_analysis/asm_gap_filling/TGS-GapCloser_anlysis/sambaAsm_analysis/phaw_sambaAsm.scaff_seqs contained special characters.\n",
      "# I used this ruby script to edit those names and generate the final assembly ouput Phaw5.1\n",
      "\n",
      "##Before running the code below, convert gap-filled genome fasta file into tab-delimited file using: /drives/ssd1/manuel/FastaToTbl.sh phaw_sambaAsm.scaff_seqs > phaw_sambaAsm.scaff_seqs.tbl\n",
      "\n",
      "count=1\n",
      "\n",
      "File.open(\"phaw_sambaAsm.scaff_seqs.tbl\",\"r\").each do |line|\n",
      "    if line.split(\"\\t\")[0].include?(\":\") \n",
      "        #puts #line.split(\"\\t\")[0] + \"\\t\" \"Scaffold_N\" + count.to_s\n",
      "        puts \"Scaffold_N\" + count.to_s  + \"\\t\" + line.chomp.split(\"\\t\")[1]\n",
      "        count += 1\n",
      "    else\n",
      "        puts line#.split(\"\\t\")[0]\n",
      "    end\n",
      "end\n",
      "\n",
      "#Output: /drives/ssd1/manuel/phaw/2022_analysis/phaw_gapfilling/TGS-GapCloser_anlysis/results_sambaAsm/change_scafNames/phaw_sambaAsm.scaff_seqs_editedScafNames.fa, which depicted Phaw5.1 assembly used in downstream analyses\n"
     ]
    }
   ],
   "source": [
    "%%bash\n",
    "\n",
    "cd ./scripts\n",
    "less 3_edit_scaffold_names.rb"
   ]
  },
  {
   "cell_type": "code",
   "execution_count": 2,
   "id": "a1dabce1-9ec7-4af8-85a0-93f43593b505",
   "metadata": {
    "tags": []
   },
   "outputs": [
    {
     "name": "stdout",
     "output_type": "stream",
     "text": [
      "#Commands used to identify gaps in Phaw5.0 and Phaw5.1 assemblies\n",
      "##Command source: scaffoldgap2bed.py {genome} (https://github.com/lexnederbragt/sequencetools)\n",
      "\n",
      "##Run command on Phaw5.0\n",
      "nohup python3 /PATH/scaffoldgap2bed.py -i /drives/raid/AboobakerLab/manuel/data_phaw_analysis/phaw_reference/parhyale_hawaiensis_15Feb20182_1IWOV.fa -m 10 > parhyale_hawaiensis_15Feb20182_1IWOV.fa.bed &\n",
      "\n",
      "##Run command on Phaw5.1\n",
      "nohup python3 /PATH/scaffoldgap2bed.py -i /drives/ssd1/manuel/phaw/2022_analysis/phaw_gapfilling/TGS-GapCloser_anlysis/results_sambaAsm/change_scafNames/phaw_sambaAsm.scaff_seqs_editedScafNames.fa -m 10 > phaw_sambaAsm.scaff_seqs_editedScafNames.bed &\n",
      "\n",
      "Scaffold_2;HRSCAF=42\t1275\t3240\tgap\n",
      "Scaffold_2;HRSCAF=42\t3413\t3513\tgap\n",
      "Scaffold_3;HRSCAF=66\t7071\t7908\tgap\n",
      "Scaffold_3;HRSCAF=66\t8089\t8189\tgap\n",
      "Scaffold_7;HRSCAF=96\t994\t2691\tgap\n",
      "Scaffold_7;HRSCAF=96\t2823\t2923\tgap\n",
      "Scaffold_8;HRSCAF=132\t9503\t9952\tgap\n",
      "Scaffold_8;HRSCAF=132\t11420\t14944\tgap\n",
      "Scaffold_8;HRSCAF=132\t15854\t16800\tgap\n",
      "Scaffold_8;HRSCAF=132\t24426\t26912\tgap\n",
      "\n",
      "Scaffold_N1\t144507\t144607\tgap\n",
      "Scaffold_N1\t148787\t154627\tgap\n",
      "Scaffold_N1\t167611\t170185\tgap\n",
      "Scaffold_N1\t173247\t173347\tgap\n",
      "Scaffold_N1\t175029\t175129\tgap\n",
      "Scaffold_N1\t207639\t207739\tgap\n",
      "Scaffold_N1\t209236\t209336\tgap\n",
      "Scaffold_N1\t210546\t210646\tgap\n",
      "Scaffold_N1\t276678\t276778\tgap\n",
      "Scaffold_N1\t334303\t334403\tgap\n"
     ]
    }
   ],
   "source": [
    "%%bash\n",
    "\n",
    "cd ./scripts\n",
    "less 4_IdentifyGaps.sh\n",
    "\n",
    "#See gaps identified in Phaw5.0\n",
    "head /drives/ssd1/manuel/phaw/2022_analysis/phaw_gapfilling/TGS-GapCloser_anlysis/results_fullAsm_stats/parhyale_hawaiensis_15Feb20182_1IWOV.fa.bed\n",
    "\n",
    "echo \"\"\n",
    "\n",
    "#See gaps identified in Phaw5.1\n",
    "head /drives/ssd1/manuel/phaw/2022_analysis/phaw_gapfilling/TGS-GapCloser_anlysis/results_sambaAsm/phaw_sambaAsm.scaff_seqs_editedScafNames.bed"
   ]
  },
  {
   "cell_type": "code",
   "execution_count": 34,
   "id": "33e986e9-f699-40bf-a297-1a6750c1236e",
   "metadata": {},
   "outputs": [
    {
     "name": "stdout",
     "output_type": "stream",
     "text": [
      "#!/bin/bash \n",
      "\n",
      "#Script to run busco analysis on phaw genome assembly\n",
      "\n",
      "#Run busco on Phaw 5.0\n",
      "\n",
      "if [ \"$1\" == \"ref_assembly\" ]; then\n",
      "\n",
      "busco -i /drives/raid/AboobakerLab/manuel/data_phaw_analysis/phaw_reference/parhyale_hawaiensis_15Feb20182_1IWOV.fa -l arthropoda_odb10 --mode genome --cpu 16 -f --augustus -o ./busco_results_phaw5.0 \n",
      "\n",
      "fi\n",
      "\n",
      "#Run busco on Phaw 5.1\n",
      "if [ \"$1\" == \"gappfilled_assembly\" ]; then\n",
      "\n",
      "busco -i /drives/ssd1/manuel/phaw/2022_analysis/phaw_gapfilling/TGS-GapCloser_anlysis/results_sambaAsm/change_scafNames/phaw_sambaAsm.scaff_seqs_editedScafNames.fa -l arthropoda_odb10 --mode genome --cpu 16 -f --augustus -o ./busco_results_phaw5.1\n",
      "\n",
      "fi\n"
     ]
    }
   ],
   "source": [
    "%%bash\n",
    "\n",
    "cd ./scripts\n",
    "less 6_run_busco.sh"
   ]
  }
 ],
 "metadata": {
  "kernelspec": {
   "display_name": "Python 3",
   "language": "python",
   "name": "python3"
  },
  "language_info": {
   "codemirror_mode": {
    "name": "ipython",
    "version": 3
   },
   "file_extension": ".py",
   "mimetype": "text/x-python",
   "name": "python",
   "nbconvert_exporter": "python",
   "pygments_lexer": "ipython3",
   "version": "3.9.2"
  }
 },
 "nbformat": 4,
 "nbformat_minor": 5
}
